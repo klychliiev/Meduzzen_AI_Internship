{
 "cells": [
  {
   "cell_type": "code",
   "execution_count": 1,
   "metadata": {},
   "outputs": [
    {
     "data": {
      "text/plain": [
       "'3.7.2'"
      ]
     },
     "execution_count": 1,
     "metadata": {},
     "output_type": "execute_result"
    }
   ],
   "source": [
    "import spacy \n",
    "\n",
    "spacy.__version__"
   ]
  },
  {
   "cell_type": "code",
   "execution_count": 2,
   "metadata": {},
   "outputs": [],
   "source": [
    "nlp = spacy.load(\"en_core_web_sm\")"
   ]
  },
  {
   "cell_type": "code",
   "execution_count": 3,
   "metadata": {},
   "outputs": [
    {
     "data": {
      "text/plain": [
       "<spacy.lang.en.English at 0x7f4c81a5b910>"
      ]
     },
     "execution_count": 3,
     "metadata": {},
     "output_type": "execute_result"
    }
   ],
   "source": [
    "nlp"
   ]
  },
  {
   "cell_type": "markdown",
   "metadata": {},
   "source": [
    "Word tokenization"
   ]
  },
  {
   "cell_type": "code",
   "execution_count": 4,
   "metadata": {},
   "outputs": [
    {
     "name": "stdout",
     "output_type": "stream",
     "text": [
      "<class 'str'>\n",
      "<class 'spacy.tokens.doc.Doc'>\n"
     ]
    }
   ],
   "source": [
    "doc = \"Whenever I go jogging, I turn Rammstein on.\"\n",
    "doc_nlp = nlp(doc)\n",
    "\n",
    "print(type(doc))\n",
    "print(type(doc_nlp))"
   ]
  },
  {
   "cell_type": "code",
   "execution_count": 5,
   "metadata": {},
   "outputs": [
    {
     "data": {
      "text/plain": [
       "['Whenever', 'I', 'go', 'jogging', ',', 'I', 'turn', 'Rammstein', 'on', '.']"
      ]
     },
     "execution_count": 5,
     "metadata": {},
     "output_type": "execute_result"
    }
   ],
   "source": [
    "[token.text for token in doc_nlp]"
   ]
  },
  {
   "cell_type": "markdown",
   "metadata": {},
   "source": [
    "Sentence detection"
   ]
  },
  {
   "cell_type": "code",
   "execution_count": 13,
   "metadata": {},
   "outputs": [
    {
     "data": {
      "text/plain": [
       "'The sun peeked through the clouds, casting a warm glow over the tranquil meadow. Birds chirped melodiously, creating a symphony that echoed through the trees. The scent of freshly cut grass mingled with the sweet fragrance of blooming flowers, creating a delightful aroma in the air. A gentle breeze danced through the leaves, causing them to rustle softly. In that serene moment, everything felt harmonious and alive, embracing the beauty of nature.'"
      ]
     },
     "execution_count": 13,
     "metadata": {},
     "output_type": "execute_result"
    }
   ],
   "source": [
    "text = \"\"\"The sun peeked through the clouds, casting a warm glow over the tranquil meadow. \\\n",
    "Birds chirped melodiously, creating a symphony that echoed through the trees. \\\n",
    "The scent of freshly cut grass mingled with the sweet fragrance of blooming flowers, \\\n",
    "creating a delightful aroma in the air. A gentle breeze danced through the leaves, \\\n",
    "causing them to rustle softly. In that serene moment, everything felt harmonious and alive, embracing the beauty of nature.\"\"\" \n",
    "\n",
    "text"
   ]
  },
  {
   "cell_type": "code",
   "execution_count": 14,
   "metadata": {},
   "outputs": [
    {
     "data": {
      "text/plain": [
       "5"
      ]
     },
     "execution_count": 14,
     "metadata": {},
     "output_type": "execute_result"
    }
   ],
   "source": [
    "text_nlp = nlp(text)\n",
    "sentences = list(text_nlp.sents)\n",
    "len(sentences)"
   ]
  },
  {
   "cell_type": "code",
   "execution_count": 18,
   "metadata": {},
   "outputs": [
    {
     "name": "stdout",
     "output_type": "stream",
     "text": [
      "1. The sun peeked through the clouds, casting a warm glow over the tranquil meadow.\n",
      "2. Birds chirped melodiously, creating a symphony that echoed through the trees.\n",
      "3. The scent of freshly cut grass mingled with the sweet fragrance of blooming flowers, creating a delightful aroma in the air.\n",
      "4. A gentle breeze danced through the leaves, causing them to rustle softly.\n",
      "5. In that serene moment, everything felt harmonious and alive, embracing the beauty of nature.\n"
     ]
    }
   ],
   "source": [
    "for idx, sent in enumerate(sentences):\n",
    "    print(f\"{idx+1}.\" ,sent)"
   ]
  },
  {
   "cell_type": "code",
   "execution_count": 22,
   "metadata": {},
   "outputs": [],
   "source": [
    "# index positioning \n",
    "\n",
    "data = []\n",
    "columns = ['token', 'start_index', 'is_alpha', 'is_stop_word']\n",
    "\n",
    "for token in text_nlp:\n",
    "    to_add = (token, token.idx, token.is_alpha, token.is_stop)\n",
    "    data.append(to_add) \n"
   ]
  },
  {
   "cell_type": "code",
   "execution_count": 24,
   "metadata": {},
   "outputs": [
    {
     "data": {
      "text/plain": [
       "[(The, 0, True, True),\n",
       " (sun, 4, True, False),\n",
       " (peeked, 8, True, False),\n",
       " (through, 15, True, True),\n",
       " (the, 23, True, True),\n",
       " (clouds, 27, True, False),\n",
       " (,, 33, False, False),\n",
       " (casting, 35, True, False),\n",
       " (a, 43, True, True),\n",
       " (warm, 45, True, False),\n",
       " (glow, 50, True, False),\n",
       " (over, 55, True, True),\n",
       " (the, 60, True, True),\n",
       " (tranquil, 64, True, False),\n",
       " (meadow, 73, True, False),\n",
       " (., 79, False, False),\n",
       " (Birds, 81, True, False),\n",
       " (chirped, 87, True, False),\n",
       " (melodiously, 95, True, False),\n",
       " (,, 106, False, False),\n",
       " (creating, 108, True, False),\n",
       " (a, 117, True, True),\n",
       " (symphony, 119, True, False),\n",
       " (that, 128, True, True),\n",
       " (echoed, 133, True, False),\n",
       " (through, 140, True, True),\n",
       " (the, 148, True, True),\n",
       " (trees, 152, True, False),\n",
       " (., 157, False, False),\n",
       " (The, 159, True, True),\n",
       " (scent, 163, True, False),\n",
       " (of, 169, True, True),\n",
       " (freshly, 172, True, False),\n",
       " (cut, 180, True, False),\n",
       " (grass, 184, True, False),\n",
       " (mingled, 190, True, False),\n",
       " (with, 198, True, True),\n",
       " (the, 203, True, True),\n",
       " (sweet, 207, True, False),\n",
       " (fragrance, 213, True, False),\n",
       " (of, 223, True, True),\n",
       " (blooming, 226, True, False),\n",
       " (flowers, 235, True, False),\n",
       " (,, 242, False, False),\n",
       " (creating, 244, True, False),\n",
       " (a, 253, True, True),\n",
       " (delightful, 255, True, False),\n",
       " (aroma, 266, True, False),\n",
       " (in, 272, True, True),\n",
       " (the, 275, True, True),\n",
       " (air, 279, True, False),\n",
       " (., 282, False, False),\n",
       " (A, 284, True, True),\n",
       " (gentle, 286, True, False),\n",
       " (breeze, 293, True, False),\n",
       " (danced, 300, True, False),\n",
       " (through, 307, True, True),\n",
       " (the, 315, True, True),\n",
       " (leaves, 319, True, False),\n",
       " (,, 325, False, False),\n",
       " (causing, 327, True, False),\n",
       " (them, 335, True, True),\n",
       " (to, 340, True, True),\n",
       " (rustle, 343, True, False),\n",
       " (softly, 350, True, False),\n",
       " (., 356, False, False),\n",
       " (In, 358, True, True),\n",
       " (that, 361, True, True),\n",
       " (serene, 366, True, False),\n",
       " (moment, 373, True, False),\n",
       " (,, 379, False, False),\n",
       " (everything, 381, True, True),\n",
       " (felt, 392, True, False),\n",
       " (harmonious, 397, True, False),\n",
       " (and, 408, True, True),\n",
       " (alive, 412, True, False),\n",
       " (,, 417, False, False),\n",
       " (embracing, 419, True, False),\n",
       " (the, 429, True, True),\n",
       " (beauty, 433, True, False),\n",
       " (of, 440, True, True),\n",
       " (nature, 443, True, False),\n",
       " (., 449, False, False)]"
      ]
     },
     "execution_count": 24,
     "metadata": {},
     "output_type": "execute_result"
    }
   ],
   "source": [
    "data"
   ]
  },
  {
   "cell_type": "code",
   "execution_count": 26,
   "metadata": {},
   "outputs": [],
   "source": [
    "import pandas as pd \n",
    "\n",
    "df = pd.DataFrame(data, columns=columns)"
   ]
  },
  {
   "cell_type": "code",
   "execution_count": 27,
   "metadata": {},
   "outputs": [
    {
     "data": {
      "text/html": [
       "<div>\n",
       "<style scoped>\n",
       "    .dataframe tbody tr th:only-of-type {\n",
       "        vertical-align: middle;\n",
       "    }\n",
       "\n",
       "    .dataframe tbody tr th {\n",
       "        vertical-align: top;\n",
       "    }\n",
       "\n",
       "    .dataframe thead th {\n",
       "        text-align: right;\n",
       "    }\n",
       "</style>\n",
       "<table border=\"1\" class=\"dataframe\">\n",
       "  <thead>\n",
       "    <tr style=\"text-align: right;\">\n",
       "      <th></th>\n",
       "      <th>token</th>\n",
       "      <th>start_index</th>\n",
       "      <th>is_alpha</th>\n",
       "      <th>is_stop_word</th>\n",
       "    </tr>\n",
       "  </thead>\n",
       "  <tbody>\n",
       "    <tr>\n",
       "      <th>0</th>\n",
       "      <td>The</td>\n",
       "      <td>0</td>\n",
       "      <td>True</td>\n",
       "      <td>True</td>\n",
       "    </tr>\n",
       "    <tr>\n",
       "      <th>1</th>\n",
       "      <td>sun</td>\n",
       "      <td>4</td>\n",
       "      <td>True</td>\n",
       "      <td>False</td>\n",
       "    </tr>\n",
       "    <tr>\n",
       "      <th>2</th>\n",
       "      <td>peeked</td>\n",
       "      <td>8</td>\n",
       "      <td>True</td>\n",
       "      <td>False</td>\n",
       "    </tr>\n",
       "    <tr>\n",
       "      <th>3</th>\n",
       "      <td>through</td>\n",
       "      <td>15</td>\n",
       "      <td>True</td>\n",
       "      <td>True</td>\n",
       "    </tr>\n",
       "    <tr>\n",
       "      <th>4</th>\n",
       "      <td>the</td>\n",
       "      <td>23</td>\n",
       "      <td>True</td>\n",
       "      <td>True</td>\n",
       "    </tr>\n",
       "    <tr>\n",
       "      <th>...</th>\n",
       "      <td>...</td>\n",
       "      <td>...</td>\n",
       "      <td>...</td>\n",
       "      <td>...</td>\n",
       "    </tr>\n",
       "    <tr>\n",
       "      <th>78</th>\n",
       "      <td>the</td>\n",
       "      <td>429</td>\n",
       "      <td>True</td>\n",
       "      <td>True</td>\n",
       "    </tr>\n",
       "    <tr>\n",
       "      <th>79</th>\n",
       "      <td>beauty</td>\n",
       "      <td>433</td>\n",
       "      <td>True</td>\n",
       "      <td>False</td>\n",
       "    </tr>\n",
       "    <tr>\n",
       "      <th>80</th>\n",
       "      <td>of</td>\n",
       "      <td>440</td>\n",
       "      <td>True</td>\n",
       "      <td>True</td>\n",
       "    </tr>\n",
       "    <tr>\n",
       "      <th>81</th>\n",
       "      <td>nature</td>\n",
       "      <td>443</td>\n",
       "      <td>True</td>\n",
       "      <td>False</td>\n",
       "    </tr>\n",
       "    <tr>\n",
       "      <th>82</th>\n",
       "      <td>.</td>\n",
       "      <td>449</td>\n",
       "      <td>False</td>\n",
       "      <td>False</td>\n",
       "    </tr>\n",
       "  </tbody>\n",
       "</table>\n",
       "<p>83 rows × 4 columns</p>\n",
       "</div>"
      ],
      "text/plain": [
       "      token  start_index  is_alpha  is_stop_word\n",
       "0       The            0      True          True\n",
       "1       sun            4      True         False\n",
       "2    peeked            8      True         False\n",
       "3   through           15      True          True\n",
       "4       the           23      True          True\n",
       "..      ...          ...       ...           ...\n",
       "78      the          429      True          True\n",
       "79   beauty          433      True         False\n",
       "80       of          440      True          True\n",
       "81   nature          443      True         False\n",
       "82        .          449     False         False\n",
       "\n",
       "[83 rows x 4 columns]"
      ]
     },
     "execution_count": 27,
     "metadata": {},
     "output_type": "execute_result"
    }
   ],
   "source": [
    "df"
   ]
  },
  {
   "cell_type": "markdown",
   "metadata": {},
   "source": [
    "Stop words "
   ]
  },
  {
   "cell_type": "markdown",
   "metadata": {},
   "source": []
  }
 ],
 "metadata": {
  "kernelspec": {
   "display_name": "Python 3",
   "language": "python",
   "name": "python3"
  },
  "language_info": {
   "codemirror_mode": {
    "name": "ipython",
    "version": 3
   },
   "file_extension": ".py",
   "mimetype": "text/x-python",
   "name": "python",
   "nbconvert_exporter": "python",
   "pygments_lexer": "ipython3",
   "version": "3.10.12"
  }
 },
 "nbformat": 4,
 "nbformat_minor": 2
}
