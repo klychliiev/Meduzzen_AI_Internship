{
 "cells": [
  {
   "cell_type": "markdown",
   "metadata": {},
   "source": [
    "## Intro"
   ]
  },
  {
   "cell_type": "markdown",
   "metadata": {},
   "source": [
    "In this notebook, we'll try using different traditional ML algorithms to solve the emails classification challenge. For this task, we'll take 6 categories into consideration.\n",
    "\n",
    "Categories:\n",
    "1) Rechnungen \n",
    "2) Mahnungen \n",
    "3) Vertraege und Vereinbarun \n",
    "4) Storno \n",
    "5) Aktivierung Sim \n",
    "6) Tarife \n",
    "\n",
    "The approches we'll use are SVM, Logistic regression, Random forest, and MultinomialNB"
   ]
  },
  {
   "cell_type": "markdown",
   "metadata": {},
   "source": [
    "## Manage directories"
   ]
  },
  {
   "cell_type": "code",
   "execution_count": 1,
   "metadata": {},
   "outputs": [],
   "source": [
    "import os"
   ]
  },
  {
   "cell_type": "code",
   "execution_count": 2,
   "metadata": {},
   "outputs": [],
   "source": [
    "dataset_path = \"short_dataset.csv\""
   ]
  },
  {
   "cell_type": "markdown",
   "metadata": {},
   "source": [
    "## EDA"
   ]
  },
  {
   "cell_type": "code",
   "execution_count": 52,
   "metadata": {},
   "outputs": [
    {
     "data": {
      "text/plain": [
       "'2.1.0'"
      ]
     },
     "execution_count": 52,
     "metadata": {},
     "output_type": "execute_result"
    }
   ],
   "source": [
    "import pandas as pd \n",
    "\n",
    "pd.__version__"
   ]
  },
  {
   "cell_type": "code",
   "execution_count": 53,
   "metadata": {},
   "outputs": [],
   "source": [
    "# converting csv file to pandas dataframe \n",
    "df = pd.read_csv(dataset_path)"
   ]
  },
  {
   "cell_type": "code",
   "execution_count": 54,
   "metadata": {},
   "outputs": [
    {
     "data": {
      "text/html": [
       "<div>\n",
       "<style scoped>\n",
       "    .dataframe tbody tr th:only-of-type {\n",
       "        vertical-align: middle;\n",
       "    }\n",
       "\n",
       "    .dataframe tbody tr th {\n",
       "        vertical-align: top;\n",
       "    }\n",
       "\n",
       "    .dataframe thead th {\n",
       "        text-align: right;\n",
       "    }\n",
       "</style>\n",
       "<table border=\"1\" class=\"dataframe\">\n",
       "  <thead>\n",
       "    <tr style=\"text-align: right;\">\n",
       "      <th></th>\n",
       "      <th>Unnamed: 0</th>\n",
       "      <th>Category</th>\n",
       "      <th>Content</th>\n",
       "    </tr>\n",
       "  </thead>\n",
       "  <tbody>\n",
       "    <tr>\n",
       "      <th>0</th>\n",
       "      <td>0</td>\n",
       "      <td>TARIFE</td>\n",
       "      <td>An:\\tKUNDENSERVICE@EPLUS\\nKopie:\\t \\nDatum:\\t0...</td>\n",
       "    </tr>\n",
       "    <tr>\n",
       "      <th>1</th>\n",
       "      <td>1</td>\n",
       "      <td>TARIFE</td>\n",
       "      <td>An:\\tKUNDENSERVICE@EPLUS\\nKopie:\\t \\nDatum:\\t3...</td>\n",
       "    </tr>\n",
       "    <tr>\n",
       "      <th>2</th>\n",
       "      <td>2</td>\n",
       "      <td>TARIFE</td>\n",
       "      <td>An:\\tKUNDENSERVICE@EPLUS\\nKopie:\\t \\nDatum:\\t2...</td>\n",
       "    </tr>\n",
       "    <tr>\n",
       "      <th>3</th>\n",
       "      <td>3</td>\n",
       "      <td>TARIFE</td>\n",
       "      <td>An:\\tKUNDENSERVICE@EPLUS\\nKopie:\\t \\nDatum:\\t2...</td>\n",
       "    </tr>\n",
       "    <tr>\n",
       "      <th>4</th>\n",
       "      <td>4</td>\n",
       "      <td>TARIFE</td>\n",
       "      <td>An:\\tKUNDENSERVICE@EPLUS\\nKopie:\\t \\nDatum:\\t3...</td>\n",
       "    </tr>\n",
       "  </tbody>\n",
       "</table>\n",
       "</div>"
      ],
      "text/plain": [
       "   Unnamed: 0 Category                                            Content\n",
       "0           0   TARIFE  An:\\tKUNDENSERVICE@EPLUS\\nKopie:\\t \\nDatum:\\t0...\n",
       "1           1   TARIFE  An:\\tKUNDENSERVICE@EPLUS\\nKopie:\\t \\nDatum:\\t3...\n",
       "2           2   TARIFE  An:\\tKUNDENSERVICE@EPLUS\\nKopie:\\t \\nDatum:\\t2...\n",
       "3           3   TARIFE  An:\\tKUNDENSERVICE@EPLUS\\nKopie:\\t \\nDatum:\\t2...\n",
       "4           4   TARIFE  An:\\tKUNDENSERVICE@EPLUS\\nKopie:\\t \\nDatum:\\t3..."
      ]
     },
     "execution_count": 54,
     "metadata": {},
     "output_type": "execute_result"
    }
   ],
   "source": [
    "df.head()"
   ]
  },
  {
   "cell_type": "code",
   "execution_count": 55,
   "metadata": {},
   "outputs": [],
   "source": [
    "df = df.drop('Unnamed: 0', axis=1)"
   ]
  },
  {
   "cell_type": "code",
   "execution_count": 56,
   "metadata": {},
   "outputs": [
    {
     "data": {
      "text/html": [
       "<div>\n",
       "<style scoped>\n",
       "    .dataframe tbody tr th:only-of-type {\n",
       "        vertical-align: middle;\n",
       "    }\n",
       "\n",
       "    .dataframe tbody tr th {\n",
       "        vertical-align: top;\n",
       "    }\n",
       "\n",
       "    .dataframe thead th {\n",
       "        text-align: right;\n",
       "    }\n",
       "</style>\n",
       "<table border=\"1\" class=\"dataframe\">\n",
       "  <thead>\n",
       "    <tr style=\"text-align: right;\">\n",
       "      <th></th>\n",
       "      <th>Category</th>\n",
       "      <th>Content</th>\n",
       "    </tr>\n",
       "  </thead>\n",
       "  <tbody>\n",
       "    <tr>\n",
       "      <th>0</th>\n",
       "      <td>TARIFE</td>\n",
       "      <td>An:\\tKUNDENSERVICE@EPLUS\\nKopie:\\t \\nDatum:\\t0...</td>\n",
       "    </tr>\n",
       "    <tr>\n",
       "      <th>1</th>\n",
       "      <td>TARIFE</td>\n",
       "      <td>An:\\tKUNDENSERVICE@EPLUS\\nKopie:\\t \\nDatum:\\t3...</td>\n",
       "    </tr>\n",
       "    <tr>\n",
       "      <th>2</th>\n",
       "      <td>TARIFE</td>\n",
       "      <td>An:\\tKUNDENSERVICE@EPLUS\\nKopie:\\t \\nDatum:\\t2...</td>\n",
       "    </tr>\n",
       "    <tr>\n",
       "      <th>3</th>\n",
       "      <td>TARIFE</td>\n",
       "      <td>An:\\tKUNDENSERVICE@EPLUS\\nKopie:\\t \\nDatum:\\t2...</td>\n",
       "    </tr>\n",
       "    <tr>\n",
       "      <th>4</th>\n",
       "      <td>TARIFE</td>\n",
       "      <td>An:\\tKUNDENSERVICE@EPLUS\\nKopie:\\t \\nDatum:\\t3...</td>\n",
       "    </tr>\n",
       "  </tbody>\n",
       "</table>\n",
       "</div>"
      ],
      "text/plain": [
       "  Category                                            Content\n",
       "0   TARIFE  An:\\tKUNDENSERVICE@EPLUS\\nKopie:\\t \\nDatum:\\t0...\n",
       "1   TARIFE  An:\\tKUNDENSERVICE@EPLUS\\nKopie:\\t \\nDatum:\\t3...\n",
       "2   TARIFE  An:\\tKUNDENSERVICE@EPLUS\\nKopie:\\t \\nDatum:\\t2...\n",
       "3   TARIFE  An:\\tKUNDENSERVICE@EPLUS\\nKopie:\\t \\nDatum:\\t2...\n",
       "4   TARIFE  An:\\tKUNDENSERVICE@EPLUS\\nKopie:\\t \\nDatum:\\t3..."
      ]
     },
     "execution_count": 56,
     "metadata": {},
     "output_type": "execute_result"
    }
   ],
   "source": [
    "df.head()"
   ]
  },
  {
   "cell_type": "code",
   "execution_count": 57,
   "metadata": {},
   "outputs": [
    {
     "name": "stdout",
     "output_type": "stream",
     "text": [
      "An:\tKUNDENSERVICE@EPLUS\n",
      "Kopie:\t \n",
      "Datum:\t06.06.2001 08:46:53\n",
      "Betreff:\tE-Mail Beantwortung\n",
      "\n",
      "\t  \n",
      "\n",
      "\n",
      "\n",
      "Anrede         : Frau\n",
      "Name           : Sim Karte Gesperrt Thielsch Kai\n",
      "Handyrufnummer : 49 178 8820181\n",
      "Account Nummer :\n",
      "Handymodell    : 6150\n",
      "Provider       : E-Plus Service\n",
      "Email          : kaithielsch@gmx.de\n",
      "-------------------------------------\n",
      "Nachricht      : Liebes e plus Team\n",
      "Ich habe aus versehen meinen Pin und den darauffolgenden \"puk\" falsch \n",
      "eingegeben\n",
      "Nun ist meine sim karte gesperrt\n",
      "Wie kann ich einen neuen Pin bekommen damit mein handy wieder \n",
      "einsatzbereit ist??\n",
      "\n",
      "Vielen dank im vorraus\n",
      "Mit freundlichen grüßen\n",
      "Kai Thielsch\n",
      "-------------------------------------\n",
      "--444043493.991813613145.JavaMail.nsuser@apps3mn1--\n",
      "\n",
      "\n"
     ]
    }
   ],
   "source": [
    "print(df['Content'][0])"
   ]
  },
  {
   "cell_type": "code",
   "execution_count": 58,
   "metadata": {},
   "outputs": [
    {
     "name": "stdout",
     "output_type": "stream",
     "text": [
      "TARIFE\n"
     ]
    }
   ],
   "source": [
    "print(df['Category'][0])"
   ]
  },
  {
   "cell_type": "markdown",
   "metadata": {},
   "source": [
    "The category of the email above is TARIFE"
   ]
  },
  {
   "cell_type": "markdown",
   "metadata": {},
   "source": [
    "Now, we need to shuffle the dataset in order to avoid sample selection bias."
   ]
  },
  {
   "cell_type": "code",
   "execution_count": 59,
   "metadata": {},
   "outputs": [],
   "source": [
    "df = df.sample(frac=1)"
   ]
  },
  {
   "cell_type": "code",
   "execution_count": 60,
   "metadata": {},
   "outputs": [
    {
     "data": {
      "text/html": [
       "<div>\n",
       "<style scoped>\n",
       "    .dataframe tbody tr th:only-of-type {\n",
       "        vertical-align: middle;\n",
       "    }\n",
       "\n",
       "    .dataframe tbody tr th {\n",
       "        vertical-align: top;\n",
       "    }\n",
       "\n",
       "    .dataframe thead th {\n",
       "        text-align: right;\n",
       "    }\n",
       "</style>\n",
       "<table border=\"1\" class=\"dataframe\">\n",
       "  <thead>\n",
       "    <tr style=\"text-align: right;\">\n",
       "      <th></th>\n",
       "      <th>Category</th>\n",
       "      <th>Content</th>\n",
       "    </tr>\n",
       "  </thead>\n",
       "  <tbody>\n",
       "    <tr>\n",
       "      <th>4</th>\n",
       "      <td>TARIFE</td>\n",
       "      <td>An:\\tKUNDENSERVICE@EPLUS\\nKopie:\\t \\nDatum:\\t3...</td>\n",
       "    </tr>\n",
       "    <tr>\n",
       "      <th>142</th>\n",
       "      <td>RECHNUNGEN</td>\n",
       "      <td>An:\\tKUNDENSERVICE@EPLUS\\nKopie:\\t \\nDatum:\\t1...</td>\n",
       "    </tr>\n",
       "    <tr>\n",
       "      <th>133</th>\n",
       "      <td>RECHNUNGEN</td>\n",
       "      <td>An:\\tKUNDENSERVICE@EPLUS\\nKopie:\\t \\nDatum:\\t2...</td>\n",
       "    </tr>\n",
       "    <tr>\n",
       "      <th>285</th>\n",
       "      <td>VERTRAEGE_UND_VEREINBARUN</td>\n",
       "      <td>An:\\tKUNDENSERVICE@EPLUS\\nKopie:\\t \\nDatum:\\t1...</td>\n",
       "    </tr>\n",
       "    <tr>\n",
       "      <th>191</th>\n",
       "      <td>STORNO</td>\n",
       "      <td>An:\\tKUNDENSERVICE@EPLUS\\nKopie:\\t \\nDatum:\\t2...</td>\n",
       "    </tr>\n",
       "  </tbody>\n",
       "</table>\n",
       "</div>"
      ],
      "text/plain": [
       "                      Category  \\\n",
       "4                       TARIFE   \n",
       "142                 RECHNUNGEN   \n",
       "133                 RECHNUNGEN   \n",
       "285  VERTRAEGE_UND_VEREINBARUN   \n",
       "191                     STORNO   \n",
       "\n",
       "                                               Content  \n",
       "4    An:\\tKUNDENSERVICE@EPLUS\\nKopie:\\t \\nDatum:\\t3...  \n",
       "142  An:\\tKUNDENSERVICE@EPLUS\\nKopie:\\t \\nDatum:\\t1...  \n",
       "133  An:\\tKUNDENSERVICE@EPLUS\\nKopie:\\t \\nDatum:\\t2...  \n",
       "285  An:\\tKUNDENSERVICE@EPLUS\\nKopie:\\t \\nDatum:\\t1...  \n",
       "191  An:\\tKUNDENSERVICE@EPLUS\\nKopie:\\t \\nDatum:\\t2...  "
      ]
     },
     "execution_count": 60,
     "metadata": {},
     "output_type": "execute_result"
    }
   ],
   "source": [
    "df.head()"
   ]
  },
  {
   "cell_type": "code",
   "execution_count": 61,
   "metadata": {},
   "outputs": [],
   "source": [
    "# reset index \n",
    "df.reset_index(drop=True, inplace=True)"
   ]
  },
  {
   "cell_type": "code",
   "execution_count": 62,
   "metadata": {},
   "outputs": [
    {
     "data": {
      "text/html": [
       "<div>\n",
       "<style scoped>\n",
       "    .dataframe tbody tr th:only-of-type {\n",
       "        vertical-align: middle;\n",
       "    }\n",
       "\n",
       "    .dataframe tbody tr th {\n",
       "        vertical-align: top;\n",
       "    }\n",
       "\n",
       "    .dataframe thead th {\n",
       "        text-align: right;\n",
       "    }\n",
       "</style>\n",
       "<table border=\"1\" class=\"dataframe\">\n",
       "  <thead>\n",
       "    <tr style=\"text-align: right;\">\n",
       "      <th></th>\n",
       "      <th>Category</th>\n",
       "      <th>Content</th>\n",
       "    </tr>\n",
       "  </thead>\n",
       "  <tbody>\n",
       "    <tr>\n",
       "      <th>0</th>\n",
       "      <td>TARIFE</td>\n",
       "      <td>An:\\tKUNDENSERVICE@EPLUS\\nKopie:\\t \\nDatum:\\t3...</td>\n",
       "    </tr>\n",
       "    <tr>\n",
       "      <th>1</th>\n",
       "      <td>RECHNUNGEN</td>\n",
       "      <td>An:\\tKUNDENSERVICE@EPLUS\\nKopie:\\t \\nDatum:\\t1...</td>\n",
       "    </tr>\n",
       "    <tr>\n",
       "      <th>2</th>\n",
       "      <td>RECHNUNGEN</td>\n",
       "      <td>An:\\tKUNDENSERVICE@EPLUS\\nKopie:\\t \\nDatum:\\t2...</td>\n",
       "    </tr>\n",
       "    <tr>\n",
       "      <th>3</th>\n",
       "      <td>VERTRAEGE_UND_VEREINBARUN</td>\n",
       "      <td>An:\\tKUNDENSERVICE@EPLUS\\nKopie:\\t \\nDatum:\\t1...</td>\n",
       "    </tr>\n",
       "    <tr>\n",
       "      <th>4</th>\n",
       "      <td>STORNO</td>\n",
       "      <td>An:\\tKUNDENSERVICE@EPLUS\\nKopie:\\t \\nDatum:\\t2...</td>\n",
       "    </tr>\n",
       "  </tbody>\n",
       "</table>\n",
       "</div>"
      ],
      "text/plain": [
       "                    Category  \\\n",
       "0                     TARIFE   \n",
       "1                 RECHNUNGEN   \n",
       "2                 RECHNUNGEN   \n",
       "3  VERTRAEGE_UND_VEREINBARUN   \n",
       "4                     STORNO   \n",
       "\n",
       "                                             Content  \n",
       "0  An:\\tKUNDENSERVICE@EPLUS\\nKopie:\\t \\nDatum:\\t3...  \n",
       "1  An:\\tKUNDENSERVICE@EPLUS\\nKopie:\\t \\nDatum:\\t1...  \n",
       "2  An:\\tKUNDENSERVICE@EPLUS\\nKopie:\\t \\nDatum:\\t2...  \n",
       "3  An:\\tKUNDENSERVICE@EPLUS\\nKopie:\\t \\nDatum:\\t1...  \n",
       "4  An:\\tKUNDENSERVICE@EPLUS\\nKopie:\\t \\nDatum:\\t2...  "
      ]
     },
     "execution_count": 62,
     "metadata": {},
     "output_type": "execute_result"
    }
   ],
   "source": [
    "df.head()"
   ]
  },
  {
   "cell_type": "code",
   "execution_count": 63,
   "metadata": {},
   "outputs": [
    {
     "data": {
      "text/plain": [
       "Category    False\n",
       "Content     False\n",
       "dtype: bool"
      ]
     },
     "execution_count": 63,
     "metadata": {},
     "output_type": "execute_result"
    }
   ],
   "source": [
    "# checking for Null values\n",
    "df.isna().any()"
   ]
  },
  {
   "cell_type": "code",
   "execution_count": 64,
   "metadata": {},
   "outputs": [
    {
     "data": {
      "image/png": "[encoded data removed]",
      "text/plain": [
       "<Figure size 800x600 with 1 Axes>"
      ]
     },
     "metadata": {},
     "output_type": "display_data"
    }
   ],
   "source": [
    "import matplotlib.pyplot as plt \n",
    "\n",
    "# Count the occurrences of each class\n",
    "class_counts = df['Category'].value_counts()\n",
    "\n",
    "# Plotting the class distribution\n",
    "plt.figure(figsize=(8, 6))\n",
    "class_counts.plot(kind='bar', color=(0.01,0.01,0.31))\n",
    "plt.title('Class Distribution')\n",
    "plt.xlabel('Classes')\n",
    "plt.ylabel('Count')\n",
    "plt.xticks(rotation=90)  # Rotate x-axis labels if needed\n",
    "plt.show()"
   ]
  },
  {
   "cell_type": "markdown",
   "metadata": {},
   "source": [
    "We obviously deal with the dataset imbalance, and possible soultions are over- and undersampling, but as for now we ignore the fact."
   ]
  },
  {
   "cell_type": "code",
   "execution_count": 65,
   "metadata": {},
   "outputs": [],
   "source": [
    "from text_cleaning import fetch_body"
   ]
  },
  {
   "cell_type": "code",
   "execution_count": 67,
   "metadata": {},
   "outputs": [],
   "source": [
    "df['Email_body'] = df['Content'].apply(fetch_body)"
   ]
  },
  {
   "cell_type": "code",
   "execution_count": 68,
   "metadata": {},
   "outputs": [
    {
     "data": {
      "text/html": [
       "<div>\n",
       "<style scoped>\n",
       "    .dataframe tbody tr th:only-of-type {\n",
       "        vertical-align: middle;\n",
       "    }\n",
       "\n",
       "    .dataframe tbody tr th {\n",
       "        vertical-align: top;\n",
       "    }\n",
       "\n",
       "    .dataframe thead th {\n",
       "        text-align: right;\n",
       "    }\n",
       "</style>\n",
       "<table border=\"1\" class=\"dataframe\">\n",
       "  <thead>\n",
       "    <tr style=\"text-align: right;\">\n",
       "      <th></th>\n",
       "      <th>Category</th>\n",
       "      <th>Content</th>\n",
       "      <th>Email_body</th>\n",
       "    </tr>\n",
       "  </thead>\n",
       "  <tbody>\n",
       "    <tr>\n",
       "      <th>0</th>\n",
       "      <td>TARIFE</td>\n",
       "      <td>An:\\tKUNDENSERVICE@EPLUS\\nKopie:\\t \\nDatum:\\t3...</td>\n",
       "      <td>Sehr geehrte Damen und Herren ,  ich habe mein...</td>\n",
       "    </tr>\n",
       "    <tr>\n",
       "      <th>1</th>\n",
       "      <td>RECHNUNGEN</td>\n",
       "      <td>An:\\tKUNDENSERVICE@EPLUS\\nKopie:\\t \\nDatum:\\t1...</td>\n",
       "      <td>Bitte meine aktuellen Rechnungen Ohne Rufnumme...</td>\n",
       "    </tr>\n",
       "    <tr>\n",
       "      <th>2</th>\n",
       "      <td>RECHNUNGEN</td>\n",
       "      <td>An:\\tKUNDENSERVICE@EPLUS\\nKopie:\\t \\nDatum:\\t2...</td>\n",
       "      <td>Kundennummer:1415228  Ich habe zum Dezember 20...</td>\n",
       "    </tr>\n",
       "    <tr>\n",
       "      <th>3</th>\n",
       "      <td>VERTRAEGE_UND_VEREINBARUN</td>\n",
       "      <td>An:\\tKUNDENSERVICE@EPLUS\\nKopie:\\t \\nDatum:\\t1...</td>\n",
       "      <td>Hallo! Ich habe ein Firmenhandy, das darüber h...</td>\n",
       "    </tr>\n",
       "    <tr>\n",
       "      <th>4</th>\n",
       "      <td>STORNO</td>\n",
       "      <td>An:\\tKUNDENSERVICE@EPLUS\\nKopie:\\t \\nDatum:\\t2...</td>\n",
       "      <td>Kd-Nr: 4631281  Hallo E-Plus ServiceTeam,  ich...</td>\n",
       "    </tr>\n",
       "    <tr>\n",
       "      <th>...</th>\n",
       "      <td>...</td>\n",
       "      <td>...</td>\n",
       "      <td>...</td>\n",
       "    </tr>\n",
       "    <tr>\n",
       "      <th>360</th>\n",
       "      <td>AKTIVIERUNG_SIM</td>\n",
       "      <td>An:\\tKUNDENSERVICE@EPLUS\\nKopie:\\t \\nDatum:\\t2...</td>\n",
       "      <td>Beschwerde  Sehr geehrte Damen und Herren, es ...</td>\n",
       "    </tr>\n",
       "    <tr>\n",
       "      <th>361</th>\n",
       "      <td>RECHNUNGEN</td>\n",
       "      <td>An:\\tKUNDENSERVICE@EPLUS\\nKopie:\\t \\nDatum:\\t1...</td>\n",
       "      <td>Hallo eplus-Team!  Folgende Frage brennt mir a...</td>\n",
       "    </tr>\n",
       "    <tr>\n",
       "      <th>362</th>\n",
       "      <td>TARIFE</td>\n",
       "      <td>An:\\tKUNDENSERVICE@EPLUS\\nKopie:\\t \\nDatum:\\t2...</td>\n",
       "      <td>Sehr geehrtes E-Plus Team, in welchem Ihrer Ta...</td>\n",
       "    </tr>\n",
       "    <tr>\n",
       "      <th>363</th>\n",
       "      <td>TARIFE</td>\n",
       "      <td>An:\\tKUNDENSERVICE@EPLUS\\nKopie:\\t \\nDatum:\\t2...</td>\n",
       "      <td>Hallo, mein Tarif Professional XL, somit koste...</td>\n",
       "    </tr>\n",
       "    <tr>\n",
       "      <th>364</th>\n",
       "      <td>MAHNUNGEN</td>\n",
       "      <td>An:\\tKUNDENSERVICE@EPLUS\\nKopie:\\t \\nDatum:\\t0...</td>\n",
       "      <td>An:\\tKUNDENSERVICE@EPLUS Kopie:\\t  Datum:\\t09....</td>\n",
       "    </tr>\n",
       "  </tbody>\n",
       "</table>\n",
       "<p>365 rows × 3 columns</p>\n",
       "</div>"
      ],
      "text/plain": [
       "                      Category  \\\n",
       "0                       TARIFE   \n",
       "1                   RECHNUNGEN   \n",
       "2                   RECHNUNGEN   \n",
       "3    VERTRAEGE_UND_VEREINBARUN   \n",
       "4                       STORNO   \n",
       "..                         ...   \n",
       "360            AKTIVIERUNG_SIM   \n",
       "361                 RECHNUNGEN   \n",
       "362                     TARIFE   \n",
       "363                     TARIFE   \n",
       "364                  MAHNUNGEN   \n",
       "\n",
       "                                               Content  \\\n",
       "0    An:\\tKUNDENSERVICE@EPLUS\\nKopie:\\t \\nDatum:\\t3...   \n",
       "1    An:\\tKUNDENSERVICE@EPLUS\\nKopie:\\t \\nDatum:\\t1...   \n",
       "2    An:\\tKUNDENSERVICE@EPLUS\\nKopie:\\t \\nDatum:\\t2...   \n",
       "3    An:\\tKUNDENSERVICE@EPLUS\\nKopie:\\t \\nDatum:\\t1...   \n",
       "4    An:\\tKUNDENSERVICE@EPLUS\\nKopie:\\t \\nDatum:\\t2...   \n",
       "..                                                 ...   \n",
       "360  An:\\tKUNDENSERVICE@EPLUS\\nKopie:\\t \\nDatum:\\t2...   \n",
       "361  An:\\tKUNDENSERVICE@EPLUS\\nKopie:\\t \\nDatum:\\t1...   \n",
       "362  An:\\tKUNDENSERVICE@EPLUS\\nKopie:\\t \\nDatum:\\t2...   \n",
       "363  An:\\tKUNDENSERVICE@EPLUS\\nKopie:\\t \\nDatum:\\t2...   \n",
       "364  An:\\tKUNDENSERVICE@EPLUS\\nKopie:\\t \\nDatum:\\t0...   \n",
       "\n",
       "                                            Email_body  \n",
       "0    Sehr geehrte Damen und Herren ,  ich habe mein...  \n",
       "1    Bitte meine aktuellen Rechnungen Ohne Rufnumme...  \n",
       "2    Kundennummer:1415228  Ich habe zum Dezember 20...  \n",
       "3    Hallo! Ich habe ein Firmenhandy, das darüber h...  \n",
       "4    Kd-Nr: 4631281  Hallo E-Plus ServiceTeam,  ich...  \n",
       "..                                                 ...  \n",
       "360  Beschwerde  Sehr geehrte Damen und Herren, es ...  \n",
       "361  Hallo eplus-Team!  Folgende Frage brennt mir a...  \n",
       "362  Sehr geehrtes E-Plus Team, in welchem Ihrer Ta...  \n",
       "363  Hallo, mein Tarif Professional XL, somit koste...  \n",
       "364  An:\\tKUNDENSERVICE@EPLUS Kopie:\\t  Datum:\\t09....  \n",
       "\n",
       "[365 rows x 3 columns]"
      ]
     },
     "execution_count": 68,
     "metadata": {},
     "output_type": "execute_result"
    }
   ],
   "source": [
    "df"
   ]
  },
  {
   "cell_type": "code",
   "execution_count": 69,
   "metadata": {},
   "outputs": [
    {
     "name": "stdout",
     "output_type": "stream",
     "text": [
      "Bitte meine aktuellen Rechnungen Ohne Rufnummernanzeige \n"
     ]
    }
   ],
   "source": [
    "print(df['Email_body'][1])"
   ]
  },
  {
   "cell_type": "markdown",
   "metadata": {},
   "source": [
    "## Text cleaning"
   ]
  },
  {
   "cell_type": "code",
   "execution_count": 73,
   "metadata": {},
   "outputs": [],
   "source": [
    "from text_cleaning import preprocess_text"
   ]
  },
  {
   "cell_type": "code",
   "execution_count": 74,
   "metadata": {},
   "outputs": [],
   "source": [
    "df['Clean_texts'] = df['Email_body'].apply(preprocess_text)"
   ]
  },
  {
   "cell_type": "code",
   "execution_count": 75,
   "metadata": {},
   "outputs": [
    {
     "data": {
      "text/html": [
       "<div>\n",
       "<style scoped>\n",
       "    .dataframe tbody tr th:only-of-type {\n",
       "        vertical-align: middle;\n",
       "    }\n",
       "\n",
       "    .dataframe tbody tr th {\n",
       "        vertical-align: top;\n",
       "    }\n",
       "\n",
       "    .dataframe thead th {\n",
       "        text-align: right;\n",
       "    }\n",
       "</style>\n",
       "<table border=\"1\" class=\"dataframe\">\n",
       "  <thead>\n",
       "    <tr style=\"text-align: right;\">\n",
       "      <th></th>\n",
       "      <th>Category</th>\n",
       "      <th>Content</th>\n",
       "      <th>Email_body</th>\n",
       "      <th>Clean_texts</th>\n",
       "    </tr>\n",
       "  </thead>\n",
       "  <tbody>\n",
       "    <tr>\n",
       "      <th>0</th>\n",
       "      <td>TARIFE</td>\n",
       "      <td>An:\\tKUNDENSERVICE@EPLUS\\nKopie:\\t \\nDatum:\\t3...</td>\n",
       "      <td>Sehr geehrte Damen und Herren ,  ich habe mein...</td>\n",
       "      <td>geehrt dam herr kennwort vergessen gerne kopie...</td>\n",
       "    </tr>\n",
       "    <tr>\n",
       "      <th>1</th>\n",
       "      <td>RECHNUNGEN</td>\n",
       "      <td>An:\\tKUNDENSERVICE@EPLUS\\nKopie:\\t \\nDatum:\\t1...</td>\n",
       "      <td>Bitte meine aktuellen Rechnungen Ohne Rufnumme...</td>\n",
       "      <td>bitte aktuell rechnung rufnummernanzeig</td>\n",
       "    </tr>\n",
       "    <tr>\n",
       "      <th>2</th>\n",
       "      <td>RECHNUNGEN</td>\n",
       "      <td>An:\\tKUNDENSERVICE@EPLUS\\nKopie:\\t \\nDatum:\\t2...</td>\n",
       "      <td>Kundennummer:1415228  Ich habe zum Dezember 20...</td>\n",
       "      <td>kundennummer:1415228 dezember 2000 kündigen be...</td>\n",
       "    </tr>\n",
       "    <tr>\n",
       "      <th>3</th>\n",
       "      <td>VERTRAEGE_UND_VEREINBARUN</td>\n",
       "      <td>An:\\tKUNDENSERVICE@EPLUS\\nKopie:\\t \\nDatum:\\t1...</td>\n",
       "      <td>Hallo! Ich habe ein Firmenhandy, das darüber h...</td>\n",
       "      <td>hallo firmenhandy hinaus privat line obig nr b...</td>\n",
       "    </tr>\n",
       "    <tr>\n",
       "      <th>4</th>\n",
       "      <td>STORNO</td>\n",
       "      <td>An:\\tKUNDENSERVICE@EPLUS\\nKopie:\\t \\nDatum:\\t2...</td>\n",
       "      <td>Kd-Nr: 4631281  Hallo E-Plus ServiceTeam,  ich...</td>\n",
       "      <td>kd-nr 4631281 hallo e-plus serviceteam brief e...</td>\n",
       "    </tr>\n",
       "  </tbody>\n",
       "</table>\n",
       "</div>"
      ],
      "text/plain": [
       "                    Category  \\\n",
       "0                     TARIFE   \n",
       "1                 RECHNUNGEN   \n",
       "2                 RECHNUNGEN   \n",
       "3  VERTRAEGE_UND_VEREINBARUN   \n",
       "4                     STORNO   \n",
       "\n",
       "                                             Content  \\\n",
       "0  An:\\tKUNDENSERVICE@EPLUS\\nKopie:\\t \\nDatum:\\t3...   \n",
       "1  An:\\tKUNDENSERVICE@EPLUS\\nKopie:\\t \\nDatum:\\t1...   \n",
       "2  An:\\tKUNDENSERVICE@EPLUS\\nKopie:\\t \\nDatum:\\t2...   \n",
       "3  An:\\tKUNDENSERVICE@EPLUS\\nKopie:\\t \\nDatum:\\t1...   \n",
       "4  An:\\tKUNDENSERVICE@EPLUS\\nKopie:\\t \\nDatum:\\t2...   \n",
       "\n",
       "                                          Email_body  \\\n",
       "0  Sehr geehrte Damen und Herren ,  ich habe mein...   \n",
       "1  Bitte meine aktuellen Rechnungen Ohne Rufnumme...   \n",
       "2  Kundennummer:1415228  Ich habe zum Dezember 20...   \n",
       "3  Hallo! Ich habe ein Firmenhandy, das darüber h...   \n",
       "4  Kd-Nr: 4631281  Hallo E-Plus ServiceTeam,  ich...   \n",
       "\n",
       "                                         Clean_texts  \n",
       "0  geehrt dam herr kennwort vergessen gerne kopie...  \n",
       "1            bitte aktuell rechnung rufnummernanzeig  \n",
       "2  kundennummer:1415228 dezember 2000 kündigen be...  \n",
       "3  hallo firmenhandy hinaus privat line obig nr b...  \n",
       "4  kd-nr 4631281 hallo e-plus serviceteam brief e...  "
      ]
     },
     "execution_count": 75,
     "metadata": {},
     "output_type": "execute_result"
    }
   ],
   "source": [
    "df.head()"
   ]
  },
  {
   "cell_type": "markdown",
   "metadata": {},
   "source": [
    "## Define the classifier "
   ]
  },
  {
   "cell_type": "code",
   "execution_count": 76,
   "metadata": {},
   "outputs": [],
   "source": [
    "from sklearn.linear_model import LogisticRegression\n",
    "from sklearn.ensemble import RandomForestClassifier\n",
    "from sklearn.svm import LinearSVC\n",
    "from sklearn.naive_bayes import MultinomialNB\n",
    "from sklearn.model_selection import cross_val_score, train_test_split\n",
    "from sklearn.feature_extraction.text import TfidfVectorizer"
   ]
  },
  {
   "cell_type": "code",
   "execution_count": 80,
   "metadata": {},
   "outputs": [
    {
     "name": "stderr",
     "output_type": "stream",
     "text": [
      "/home/klychliiev/.local/lib/python3.10/site-packages/sklearn/svm/_classes.py:32: FutureWarning: The default value of `dual` will change from `True` to `'auto'` in 1.5. Set the value of `dual` explicitly to suppress the warning.\n",
      "  warnings.warn(\n",
      "/home/klychliiev/.local/lib/python3.10/site-packages/sklearn/svm/_classes.py:32: FutureWarning: The default value of `dual` will change from `True` to `'auto'` in 1.5. Set the value of `dual` explicitly to suppress the warning.\n",
      "  warnings.warn(\n",
      "/home/klychliiev/.local/lib/python3.10/site-packages/sklearn/svm/_classes.py:32: FutureWarning: The default value of `dual` will change from `True` to `'auto'` in 1.5. Set the value of `dual` explicitly to suppress the warning.\n",
      "  warnings.warn(\n",
      "/home/klychliiev/.local/lib/python3.10/site-packages/sklearn/svm/_classes.py:32: FutureWarning: The default value of `dual` will change from `True` to `'auto'` in 1.5. Set the value of `dual` explicitly to suppress the warning.\n",
      "  warnings.warn(\n",
      "/home/klychliiev/.local/lib/python3.10/site-packages/sklearn/svm/_classes.py:32: FutureWarning: The default value of `dual` will change from `True` to `'auto'` in 1.5. Set the value of `dual` explicitly to suppress the warning.\n",
      "  warnings.warn(\n",
      "/tmp/ipykernel_35448/420036814.py:25: FutureWarning: Use \"auto\" to set automatic grayscale colors. From v0.14.0, \"gray\" will default to matplotlib's definition.\n",
      "  sns.stripplot(x='model_name', y='accuracy', data=cv_df,\n"
     ]
    },
    {
     "data": {
      "image/png": "[encoded data removed]",
      "text/plain": [
       "<Figure size 640x480 with 1 Axes>"
      ]
     },
     "metadata": {},
     "output_type": "display_data"
    }
   ],
   "source": [
    "tfidf = TfidfVectorizer(sublinear_tf=True, min_df=5, norm='l2', encoding='latin-1', ngram_range=(1, 2))\n",
    "features = tfidf.fit_transform(df.Clean_texts).toarray()\n",
    "labels = df.Category\n",
    "\n",
    "models = [\n",
    "    RandomForestClassifier(n_estimators=200, max_depth=3, random_state=0),\n",
    "    LinearSVC(),\n",
    "    MultinomialNB(),\n",
    "    LogisticRegression(random_state=0),\n",
    "]\n",
    "\n",
    "CV = 5\n",
    "cv_df = pd.DataFrame(index=range(CV * len(models)))\n",
    "entries = []\n",
    "for model in models:\n",
    "    model_name = model.__class__.__name__\n",
    "    accuracies = cross_val_score(model, features, labels, scoring='accuracy', cv=CV)\n",
    "    for fold_idx, accuracy in enumerate(accuracies):\n",
    "        entries.append((model_name, fold_idx, accuracy))\n",
    "\n",
    "cv_df = pd.DataFrame(entries, columns=['model_name', 'fold_idx', 'accuracy'])\n",
    "\n",
    "import seaborn as sns\n",
    "sns.boxplot(x='model_name', y='accuracy', data=cv_df)\n",
    "sns.stripplot(x='model_name', y='accuracy', data=cv_df, \n",
    "              size=8, jitter=True, edgecolor=\"gray\", linewidth=2)\n",
    "plt.show()"
   ]
  },
  {
   "cell_type": "code",
   "execution_count": 81,
   "metadata": {},
   "outputs": [],
   "source": [
    "categories_list = list(df['Category'].unique())"
   ]
  },
  {
   "cell_type": "code",
   "execution_count": 82,
   "metadata": {},
   "outputs": [
    {
     "data": {
      "text/plain": [
       "model_name\n",
       "LinearSVC                 0.635616\n",
       "LogisticRegression        0.605479\n",
       "MultinomialNB             0.597260\n",
       "RandomForestClassifier    0.463014\n",
       "Name: accuracy, dtype: float64"
      ]
     },
     "execution_count": 82,
     "metadata": {},
     "output_type": "execute_result"
    }
   ],
   "source": [
    "cv_df.groupby('model_name').accuracy.mean()"
   ]
  },
  {
   "attachments": {
    "image-2.png": {
     "image/png": "[encoded data removed]"
    },
    "image.png": {
     "image/png": "[encoded data removed]"
    }
   },
   "cell_type": "markdown",
   "metadata": {},
   "source": [
    "Compare with the performance of the model trained on the unpreprocessed text:\n",
    "\n",
    "![image.png](attachment:image.png)\n",
    "\n",
    "![image-2.png](attachment:image-2.png)"
   ]
  },
  {
   "cell_type": "markdown",
   "metadata": {},
   "source": [
    "## <b>Issues:</b>\n",
    "1) Imbalanced dataset \n",
    "2) Encoding problems:<br>\n",
    "<em>vielen Dank fьr Ihre schnelle Antwort!!!</em> (must be <em>für</em>)\n",
    "3) Cleaning method \n",
    "4) Small dataset\n",
    "5) Abbreviations "
   ]
  },
  {
   "cell_type": "markdown",
   "metadata": {},
   "source": []
  }
 ],
 "metadata": {
  "kernelspec": {
   "display_name": "Python 3",
   "language": "python",
   "name": "python3"
  },
  "language_info": {
   "codemirror_mode": {
    "name": "ipython",
    "version": 3
   },
   "file_extension": ".py",
   "mimetype": "text/x-python",
   "name": "python",
   "nbconvert_exporter": "python",
   "pygments_lexer": "ipython3",
   "version": "3.10.12"
  }
 },
 "nbformat": 4,
 "nbformat_minor": 2
}
