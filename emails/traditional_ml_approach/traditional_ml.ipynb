{
 "cells": [
  {
   "cell_type": "markdown",
   "metadata": {},
   "source": [
    "## Intro"
   ]
  },
  {
   "cell_type": "markdown",
   "metadata": {},
   "source": [
    "In this notebook, we'll try using different traditional ML algorithms to solve the emails classification challenge. For this task, we'll take 6 categories into consideration.\n",
    "\n",
    "Categories:\n",
    "1) Rechnungen \n",
    "2) Mahnungen \n",
    "3) Vertraege und Vereinbarun \n",
    "4) Storno \n",
    "5) Aktivierung Sim \n",
    "6) Tarife \n",
    "\n",
    "The approches we'll use are SVM, Logistic regression, Random forest, and MultinomialNB"
   ]
  },
  {
   "cell_type": "markdown",
   "metadata": {},
   "source": [
    "## Manage directories"
   ]
  },
  {
   "cell_type": "code",
   "execution_count": 1,
   "metadata": {},
   "outputs": [],
   "source": [
    "import os"
   ]
  },
  {
   "cell_type": "code",
   "execution_count": 2,
   "metadata": {},
   "outputs": [],
   "source": [
    "SHORT_EMAIL_DATASET_PATH = \"short_dataset.csv\""
   ]
  },
  {
   "cell_type": "markdown",
   "metadata": {},
   "source": [
    "## EDA"
   ]
  },
  {
   "cell_type": "code",
   "execution_count": 3,
   "metadata": {},
   "outputs": [
    {
     "data": {
      "text/plain": [
       "'2.1.0'"
      ]
     },
     "execution_count": 3,
     "metadata": {},
     "output_type": "execute_result"
    }
   ],
   "source": [
    "import pandas as pd \n",
    "\n",
    "pd.__version__"
   ]
  },
  {
   "cell_type": "code",
   "execution_count": 4,
   "metadata": {},
   "outputs": [],
   "source": [
    "# converting csv file to pandas dataframe \n",
    "df = pd.read_csv(SHORT_EMAIL_DATASET_PATH)"
   ]
  },
  {
   "cell_type": "code",
   "execution_count": 5,
   "metadata": {},
   "outputs": [
    {
     "data": {
      "text/html": [
       "<div>\n",
       "<style scoped>\n",
       "    .dataframe tbody tr th:only-of-type {\n",
       "        vertical-align: middle;\n",
       "    }\n",
       "\n",
       "    .dataframe tbody tr th {\n",
       "        vertical-align: top;\n",
       "    }\n",
       "\n",
       "    .dataframe thead th {\n",
       "        text-align: right;\n",
       "    }\n",
       "</style>\n",
       "<table border=\"1\" class=\"dataframe\">\n",
       "  <thead>\n",
       "    <tr style=\"text-align: right;\">\n",
       "      <th></th>\n",
       "      <th>Unnamed: 0</th>\n",
       "      <th>Category</th>\n",
       "      <th>Content</th>\n",
       "    </tr>\n",
       "  </thead>\n",
       "  <tbody>\n",
       "    <tr>\n",
       "      <th>0</th>\n",
       "      <td>0</td>\n",
       "      <td>TARIFE</td>\n",
       "      <td>An:\\tKUNDENSERVICE@EPLUS\\nKopie:\\t \\nDatum:\\t0...</td>\n",
       "    </tr>\n",
       "    <tr>\n",
       "      <th>1</th>\n",
       "      <td>1</td>\n",
       "      <td>TARIFE</td>\n",
       "      <td>An:\\tKUNDENSERVICE@EPLUS\\nKopie:\\t \\nDatum:\\t3...</td>\n",
       "    </tr>\n",
       "    <tr>\n",
       "      <th>2</th>\n",
       "      <td>2</td>\n",
       "      <td>TARIFE</td>\n",
       "      <td>An:\\tKUNDENSERVICE@EPLUS\\nKopie:\\t \\nDatum:\\t2...</td>\n",
       "    </tr>\n",
       "    <tr>\n",
       "      <th>3</th>\n",
       "      <td>3</td>\n",
       "      <td>TARIFE</td>\n",
       "      <td>An:\\tKUNDENSERVICE@EPLUS\\nKopie:\\t \\nDatum:\\t2...</td>\n",
       "    </tr>\n",
       "    <tr>\n",
       "      <th>4</th>\n",
       "      <td>4</td>\n",
       "      <td>TARIFE</td>\n",
       "      <td>An:\\tKUNDENSERVICE@EPLUS\\nKopie:\\t \\nDatum:\\t3...</td>\n",
       "    </tr>\n",
       "  </tbody>\n",
       "</table>\n",
       "</div>"
      ],
      "text/plain": [
       "   Unnamed: 0 Category                                            Content\n",
       "0           0   TARIFE  An:\\tKUNDENSERVICE@EPLUS\\nKopie:\\t \\nDatum:\\t0...\n",
       "1           1   TARIFE  An:\\tKUNDENSERVICE@EPLUS\\nKopie:\\t \\nDatum:\\t3...\n",
       "2           2   TARIFE  An:\\tKUNDENSERVICE@EPLUS\\nKopie:\\t \\nDatum:\\t2...\n",
       "3           3   TARIFE  An:\\tKUNDENSERVICE@EPLUS\\nKopie:\\t \\nDatum:\\t2...\n",
       "4           4   TARIFE  An:\\tKUNDENSERVICE@EPLUS\\nKopie:\\t \\nDatum:\\t3..."
      ]
     },
     "execution_count": 5,
     "metadata": {},
     "output_type": "execute_result"
    }
   ],
   "source": [
    "df.head()"
   ]
  },
  {
   "cell_type": "code",
   "execution_count": 6,
   "metadata": {},
   "outputs": [],
   "source": [
    "df = df.drop('Unnamed: 0', axis=1)"
   ]
  },
  {
   "cell_type": "code",
   "execution_count": 7,
   "metadata": {},
   "outputs": [
    {
     "data": {
      "text/html": [
       "<div>\n",
       "<style scoped>\n",
       "    .dataframe tbody tr th:only-of-type {\n",
       "        vertical-align: middle;\n",
       "    }\n",
       "\n",
       "    .dataframe tbody tr th {\n",
       "        vertical-align: top;\n",
       "    }\n",
       "\n",
       "    .dataframe thead th {\n",
       "        text-align: right;\n",
       "    }\n",
       "</style>\n",
       "<table border=\"1\" class=\"dataframe\">\n",
       "  <thead>\n",
       "    <tr style=\"text-align: right;\">\n",
       "      <th></th>\n",
       "      <th>Category</th>\n",
       "      <th>Content</th>\n",
       "    </tr>\n",
       "  </thead>\n",
       "  <tbody>\n",
       "    <tr>\n",
       "      <th>0</th>\n",
       "      <td>TARIFE</td>\n",
       "      <td>An:\\tKUNDENSERVICE@EPLUS\\nKopie:\\t \\nDatum:\\t0...</td>\n",
       "    </tr>\n",
       "    <tr>\n",
       "      <th>1</th>\n",
       "      <td>TARIFE</td>\n",
       "      <td>An:\\tKUNDENSERVICE@EPLUS\\nKopie:\\t \\nDatum:\\t3...</td>\n",
       "    </tr>\n",
       "    <tr>\n",
       "      <th>2</th>\n",
       "      <td>TARIFE</td>\n",
       "      <td>An:\\tKUNDENSERVICE@EPLUS\\nKopie:\\t \\nDatum:\\t2...</td>\n",
       "    </tr>\n",
       "    <tr>\n",
       "      <th>3</th>\n",
       "      <td>TARIFE</td>\n",
       "      <td>An:\\tKUNDENSERVICE@EPLUS\\nKopie:\\t \\nDatum:\\t2...</td>\n",
       "    </tr>\n",
       "    <tr>\n",
       "      <th>4</th>\n",
       "      <td>TARIFE</td>\n",
       "      <td>An:\\tKUNDENSERVICE@EPLUS\\nKopie:\\t \\nDatum:\\t3...</td>\n",
       "    </tr>\n",
       "  </tbody>\n",
       "</table>\n",
       "</div>"
      ],
      "text/plain": [
       "  Category                                            Content\n",
       "0   TARIFE  An:\\tKUNDENSERVICE@EPLUS\\nKopie:\\t \\nDatum:\\t0...\n",
       "1   TARIFE  An:\\tKUNDENSERVICE@EPLUS\\nKopie:\\t \\nDatum:\\t3...\n",
       "2   TARIFE  An:\\tKUNDENSERVICE@EPLUS\\nKopie:\\t \\nDatum:\\t2...\n",
       "3   TARIFE  An:\\tKUNDENSERVICE@EPLUS\\nKopie:\\t \\nDatum:\\t2...\n",
       "4   TARIFE  An:\\tKUNDENSERVICE@EPLUS\\nKopie:\\t \\nDatum:\\t3..."
      ]
     },
     "execution_count": 7,
     "metadata": {},
     "output_type": "execute_result"
    }
   ],
   "source": [
    "df.head()"
   ]
  },
  {
   "cell_type": "code",
   "execution_count": 8,
   "metadata": {},
   "outputs": [
    {
     "name": "stdout",
     "output_type": "stream",
     "text": [
      "An:\tKUNDENSERVICE@EPLUS\n",
      "Kopie:\t \n",
      "Datum:\t06.06.2001 08:46:53\n",
      "Betreff:\tE-Mail Beantwortung\n",
      "\n",
      "\t  \n",
      "\n",
      "\n",
      "\n",
      "Anrede         : Frau\n",
      "Name           : Sim Karte Gesperrt Thielsch Kai\n",
      "Handyrufnummer : 49 178 8820181\n",
      "Account Nummer :\n",
      "Handymodell    : 6150\n",
      "Provider       : E-Plus Service\n",
      "Email          : kaithielsch@gmx.de\n",
      "-------------------------------------\n",
      "Nachricht      : Liebes e plus Team\n",
      "Ich habe aus versehen meinen Pin und den darauffolgenden \"puk\" falsch \n",
      "eingegeben\n",
      "Nun ist meine sim karte gesperrt\n",
      "Wie kann ich einen neuen Pin bekommen damit mein handy wieder \n",
      "einsatzbereit ist??\n",
      "\n",
      "Vielen dank im vorraus\n",
      "Mit freundlichen grüßen\n",
      "Kai Thielsch\n",
      "-------------------------------------\n",
      "--444043493.991813613145.JavaMail.nsuser@apps3mn1--\n",
      "\n",
      "\n"
     ]
    }
   ],
   "source": [
    "print(df['Content'][0])"
   ]
  },
  {
   "cell_type": "code",
   "execution_count": 9,
   "metadata": {},
   "outputs": [
    {
     "name": "stdout",
     "output_type": "stream",
     "text": [
      "TARIFE\n"
     ]
    }
   ],
   "source": [
    "print(df['Category'][0])"
   ]
  },
  {
   "cell_type": "markdown",
   "metadata": {},
   "source": [
    "The category of the email above is TARIFE"
   ]
  },
  {
   "cell_type": "markdown",
   "metadata": {},
   "source": [
    "Now, we need to shuffle the dataset in order to avoid sample selection bias."
   ]
  },
  {
   "cell_type": "code",
   "execution_count": 10,
   "metadata": {},
   "outputs": [],
   "source": [
    "df = df.sample(frac=1)"
   ]
  },
  {
   "cell_type": "code",
   "execution_count": 11,
   "metadata": {},
   "outputs": [
    {
     "data": {
      "text/html": [
       "<div>\n",
       "<style scoped>\n",
       "    .dataframe tbody tr th:only-of-type {\n",
       "        vertical-align: middle;\n",
       "    }\n",
       "\n",
       "    .dataframe tbody tr th {\n",
       "        vertical-align: top;\n",
       "    }\n",
       "\n",
       "    .dataframe thead th {\n",
       "        text-align: right;\n",
       "    }\n",
       "</style>\n",
       "<table border=\"1\" class=\"dataframe\">\n",
       "  <thead>\n",
       "    <tr style=\"text-align: right;\">\n",
       "      <th></th>\n",
       "      <th>Category</th>\n",
       "      <th>Content</th>\n",
       "    </tr>\n",
       "  </thead>\n",
       "  <tbody>\n",
       "    <tr>\n",
       "      <th>79</th>\n",
       "      <td>TARIFE</td>\n",
       "      <td>An:\\tKUNDENSERVICE@EPLUS\\nKopie:\\t \\nDatum:\\t0...</td>\n",
       "    </tr>\n",
       "    <tr>\n",
       "      <th>280</th>\n",
       "      <td>VERTRAEGE_UND_VEREINBARUN</td>\n",
       "      <td>An:\\tKUNDENSERVICE@EPLUS\\nKopie:\\t \\nDatum:\\t2...</td>\n",
       "    </tr>\n",
       "    <tr>\n",
       "      <th>95</th>\n",
       "      <td>TARIFE</td>\n",
       "      <td>An:\\tKUNDENSERVICE@EPLUS\\nKopie:\\t \\nDatum:\\t0...</td>\n",
       "    </tr>\n",
       "    <tr>\n",
       "      <th>298</th>\n",
       "      <td>VERTRAEGE_UND_VEREINBARUN</td>\n",
       "      <td>An:\\tKUNDENSERVICE@EPLUS\\nKopie:\\t \\nDatum:\\t2...</td>\n",
       "    </tr>\n",
       "    <tr>\n",
       "      <th>303</th>\n",
       "      <td>VERTRAEGE_UND_VEREINBARUN</td>\n",
       "      <td>An:\\tKUNDENSERVICE@EPLUS\\nKopie:\\t \\nDatum:\\t1...</td>\n",
       "    </tr>\n",
       "  </tbody>\n",
       "</table>\n",
       "</div>"
      ],
      "text/plain": [
       "                      Category  \\\n",
       "79                      TARIFE   \n",
       "280  VERTRAEGE_UND_VEREINBARUN   \n",
       "95                      TARIFE   \n",
       "298  VERTRAEGE_UND_VEREINBARUN   \n",
       "303  VERTRAEGE_UND_VEREINBARUN   \n",
       "\n",
       "                                               Content  \n",
       "79   An:\\tKUNDENSERVICE@EPLUS\\nKopie:\\t \\nDatum:\\t0...  \n",
       "280  An:\\tKUNDENSERVICE@EPLUS\\nKopie:\\t \\nDatum:\\t2...  \n",
       "95   An:\\tKUNDENSERVICE@EPLUS\\nKopie:\\t \\nDatum:\\t0...  \n",
       "298  An:\\tKUNDENSERVICE@EPLUS\\nKopie:\\t \\nDatum:\\t2...  \n",
       "303  An:\\tKUNDENSERVICE@EPLUS\\nKopie:\\t \\nDatum:\\t1...  "
      ]
     },
     "execution_count": 11,
     "metadata": {},
     "output_type": "execute_result"
    }
   ],
   "source": [
    "df.head()"
   ]
  },
  {
   "cell_type": "code",
   "execution_count": 12,
   "metadata": {},
   "outputs": [],
   "source": [
    "# reset index \n",
    "df.reset_index(drop=True, inplace=True)"
   ]
  },
  {
   "cell_type": "code",
   "execution_count": 13,
   "metadata": {},
   "outputs": [
    {
     "data": {
      "text/html": [
       "<div>\n",
       "<style scoped>\n",
       "    .dataframe tbody tr th:only-of-type {\n",
       "        vertical-align: middle;\n",
       "    }\n",
       "\n",
       "    .dataframe tbody tr th {\n",
       "        vertical-align: top;\n",
       "    }\n",
       "\n",
       "    .dataframe thead th {\n",
       "        text-align: right;\n",
       "    }\n",
       "</style>\n",
       "<table border=\"1\" class=\"dataframe\">\n",
       "  <thead>\n",
       "    <tr style=\"text-align: right;\">\n",
       "      <th></th>\n",
       "      <th>Category</th>\n",
       "      <th>Content</th>\n",
       "    </tr>\n",
       "  </thead>\n",
       "  <tbody>\n",
       "    <tr>\n",
       "      <th>0</th>\n",
       "      <td>TARIFE</td>\n",
       "      <td>An:\\tKUNDENSERVICE@EPLUS\\nKopie:\\t \\nDatum:\\t0...</td>\n",
       "    </tr>\n",
       "    <tr>\n",
       "      <th>1</th>\n",
       "      <td>VERTRAEGE_UND_VEREINBARUN</td>\n",
       "      <td>An:\\tKUNDENSERVICE@EPLUS\\nKopie:\\t \\nDatum:\\t2...</td>\n",
       "    </tr>\n",
       "    <tr>\n",
       "      <th>2</th>\n",
       "      <td>TARIFE</td>\n",
       "      <td>An:\\tKUNDENSERVICE@EPLUS\\nKopie:\\t \\nDatum:\\t0...</td>\n",
       "    </tr>\n",
       "    <tr>\n",
       "      <th>3</th>\n",
       "      <td>VERTRAEGE_UND_VEREINBARUN</td>\n",
       "      <td>An:\\tKUNDENSERVICE@EPLUS\\nKopie:\\t \\nDatum:\\t2...</td>\n",
       "    </tr>\n",
       "    <tr>\n",
       "      <th>4</th>\n",
       "      <td>VERTRAEGE_UND_VEREINBARUN</td>\n",
       "      <td>An:\\tKUNDENSERVICE@EPLUS\\nKopie:\\t \\nDatum:\\t1...</td>\n",
       "    </tr>\n",
       "  </tbody>\n",
       "</table>\n",
       "</div>"
      ],
      "text/plain": [
       "                    Category  \\\n",
       "0                     TARIFE   \n",
       "1  VERTRAEGE_UND_VEREINBARUN   \n",
       "2                     TARIFE   \n",
       "3  VERTRAEGE_UND_VEREINBARUN   \n",
       "4  VERTRAEGE_UND_VEREINBARUN   \n",
       "\n",
       "                                             Content  \n",
       "0  An:\\tKUNDENSERVICE@EPLUS\\nKopie:\\t \\nDatum:\\t0...  \n",
       "1  An:\\tKUNDENSERVICE@EPLUS\\nKopie:\\t \\nDatum:\\t2...  \n",
       "2  An:\\tKUNDENSERVICE@EPLUS\\nKopie:\\t \\nDatum:\\t0...  \n",
       "3  An:\\tKUNDENSERVICE@EPLUS\\nKopie:\\t \\nDatum:\\t2...  \n",
       "4  An:\\tKUNDENSERVICE@EPLUS\\nKopie:\\t \\nDatum:\\t1...  "
      ]
     },
     "execution_count": 13,
     "metadata": {},
     "output_type": "execute_result"
    }
   ],
   "source": [
    "df.head()"
   ]
  },
  {
   "cell_type": "code",
   "execution_count": 14,
   "metadata": {},
   "outputs": [
    {
     "data": {
      "text/plain": [
       "Category    False\n",
       "Content     False\n",
       "dtype: bool"
      ]
     },
     "execution_count": 14,
     "metadata": {},
     "output_type": "execute_result"
    }
   ],
   "source": [
    "# checking for Null values\n",
    "df.isna().any()"
   ]
  },
  {
   "cell_type": "code",
   "execution_count": 15,
   "metadata": {},
   "outputs": [
    {
     "data": {
      "image/png": "[encoded data removed]",
      "text/plain": [
       "<Figure size 800x600 with 1 Axes>"
      ]
     },
     "metadata": {},
     "output_type": "display_data"
    }
   ],
   "source": [
    "import matplotlib.pyplot as plt \n",
    "\n",
    "# Count the occurrences of each class\n",
    "class_counts = df['Category'].value_counts()\n",
    "\n",
    "# Plotting the class distribution\n",
    "plt.figure(figsize=(8, 6))\n",
    "class_counts.plot(kind='bar', color=(0.01,0.01,0.31))\n",
    "plt.title('Class Distribution')\n",
    "plt.xlabel('Classes')\n",
    "plt.ylabel('Count')\n",
    "plt.xticks(rotation=0)  # Rotate x-axis labels if needed\n",
    "plt.show()"
   ]
  },
  {
   "cell_type": "markdown",
   "metadata": {},
   "source": [
    "We obviously deal with the dataset imbalance, and possible soultions are over- and undersampling, but as for now we ignore the fact."
   ]
  },
  {
   "cell_type": "code",
   "execution_count": 16,
   "metadata": {},
   "outputs": [
    {
     "name": "stderr",
     "output_type": "stream",
     "text": [
      "/home/klychliiev/.local/lib/python3.10/site-packages/torch/cuda/__init__.py:611: UserWarning: Can't initialize NVML\n",
      "  warnings.warn(\"Can't initialize NVML\")\n",
      "/home/klychliiev/.local/lib/python3.10/site-packages/torch/cuda/__init__.py:740: UserWarning: CUDA initialization: Unexpected error from cudaGetDeviceCount(). Did you run some cuda functions before calling NumCudaDevices() that might have already set an error? Error 803: system has unsupported display driver / cuda driver combination (Triggered internally at ../c10/cuda/CUDAFunctions.cpp:108.)\n",
      "  return torch._C._cuda_getDeviceCount() if nvml_count < 0 else nvml_count\n"
     ]
    }
   ],
   "source": [
    "from text_cleaning import fetch_body\n",
    "\n",
    "df['Email_body'] = df['Content'].apply(fetch_body)"
   ]
  },
  {
   "cell_type": "code",
   "execution_count": 17,
   "metadata": {},
   "outputs": [
    {
     "data": {
      "text/html": [
       "<div>\n",
       "<style scoped>\n",
       "    .dataframe tbody tr th:only-of-type {\n",
       "        vertical-align: middle;\n",
       "    }\n",
       "\n",
       "    .dataframe tbody tr th {\n",
       "        vertical-align: top;\n",
       "    }\n",
       "\n",
       "    .dataframe thead th {\n",
       "        text-align: right;\n",
       "    }\n",
       "</style>\n",
       "<table border=\"1\" class=\"dataframe\">\n",
       "  <thead>\n",
       "    <tr style=\"text-align: right;\">\n",
       "      <th></th>\n",
       "      <th>Category</th>\n",
       "      <th>Content</th>\n",
       "      <th>Email_body</th>\n",
       "    </tr>\n",
       "  </thead>\n",
       "  <tbody>\n",
       "    <tr>\n",
       "      <th>0</th>\n",
       "      <td>TARIFE</td>\n",
       "      <td>An:\\tKUNDENSERVICE@EPLUS\\nKopie:\\t \\nDatum:\\t0...</td>\n",
       "      <td>An:\\tKUNDENSERVICE@EPLUS Kopie:\\t  Datum:\\t03....</td>\n",
       "    </tr>\n",
       "    <tr>\n",
       "      <th>1</th>\n",
       "      <td>VERTRAEGE_UND_VEREINBARUN</td>\n",
       "      <td>An:\\tKUNDENSERVICE@EPLUS\\nKopie:\\t \\nDatum:\\t2...</td>\n",
       "      <td>Sehr geehrte Damen &amp; Herren, als Termin für di...</td>\n",
       "    </tr>\n",
       "    <tr>\n",
       "      <th>2</th>\n",
       "      <td>TARIFE</td>\n",
       "      <td>An:\\tKUNDENSERVICE@EPLUS\\nKopie:\\t \\nDatum:\\t0...</td>\n",
       "      <td>An:\\tKUNDENSERVICE@EPLUS Kopie:\\t  Datum:\\t01....</td>\n",
       "    </tr>\n",
       "    <tr>\n",
       "      <th>3</th>\n",
       "      <td>VERTRAEGE_UND_VEREINBARUN</td>\n",
       "      <td>An:\\tKUNDENSERVICE@EPLUS\\nKopie:\\t \\nDatum:\\t2...</td>\n",
       "      <td>Sehr geehrte Damen und Herren,  in wieweit bes...</td>\n",
       "    </tr>\n",
       "    <tr>\n",
       "      <th>4</th>\n",
       "      <td>VERTRAEGE_UND_VEREINBARUN</td>\n",
       "      <td>An:\\tKUNDENSERVICE@EPLUS\\nKopie:\\t \\nDatum:\\t1...</td>\n",
       "      <td>Sehr geehrte Damen und Herren  Ich Volker Keß ...</td>\n",
       "    </tr>\n",
       "    <tr>\n",
       "      <th>...</th>\n",
       "      <td>...</td>\n",
       "      <td>...</td>\n",
       "      <td>...</td>\n",
       "    </tr>\n",
       "    <tr>\n",
       "      <th>360</th>\n",
       "      <td>TARIFE</td>\n",
       "      <td>An:\\tKUNDENSERVICE@EPLUS\\nKopie:\\t \\nDatum:\\t2...</td>\n",
       "      <td>Ich fliege am 5.August nach Lanzarote und möch...</td>\n",
       "    </tr>\n",
       "    <tr>\n",
       "      <th>361</th>\n",
       "      <td>AKTIVIERUNG_SIM</td>\n",
       "      <td>An:\\tKUNDENSERVICE@EPLUS\\nKopie:\\t \\nDatum:\\t2...</td>\n",
       "      <td>Hallo e-plus! Mein Handy (Nokia 3210) findet d...</td>\n",
       "    </tr>\n",
       "    <tr>\n",
       "      <th>362</th>\n",
       "      <td>AKTIVIERUNG_SIM</td>\n",
       "      <td>An:\\tKUNDENSERVICE@EPLUS\\nKopie:\\t \\nDatum:\\t1...</td>\n",
       "      <td>Seit Freitag Morgen verlangt mein Mobiltelefon...</td>\n",
       "    </tr>\n",
       "    <tr>\n",
       "      <th>363</th>\n",
       "      <td>TARIFE</td>\n",
       "      <td>An:\\tKUNDENSERVICE@EPLUS\\nKopie:\\t \\nDatum:\\t2...</td>\n",
       "      <td>Sehr geehrte Damen und Herren, ich hatte mich ...</td>\n",
       "    </tr>\n",
       "    <tr>\n",
       "      <th>364</th>\n",
       "      <td>VERTRAEGE_UND_VEREINBARUN</td>\n",
       "      <td>An:\\tKUNDENSERVICE@EPLUS\\nKopie:\\t \\nDatum:\\t1...</td>\n",
       "      <td>Sehr geehrte Damen und Herren,  bitte informie...</td>\n",
       "    </tr>\n",
       "  </tbody>\n",
       "</table>\n",
       "<p>365 rows × 3 columns</p>\n",
       "</div>"
      ],
      "text/plain": [
       "                      Category  \\\n",
       "0                       TARIFE   \n",
       "1    VERTRAEGE_UND_VEREINBARUN   \n",
       "2                       TARIFE   \n",
       "3    VERTRAEGE_UND_VEREINBARUN   \n",
       "4    VERTRAEGE_UND_VEREINBARUN   \n",
       "..                         ...   \n",
       "360                     TARIFE   \n",
       "361            AKTIVIERUNG_SIM   \n",
       "362            AKTIVIERUNG_SIM   \n",
       "363                     TARIFE   \n",
       "364  VERTRAEGE_UND_VEREINBARUN   \n",
       "\n",
       "                                               Content  \\\n",
       "0    An:\\tKUNDENSERVICE@EPLUS\\nKopie:\\t \\nDatum:\\t0...   \n",
       "1    An:\\tKUNDENSERVICE@EPLUS\\nKopie:\\t \\nDatum:\\t2...   \n",
       "2    An:\\tKUNDENSERVICE@EPLUS\\nKopie:\\t \\nDatum:\\t0...   \n",
       "3    An:\\tKUNDENSERVICE@EPLUS\\nKopie:\\t \\nDatum:\\t2...   \n",
       "4    An:\\tKUNDENSERVICE@EPLUS\\nKopie:\\t \\nDatum:\\t1...   \n",
       "..                                                 ...   \n",
       "360  An:\\tKUNDENSERVICE@EPLUS\\nKopie:\\t \\nDatum:\\t2...   \n",
       "361  An:\\tKUNDENSERVICE@EPLUS\\nKopie:\\t \\nDatum:\\t2...   \n",
       "362  An:\\tKUNDENSERVICE@EPLUS\\nKopie:\\t \\nDatum:\\t1...   \n",
       "363  An:\\tKUNDENSERVICE@EPLUS\\nKopie:\\t \\nDatum:\\t2...   \n",
       "364  An:\\tKUNDENSERVICE@EPLUS\\nKopie:\\t \\nDatum:\\t1...   \n",
       "\n",
       "                                            Email_body  \n",
       "0    An:\\tKUNDENSERVICE@EPLUS Kopie:\\t  Datum:\\t03....  \n",
       "1    Sehr geehrte Damen & Herren, als Termin für di...  \n",
       "2    An:\\tKUNDENSERVICE@EPLUS Kopie:\\t  Datum:\\t01....  \n",
       "3    Sehr geehrte Damen und Herren,  in wieweit bes...  \n",
       "4    Sehr geehrte Damen und Herren  Ich Volker Keß ...  \n",
       "..                                                 ...  \n",
       "360  Ich fliege am 5.August nach Lanzarote und möch...  \n",
       "361  Hallo e-plus! Mein Handy (Nokia 3210) findet d...  \n",
       "362  Seit Freitag Morgen verlangt mein Mobiltelefon...  \n",
       "363  Sehr geehrte Damen und Herren, ich hatte mich ...  \n",
       "364  Sehr geehrte Damen und Herren,  bitte informie...  \n",
       "\n",
       "[365 rows x 3 columns]"
      ]
     },
     "execution_count": 17,
     "metadata": {},
     "output_type": "execute_result"
    }
   ],
   "source": [
    "df"
   ]
  },
  {
   "cell_type": "code",
   "execution_count": 19,
   "metadata": {},
   "outputs": [
    {
     "name": "stdout",
     "output_type": "stream",
     "text": [
      "Sehr geehrte Damen & Herren, als Termin für die Einführung der Eplus Twin Card wurde zuerst erstes und  dann zweites Quartal '01 genannt. Da auch jetzt dieses Feature nicht  verfügbar ist würde mich mal interessieren warum dies nicht der Fall ist.  Die D-Netze bieten es schließlich schon seit Jahren an.  mit freundlichem Gruß Moritz Krügel \n"
     ]
    }
   ],
   "source": [
    "print(df['Email_body'][1])"
   ]
  },
  {
   "cell_type": "markdown",
   "metadata": {},
   "source": [
    "## Text cleaning"
   ]
  },
  {
   "cell_type": "code",
   "execution_count": 20,
   "metadata": {},
   "outputs": [],
   "source": [
    "from text_cleaning import preprocess_text"
   ]
  },
  {
   "cell_type": "code",
   "execution_count": 21,
   "metadata": {},
   "outputs": [
    {
     "data": {
      "text/plain": [
       "'Guten Tag, ich habe letzten Donnerstag einen Vertrag (direkt mit e-Plus/kein  Provider) im \"Phone house\" (Geschäft) abgeschlossen. Bereits vorher habe ich mehrfach bei e-Plus telefonisch nachgefragt, ob  auch meine Wunschrufnummer frei ist (0178/460 37 19). Dies wurde mir auch  mehrfach telefonisch bestätigt. Daraufhin bin ich dann zum Händler, der dann auch noch mal telefonisch bei  e-Plus nachgefragt hat. Wieder wurde ihm bestätigt, daß meine  Wunschrufnummer frei wäre. Ich habe aufgrunddessen dann einen Professional  XL-Vertrag abgeschlossen. Allerdings wurde mir dann vom Händler mitgeteilt, als das Handy  freigeschaltet war und ich es abholen wollte, daß e-Plus sich vertan hätte  und mir eine falsche Nummer zugeteilt hätte. Er habe aber schon mit e-Plus  telefoniert. Man würde den Fehler umgehend kostenlos beheben und mir meine  freie Wunschrufnummer zuteilen. Ich bekäme eine SMS, wenn dies geschehen  wäre. Da nichts kam, habe ich mehrfach nachgefragt (bei e-Plus) und immer wieder  wurd emir gesagt, daß es in Bearbeitung wäre. Irgendwann am nächsten Tag bekam ich dann eine SMS, daß ich die  Wunschrufnummern-Hotline anrufen solle und daß ich dort dann meine Nummer  getauscht bekäme. Das habe ich dann auch gemacht. Die Kollegin verstand  nicht, warum ich nicht direkt diese Nummer bekommen hätte, denn dann hätte  ich das schon einen Tag eher machen können. Nun ja, sie sagte dann, kein  Problem, die Nummer ist frei, ich schalte sie sofort um. Das wollte sie  gerade machen, da sagte sie, daß es nicht klappen würde. Sie verstand auch  nicht, warum nicht. Also hat sie kurz Rücksprache gehalten (ich habe  derweil Musik gehört) und als sie sich wieder meldete, sagte si '"
      ]
     },
     "execution_count": 21,
     "metadata": {},
     "output_type": "execute_result"
    }
   ],
   "source": [
    "x = df['Email_body'][50]\n",
    "x"
   ]
  },
  {
   "cell_type": "code",
   "execution_count": 22,
   "metadata": {},
   "outputs": [
    {
     "name": "stdout",
     "output_type": "stream",
     "text": [
      "gut letzter donnerstag vertrag direkt e-plus provider phone house geschäft abschließen vorher mehrfach e-plus telefonisch nachfragen wunschrufnummer frei 0178 460 37 19 mehrfach telefonisch bestätigen daraufhin händler mal telefonisch e-plus nachfragen bestätigen wunschrufnummer frei aufgrunddesse professional xl-vertrag abschließen händler mitteilen handy freischalten abholen e-plus vertan falsch nummer zuteilen e-plus telefoniern fehler umgehend kostenlos beheben frei wunschrufnummer zuteilen bekommen sms geschehen mehrfach nachfragen e-plus wurd emir bearbeitung irgendwann nächster bekommen sms wunschrufnummern-hotline anrufen sollen nummer tauschen bekommen kollegin verstehen direkt nummer bekommen eher problem nummer frei schalen sofort klappen verstehen rücksprach halten derweil musik gehören melden si\n"
     ]
    }
   ],
   "source": [
    "print(preprocess_text(x))"
   ]
  },
  {
   "cell_type": "code",
   "execution_count": 23,
   "metadata": {},
   "outputs": [],
   "source": [
    "df['Clean_texts'] = df['Email_body'].apply(preprocess_text)"
   ]
  },
  {
   "cell_type": "code",
   "execution_count": 24,
   "metadata": {},
   "outputs": [
    {
     "data": {
      "text/html": [
       "<div>\n",
       "<style scoped>\n",
       "    .dataframe tbody tr th:only-of-type {\n",
       "        vertical-align: middle;\n",
       "    }\n",
       "\n",
       "    .dataframe tbody tr th {\n",
       "        vertical-align: top;\n",
       "    }\n",
       "\n",
       "    .dataframe thead th {\n",
       "        text-align: right;\n",
       "    }\n",
       "</style>\n",
       "<table border=\"1\" class=\"dataframe\">\n",
       "  <thead>\n",
       "    <tr style=\"text-align: right;\">\n",
       "      <th></th>\n",
       "      <th>Category</th>\n",
       "      <th>Content</th>\n",
       "      <th>Email_body</th>\n",
       "      <th>Clean_texts</th>\n",
       "    </tr>\n",
       "  </thead>\n",
       "  <tbody>\n",
       "    <tr>\n",
       "      <th>0</th>\n",
       "      <td>TARIFE</td>\n",
       "      <td>An:\\tKUNDENSERVICE@EPLUS\\nKopie:\\t \\nDatum:\\t0...</td>\n",
       "      <td>An:\\tKUNDENSERVICE@EPLUS Kopie:\\t  Datum:\\t03....</td>\n",
       "      <td>kundenservice@eplus kopie datum 03.09.2001 22...</td>\n",
       "    </tr>\n",
       "    <tr>\n",
       "      <th>1</th>\n",
       "      <td>VERTRAEGE_UND_VEREINBARUN</td>\n",
       "      <td>An:\\tKUNDENSERVICE@EPLUS\\nKopie:\\t \\nDatum:\\t2...</td>\n",
       "      <td>Sehr geehrte Damen &amp; Herren, als Termin für di...</td>\n",
       "      <td>geehrt damen &amp; herren termin einführung eplus ...</td>\n",
       "    </tr>\n",
       "    <tr>\n",
       "      <th>2</th>\n",
       "      <td>TARIFE</td>\n",
       "      <td>An:\\tKUNDENSERVICE@EPLUS\\nKopie:\\t \\nDatum:\\t0...</td>\n",
       "      <td>An:\\tKUNDENSERVICE@EPLUS Kopie:\\t  Datum:\\t01....</td>\n",
       "      <td>kundenservice@eplus kopie datum 01.07.2001 19...</td>\n",
       "    </tr>\n",
       "    <tr>\n",
       "      <th>3</th>\n",
       "      <td>VERTRAEGE_UND_VEREINBARUN</td>\n",
       "      <td>An:\\tKUNDENSERVICE@EPLUS\\nKopie:\\t \\nDatum:\\t2...</td>\n",
       "      <td>Sehr geehrte Damen und Herren,  in wieweit bes...</td>\n",
       "      <td>geehrt dam herr wieweit bestehen möglichkeit e...</td>\n",
       "    </tr>\n",
       "    <tr>\n",
       "      <th>4</th>\n",
       "      <td>VERTRAEGE_UND_VEREINBARUN</td>\n",
       "      <td>An:\\tKUNDENSERVICE@EPLUS\\nKopie:\\t \\nDatum:\\t1...</td>\n",
       "      <td>Sehr geehrte Damen und Herren  Ich Volker Keß ...</td>\n",
       "      <td>geehrt dam herr volker keß 07.02.01 e-plus ver...</td>\n",
       "    </tr>\n",
       "  </tbody>\n",
       "</table>\n",
       "</div>"
      ],
      "text/plain": [
       "                    Category  \\\n",
       "0                     TARIFE   \n",
       "1  VERTRAEGE_UND_VEREINBARUN   \n",
       "2                     TARIFE   \n",
       "3  VERTRAEGE_UND_VEREINBARUN   \n",
       "4  VERTRAEGE_UND_VEREINBARUN   \n",
       "\n",
       "                                             Content  \\\n",
       "0  An:\\tKUNDENSERVICE@EPLUS\\nKopie:\\t \\nDatum:\\t0...   \n",
       "1  An:\\tKUNDENSERVICE@EPLUS\\nKopie:\\t \\nDatum:\\t2...   \n",
       "2  An:\\tKUNDENSERVICE@EPLUS\\nKopie:\\t \\nDatum:\\t0...   \n",
       "3  An:\\tKUNDENSERVICE@EPLUS\\nKopie:\\t \\nDatum:\\t2...   \n",
       "4  An:\\tKUNDENSERVICE@EPLUS\\nKopie:\\t \\nDatum:\\t1...   \n",
       "\n",
       "                                          Email_body  \\\n",
       "0  An:\\tKUNDENSERVICE@EPLUS Kopie:\\t  Datum:\\t03....   \n",
       "1  Sehr geehrte Damen & Herren, als Termin für di...   \n",
       "2  An:\\tKUNDENSERVICE@EPLUS Kopie:\\t  Datum:\\t01....   \n",
       "3  Sehr geehrte Damen und Herren,  in wieweit bes...   \n",
       "4  Sehr geehrte Damen und Herren  Ich Volker Keß ...   \n",
       "\n",
       "                                         Clean_texts  \n",
       "0   kundenservice@eplus kopie datum 03.09.2001 22...  \n",
       "1  geehrt damen & herren termin einführung eplus ...  \n",
       "2   kundenservice@eplus kopie datum 01.07.2001 19...  \n",
       "3  geehrt dam herr wieweit bestehen möglichkeit e...  \n",
       "4  geehrt dam herr volker keß 07.02.01 e-plus ver...  "
      ]
     },
     "execution_count": 24,
     "metadata": {},
     "output_type": "execute_result"
    }
   ],
   "source": [
    "df.head()"
   ]
  },
  {
   "cell_type": "code",
   "execution_count": 51,
   "metadata": {},
   "outputs": [],
   "source": [
    "# from cleantext import clean \n",
    "\n",
    "# sent = clean(sentence_example,\n",
    "#     fix_unicode=True,\n",
    "#     to_ascii=True,\n",
    "#     lower=True,\n",
    "#     no_line_breaks=True,\n",
    "#     no_urls=True,\n",
    "#     no_emails=True,\n",
    "#     no_phone_numbers=True,\n",
    "#     no_numbers=True,\n",
    "#     no_digits=True,\n",
    "#     no_punct=True,\n",
    "#     no_currency_symbols=True,\n",
    "#     replace_with_punct=\"\",          # instead of removing punctuations you may replace them\n",
    "#     replace_with_url=\"\",\n",
    "#     replace_with_email=\"\",\n",
    "#     replace_with_phone_number=\"\",\n",
    "#     replace_with_number=\"\",\n",
    "#     replace_with_digit=\"\",\n",
    "#     replace_with_currency_symbol=\"\",\n",
    "#     lang=\"de\"     \n",
    "#     )"
   ]
  },
  {
   "cell_type": "markdown",
   "metadata": {},
   "source": [
    "## Define the classifier "
   ]
  },
  {
   "cell_type": "code",
   "execution_count": 36,
   "metadata": {},
   "outputs": [],
   "source": [
    "from sklearn.preprocessing import LabelEncoder\n",
    "import warnings\n",
    "\n",
    "warnings.filterwarnings('ignore')\n",
    "\n",
    "label_encoder = LabelEncoder()\n",
    "\n",
    "df['Category_ID'] = label_encoder.fit_transform(df['Category'])"
   ]
  },
  {
   "cell_type": "code",
   "execution_count": 29,
   "metadata": {},
   "outputs": [],
   "source": [
    "from sklearn.linear_model import LogisticRegression\n",
    "from sklearn.ensemble import RandomForestClassifier\n",
    "from sklearn.svm import LinearSVC\n",
    "from sklearn.naive_bayes import MultinomialNB\n",
    "from sklearn.model_selection import cross_val_score, train_test_split\n",
    "from sklearn.feature_extraction.text import TfidfVectorizer"
   ]
  },
  {
   "cell_type": "code",
   "execution_count": 31,
   "metadata": {},
   "outputs": [
    {
     "data": {
      "image/png": "[encoded data removed]",
      "text/plain": [
       "<Figure size 640x480 with 1 Axes>"
      ]
     },
     "metadata": {},
     "output_type": "display_data"
    }
   ],
   "source": [
    "tfidf = TfidfVectorizer(sublinear_tf=True, min_df=5, norm='l2', encoding='latin-1', ngram_range=(1, 2))\n",
    "features = tfidf.fit_transform(df.Clean_texts).toarray()\n",
    "labels = df.Category\n",
    "\n",
    "models = [\n",
    "    RandomForestClassifier(n_estimators=200, max_depth=3, random_state=0),\n",
    "    LinearSVC(),\n",
    "    MultinomialNB(),\n",
    "    LogisticRegression(random_state=0),\n",
    "]\n",
    "\n",
    "CV = 5\n",
    "cv_df = pd.DataFrame(index=range(CV * len(models)))\n",
    "entries = []\n",
    "for model in models:\n",
    "    model_name = model.__class__.__name__\n",
    "    accuracies = cross_val_score(model, features, labels, scoring='accuracy', cv=CV)\n",
    "    for fold_idx, accuracy in enumerate(accuracies):\n",
    "        entries.append((model_name, fold_idx, accuracy))\n",
    "\n",
    "cv_df = pd.DataFrame(entries, columns=['model_name', 'fold_idx', 'accuracy'])\n",
    "\n",
    "import seaborn as sns\n",
    "sns.boxplot(x='model_name', y='accuracy', data=cv_df)\n",
    "sns.stripplot(x='model_name', y='accuracy', data=cv_df, \n",
    "              size=8, jitter=True, edgecolor=\"gray\", linewidth=2)\n",
    "plt.show()"
   ]
  },
  {
   "cell_type": "code",
   "execution_count": 32,
   "metadata": {},
   "outputs": [],
   "source": [
    "categories_list = list(df['Category'].unique())"
   ]
  },
  {
   "cell_type": "code",
   "execution_count": 35,
   "metadata": {},
   "outputs": [
    {
     "data": {
      "text/plain": [
       "model_name\n",
       "LinearSVC                 0.641096\n",
       "LogisticRegression        0.613699\n",
       "MultinomialNB             0.589041\n",
       "RandomForestClassifier    0.463014\n",
       "Name: accuracy, dtype: float64"
      ]
     },
     "execution_count": 35,
     "metadata": {},
     "output_type": "execute_result"
    }
   ],
   "source": [
    "cv_df.groupby('model_name').accuracy.mean()"
   ]
  },
  {
   "attachments": {
    "image-2.png": {
     "image/png": "[encoded data removed]"
    },
    "image.png": {
     "image/png": "[encoded data removed]"
    }
   },
   "cell_type": "markdown",
   "metadata": {},
   "source": [
    "Compare with the performance of the model trained on the unpreprocessed text:\n",
    "\n",
    "![image.png](attachment:image.png)\n",
    "\n",
    "![image-2.png](attachment:image-2.png)"
   ]
  },
  {
   "cell_type": "markdown",
   "metadata": {},
   "source": [
    "## <b>Issues:</b>\n",
    "1) Imbalanced dataset \n",
    "2) Encoding problems:<br>\n",
    "<em>vielen Dank fьr Ihre schnelle Antwort!!!</em> (must be <em>für</em>)\n",
    "3) Cleaning method \n",
    "4) Small dataset\n",
    "5) Abbreviations "
   ]
  },
  {
   "cell_type": "markdown",
   "metadata": {},
   "source": []
  }
 ],
 "metadata": {
  "kernelspec": {
   "display_name": "Python 3",
   "language": "python",
   "name": "python3"
  },
  "language_info": {
   "codemirror_mode": {
    "name": "ipython",
    "version": 3
   },
   "file_extension": ".py",
   "mimetype": "text/x-python",
   "name": "python",
   "nbconvert_exporter": "python",
   "pygments_lexer": "ipython3",
   "version": "3.10.12"
  }
 },
 "nbformat": 4,
 "nbformat_minor": 2
}
