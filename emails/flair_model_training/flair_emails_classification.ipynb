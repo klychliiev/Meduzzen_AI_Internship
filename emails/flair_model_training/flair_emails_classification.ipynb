{
  "cells": [
    {
      "cell_type": "markdown",
      "metadata": {
        "id": "JBz7MQxdHqBH"
      },
      "source": [
        "## Testing Flair NER model for German"
      ]
    },
    {
      "cell_type": "code",
      "execution_count": 1,
      "metadata": {
        "colab": {
          "base_uri": "https://localhost:8080/"
        },
        "id": "ovqYultL3qzq",
        "outputId": "aea1cf3e-55c0-472f-cfda-7d32fc2a742c"
      },
      "outputs": [],
      "source": [
        "# !pip install flair ipywidgets spacy"
      ]
    },
    {
      "cell_type": "code",
      "execution_count": 2,
      "metadata": {
        "colab": {
          "base_uri": "https://localhost:8080/"
        },
        "id": "32aHbiwUBjRd",
        "outputId": "3e781392-7271-4e7e-8c15-97107884ee1f"
      },
      "outputs": [],
      "source": [
        "# !python -m spacy download de_core_news_sm"
      ]
    },
    {
      "cell_type": "code",
      "execution_count": 3,
      "metadata": {
        "id": "Oq2vJb3ksPSB"
      },
      "outputs": [
        {
          "name": "stderr",
          "output_type": "stream",
          "text": [
            "/home/klychliiev/Desktop/Meduzzen_AI_Internship/emails/flair_model_training/flair_classification/lib/python3.10/site-packages/tqdm/auto.py:21: TqdmWarning: IProgress not found. Please update jupyter and ipywidgets. See https://ipywidgets.readthedocs.io/en/stable/user_install.html\n",
            "  from .autonotebook import tqdm as notebook_tqdm\n",
            "/home/klychliiev/Desktop/Meduzzen_AI_Internship/emails/flair_model_training/flair_classification/lib/python3.10/site-packages/torch/cuda/__init__.py:138: UserWarning: CUDA initialization: Unexpected error from cudaGetDeviceCount(). Did you run some cuda functions before calling NumCudaDevices() that might have already set an error? Error 804: forward compatibility was attempted on non supported HW (Triggered internally at ../c10/cuda/CUDAFunctions.cpp:108.)\n",
            "  return torch._C._cuda_getDeviceCount() > 0\n",
            "/home/klychliiev/Desktop/Meduzzen_AI_Internship/emails/flair_model_training/flair_classification/lib/python3.10/site-packages/torch/cuda/__init__.py:611: UserWarning: Can't initialize NVML\n",
            "  warnings.warn(\"Can't initialize NVML\")\n"
          ]
        }
      ],
      "source": [
        "from flair.data import Sentence\n",
        "from flair.models import SequenceTagger"
      ]
    },
    {
      "cell_type": "code",
      "execution_count": 4,
      "metadata": {
        "colab": {
          "base_uri": "https://localhost:8080/",
          "height": 287,
          "referenced_widgets": [
            "353ce59601cb46c6b26050c98c4ebcb6",
            "3870af851ef6411bae31a895f4992438",
            "b6d08d481feb4978adc6ad7140764674",
            "aea8d54a55924f8985ead8bee05575d7",
            "bab57ce73c204243ad7d92c0c30fd97e",
            "0eb7f5a170114b5a82c2ba4b1071f91d",
            "5595b6da4e044586965ec05a1e04700b",
            "3c0f092aa3b744fa8f33389a89ea1266",
            "9b27eba5027846868135d000f1cdae68",
            "fe17e8c13c704f5c85112579f10e2736",
            "dc9ceecfbf05424d91ddea81d0f21c92",
            "d3be75b644724a6da5edb2c51cb0a532",
            "35a5e09362f9429e900c6aab52253f6c",
            "cea416fd27d54d948beffb32307d267c",
            "4393c840e8d44885a1e3247be1ab62d7",
            "d68a7cd4802c4a2bb66841dad1e2da45",
            "d766adbafb454dfdbf3a3289405c2e8d",
            "f10779be9740450093d145b06f2b0149",
            "de07a722c70244229c306238f4afd014",
            "6a3f53d635b44c0b8a7c428bf6efd017",
            "428f1988509d4e2d8efbe3397a9ae1b8",
            "c8ef7f8a5a8346208c457b6088dd4b98",
            "3ef1187de6c441a2970717328add48c0",
            "ce5fd19e02904dc1a745a2f3059617b9",
            "94a44029b8784b5ca6927a51337d8b0d",
            "3e0b965749584ac88c80aeda400e7e64",
            "c4f3e450587d491d8c8b82bf29d0a8c2",
            "e8d15563ea254045b6bca55b12c9de4c",
            "f18cee69e30449b9bfbc86848664b022",
            "bd14ce3efb85434a90c0a052e5d1413d",
            "9d73d436ea0c4f2e86e7919a8d3e7e79",
            "71a4860773a946f8ba2c25d37ebb20b0",
            "8352c67965384da19818615b3c72bdd0",
            "fc1c83bbbb1c41529b1770d93cb76f45",
            "3e950b6391f6405e806902c0830238f0",
            "65e0686877334a12b1d5a21c1bdc6d83",
            "09a7df21e3d24a458310be0b5acd15ff",
            "da6669fbc3ec4486ae6663e0543e34d9",
            "71500477d919420295e8984bf050ef44",
            "ed3b3a4f0d0647dcaad08e0c129fe03b",
            "99d0a79200384645ac15412fe07eb237",
            "d3f4afff96bb4a9e9058606695e2feee",
            "1ba01d6c385d420ea072ba7aae058bb0",
            "12510bebb87640c4be041daf182dd40f"
          ]
        },
        "id": "aqUB66ex3oBn",
        "outputId": "d5ed8f34-3c6d-4484-89a3-721cdf29aa83"
      },
      "outputs": [],
      "source": [
        "tagger = SequenceTagger.load(\"flair/ner-german-large\")"
      ]
    },
    {
      "cell_type": "code",
      "execution_count": 5,
      "metadata": {
        "id": "s8Ds2tYE3oBr"
      },
      "outputs": [],
      "source": [
        "sentence = Sentence(\"Die schnelle Niederlage Frankreichs kam für die meisten Menschen unerwartet, nicht zuletzt für Josef Stalin.\")"
      ]
    },
    {
      "cell_type": "code",
      "execution_count": 6,
      "metadata": {
        "id": "3gtWS7NB4Lkv"
      },
      "outputs": [],
      "source": [
        "tagger.predict(sentence)"
      ]
    },
    {
      "cell_type": "code",
      "execution_count": 7,
      "metadata": {
        "colab": {
          "base_uri": "https://localhost:8080/"
        },
        "id": "3yNFwaX74N7m",
        "outputId": "23fcfb4b-bb24-457f-86cb-ae5042e6e59c"
      },
      "outputs": [
        {
          "name": "stdout",
          "output_type": "stream",
          "text": [
            "Sentence[17]: \"Die schnelle Niederlage Frankreichs kam für die meisten Menschen unerwartet, nicht zuletzt für Josef Stalin.\" → [\"Frankreichs\"/LOC, \"Josef Stalin\"/PER]\n"
          ]
        }
      ],
      "source": [
        "print(sentence)"
      ]
    },
    {
      "cell_type": "code",
      "execution_count": 8,
      "metadata": {
        "colab": {
          "base_uri": "https://localhost:8080/"
        },
        "id": "jc8oCB044QKq",
        "outputId": "b98e6afb-a14f-4a4b-d5c7-7b28d8f78030"
      },
      "outputs": [
        {
          "name": "stdout",
          "output_type": "stream",
          "text": [
            "The following NER tags are found:\n",
            "Span[3:4]: \"Frankreichs\" → LOC (1.0)\n",
            "Span[14:16]: \"Josef Stalin\" → PER (1.0)\n"
          ]
        }
      ],
      "source": [
        "# print predicted NER spans\n",
        "print('The following NER tags are found:')\n",
        "# iterate over entities and print\n",
        "for entity in sentence.get_spans('ner'):\n",
        "    print(entity)"
      ]
    },
    {
      "cell_type": "markdown",
      "metadata": {
        "id": "nLXKZXtL5TeQ"
      },
      "source": [
        "![image.png](data:image/png;base64,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)\n",
        "\n",
        "<br>\n",
        "4 NER tags available. F1-Score for the model = 92.31"
      ]
    },
    {
      "cell_type": "markdown",
      "metadata": {
        "id": "-mBotk7wO4V_"
      },
      "source": [
        "## Preprocess data"
      ]
    },
    {
      "cell_type": "code",
      "execution_count": 3,
      "metadata": {
        "id": "DKsiMdtvO2hZ"
      },
      "outputs": [],
      "source": [
        "import pandas as pd\n",
        "# from text_cleaning import fetch_body, preprocess_text"
      ]
    },
    {
      "cell_type": "code",
      "execution_count": 4,
      "metadata": {
        "colab": {
          "base_uri": "https://localhost:8080/"
        },
        "id": "WGJ_IKfFvj7s",
        "outputId": "50940c66-ec58-4a3a-b6cd-5cccd2ab4b0f"
      },
      "outputs": [],
      "source": [
        "# from google.colab import drive\n",
        "# drive.mount('/content/drive')"
      ]
    },
    {
      "cell_type": "code",
      "execution_count": 5,
      "metadata": {
        "colab": {
          "base_uri": "https://localhost:8080/"
        },
        "id": "PwKTaBNVAwyl",
        "outputId": "40e7549d-1585-43a9-e37d-0a0462c9b7b0"
      },
      "outputs": [],
      "source": [
        "# cd drive/MyDrive/emails"
      ]
    },
    {
      "cell_type": "code",
      "execution_count": 6,
      "metadata": {
        "id": "CwCvYTgeO85K"
      },
      "outputs": [],
      "source": [
        "df = pd.read_csv('full_dataset.csv')"
      ]
    },
    {
      "cell_type": "code",
      "execution_count": 7,
      "metadata": {
        "colab": {
          "base_uri": "https://localhost:8080/",
          "height": 206
        },
        "id": "x_Y5s2uWPByW",
        "outputId": "33155c0d-d7d6-4287-e31a-9b3de334a2d6"
      },
      "outputs": [
        {
          "data": {
            "text/html": [
              "<div>\n",
              "<style scoped>\n",
              "    .dataframe tbody tr th:only-of-type {\n",
              "        vertical-align: middle;\n",
              "    }\n",
              "\n",
              "    .dataframe tbody tr th {\n",
              "        vertical-align: top;\n",
              "    }\n",
              "\n",
              "    .dataframe thead th {\n",
              "        text-align: right;\n",
              "    }\n",
              "</style>\n",
              "<table border=\"1\" class=\"dataframe\">\n",
              "  <thead>\n",
              "    <tr style=\"text-align: right;\">\n",
              "      <th></th>\n",
              "      <th>Unnamed: 0</th>\n",
              "      <th>Category</th>\n",
              "      <th>Content</th>\n",
              "    </tr>\n",
              "  </thead>\n",
              "  <tbody>\n",
              "    <tr>\n",
              "      <th>0</th>\n",
              "      <td>0</td>\n",
              "      <td>R_KUNDEN</td>\n",
              "      <td>An:\\tKUNDENSERVICE@EPLUS\\nKopie:\\t \\nDatum:\\t1...</td>\n",
              "    </tr>\n",
              "    <tr>\n",
              "      <th>1</th>\n",
              "      <td>1</td>\n",
              "      <td>R_KUNDEN</td>\n",
              "      <td>An:\\tKUNDENSERVICE@EPLUS\\nKopie:\\t \\nDatum:\\t3...</td>\n",
              "    </tr>\n",
              "    <tr>\n",
              "      <th>2</th>\n",
              "      <td>2</td>\n",
              "      <td>R_KUNDEN</td>\n",
              "      <td>An:\\tKUNDENSERVICE@EPLUS\\nKopie:\\t \\nDatum:\\t1...</td>\n",
              "    </tr>\n",
              "    <tr>\n",
              "      <th>3</th>\n",
              "      <td>3</td>\n",
              "      <td>R_KUNDEN</td>\n",
              "      <td>An:\\tKUNDENSERVICE@EPLUS\\nKopie:\\t \\nDatum:\\t0...</td>\n",
              "    </tr>\n",
              "    <tr>\n",
              "      <th>4</th>\n",
              "      <td>4</td>\n",
              "      <td>UPGRADE_ERSATZ_GUTSCHRIFT</td>\n",
              "      <td>An:\\tKUNDENSERVICE@EPLUS\\nKopie:\\t \\nDatum:\\t2...</td>\n",
              "    </tr>\n",
              "  </tbody>\n",
              "</table>\n",
              "</div>"
            ],
            "text/plain": [
              "   Unnamed: 0                   Category  \\\n",
              "0           0                   R_KUNDEN   \n",
              "1           1                   R_KUNDEN   \n",
              "2           2                   R_KUNDEN   \n",
              "3           3                   R_KUNDEN   \n",
              "4           4  UPGRADE_ERSATZ_GUTSCHRIFT   \n",
              "\n",
              "                                             Content  \n",
              "0  An:\\tKUNDENSERVICE@EPLUS\\nKopie:\\t \\nDatum:\\t1...  \n",
              "1  An:\\tKUNDENSERVICE@EPLUS\\nKopie:\\t \\nDatum:\\t3...  \n",
              "2  An:\\tKUNDENSERVICE@EPLUS\\nKopie:\\t \\nDatum:\\t1...  \n",
              "3  An:\\tKUNDENSERVICE@EPLUS\\nKopie:\\t \\nDatum:\\t0...  \n",
              "4  An:\\tKUNDENSERVICE@EPLUS\\nKopie:\\t \\nDatum:\\t2...  "
            ]
          },
          "execution_count": 7,
          "metadata": {},
          "output_type": "execute_result"
        }
      ],
      "source": [
        "df.head()"
      ]
    },
    {
      "cell_type": "code",
      "execution_count": 8,
      "metadata": {
        "id": "DOx1Hwre4QqO"
      },
      "outputs": [],
      "source": [
        "# delete unnecessary columns\n",
        "df = df.drop(['Unnamed: 0'], axis=1)"
      ]
    },
    {
      "cell_type": "code",
      "execution_count": 9,
      "metadata": {
        "colab": {
          "base_uri": "https://localhost:8080/",
          "height": 206
        },
        "id": "8_GW3WsAA8R8",
        "outputId": "63dffe15-3494-4b94-9866-359176b44219"
      },
      "outputs": [
        {
          "data": {
            "text/html": [
              "<div>\n",
              "<style scoped>\n",
              "    .dataframe tbody tr th:only-of-type {\n",
              "        vertical-align: middle;\n",
              "    }\n",
              "\n",
              "    .dataframe tbody tr th {\n",
              "        vertical-align: top;\n",
              "    }\n",
              "\n",
              "    .dataframe thead th {\n",
              "        text-align: right;\n",
              "    }\n",
              "</style>\n",
              "<table border=\"1\" class=\"dataframe\">\n",
              "  <thead>\n",
              "    <tr style=\"text-align: right;\">\n",
              "      <th></th>\n",
              "      <th>Category</th>\n",
              "      <th>Content</th>\n",
              "    </tr>\n",
              "  </thead>\n",
              "  <tbody>\n",
              "    <tr>\n",
              "      <th>0</th>\n",
              "      <td>R_KUNDEN</td>\n",
              "      <td>An:\\tKUNDENSERVICE@EPLUS\\nKopie:\\t \\nDatum:\\t1...</td>\n",
              "    </tr>\n",
              "    <tr>\n",
              "      <th>1</th>\n",
              "      <td>R_KUNDEN</td>\n",
              "      <td>An:\\tKUNDENSERVICE@EPLUS\\nKopie:\\t \\nDatum:\\t3...</td>\n",
              "    </tr>\n",
              "    <tr>\n",
              "      <th>2</th>\n",
              "      <td>R_KUNDEN</td>\n",
              "      <td>An:\\tKUNDENSERVICE@EPLUS\\nKopie:\\t \\nDatum:\\t1...</td>\n",
              "    </tr>\n",
              "    <tr>\n",
              "      <th>3</th>\n",
              "      <td>R_KUNDEN</td>\n",
              "      <td>An:\\tKUNDENSERVICE@EPLUS\\nKopie:\\t \\nDatum:\\t0...</td>\n",
              "    </tr>\n",
              "    <tr>\n",
              "      <th>4</th>\n",
              "      <td>UPGRADE_ERSATZ_GUTSCHRIFT</td>\n",
              "      <td>An:\\tKUNDENSERVICE@EPLUS\\nKopie:\\t \\nDatum:\\t2...</td>\n",
              "    </tr>\n",
              "  </tbody>\n",
              "</table>\n",
              "</div>"
            ],
            "text/plain": [
              "                    Category  \\\n",
              "0                   R_KUNDEN   \n",
              "1                   R_KUNDEN   \n",
              "2                   R_KUNDEN   \n",
              "3                   R_KUNDEN   \n",
              "4  UPGRADE_ERSATZ_GUTSCHRIFT   \n",
              "\n",
              "                                             Content  \n",
              "0  An:\\tKUNDENSERVICE@EPLUS\\nKopie:\\t \\nDatum:\\t1...  \n",
              "1  An:\\tKUNDENSERVICE@EPLUS\\nKopie:\\t \\nDatum:\\t3...  \n",
              "2  An:\\tKUNDENSERVICE@EPLUS\\nKopie:\\t \\nDatum:\\t1...  \n",
              "3  An:\\tKUNDENSERVICE@EPLUS\\nKopie:\\t \\nDatum:\\t0...  \n",
              "4  An:\\tKUNDENSERVICE@EPLUS\\nKopie:\\t \\nDatum:\\t2...  "
            ]
          },
          "execution_count": 9,
          "metadata": {},
          "output_type": "execute_result"
        }
      ],
      "source": [
        "df.head()"
      ]
    },
    {
      "cell_type": "code",
      "execution_count": 10,
      "metadata": {
        "colab": {
          "base_uri": "https://localhost:8080/"
        },
        "id": "E_IqFKwV4Sed",
        "outputId": "9c1d26dc-9a55-45d9-8b40-e31d6cd5b673"
      },
      "outputs": [
        {
          "name": "stdout",
          "output_type": "stream",
          "text": [
            "An:\tKUNDENSERVICE@EPLUS\n",
            "Kopie:\t \n",
            "Datum:\t18.09.2001 11:25:33\n",
            "Betreff:\tE-Mail Beantwortung\n",
            "\n",
            "\t  \n",
            "\n",
            "\n",
            "\n",
            "Anrede         : Herr\n",
            "Name           : Klaus-Peter Böhm\n",
            "Handyrufnummer : 49 177 7549010\n",
            "Account Nummer :\n",
            "Handymodell    :\n",
            "Provider       : E-Plus Service\n",
            "Email          : kbhm@aol.com\n",
            "-------------------------------------\n",
            "Nachricht      : Da man bei der Kunden-hotline eh nur zu allgemeinen \n",
            "Dingen Auskunft erhält und seltene auf einen kompetenten Ansprechpartner \n",
            "trifft muß ich mich heute auf diesem Wege an Sie wenden.\n",
            "Mit heutigem Eingang meiner Rechnung musste ich wieder einmal feststellen \n",
            ", dass ihrerseits die Grundgebühren voll berechnet wurden , obwohl wie \n",
            "Ihnen bekannt das Netz auch im vergangenen Monat an mehreren Tagen \n",
            "größtenteils überhaupt nicht zur Verfügung stand. Bei der hotline bekommt \n",
            "man dann die lapidare Auskunft mal solle weiter versuchen sich \n",
            "einzubuchen. Kein Wort der Entschuldigung für die Nicht- Verfügbarkeit. \n",
            "Ist es normal zu kasssieren für eine Leistung, die man nicht erbracht \n",
            "hat?Ist es normal die Kunden von seiten der Geschäftsleitung anzuschreiben \n",
            "und einen besseren Service für die Bestandskunden anzukündigen, aber genau \n",
            "das Gegenteil passiert ? mit noch freundlichen Grüßen\n",
            "-------------------------------------\n",
            "--444132822.1000808733435.JavaMail.nsuser@apps1mn1--\n",
            "\n",
            "\n"
          ]
        }
      ],
      "source": [
        "# example of correctly decoded email\n",
        "print(df['Content'][0])"
      ]
    },
    {
      "cell_type": "code",
      "execution_count": 11,
      "metadata": {
        "colab": {
          "base_uri": "https://localhost:8080/"
        },
        "id": "yI2A-k2k1pye",
        "outputId": "dbdd9aa5-d804-46e7-9cf4-94890165e211"
      },
      "outputs": [
        {
          "name": "stdout",
          "output_type": "stream",
          "text": [
            "An:\tKUNDENSERVICE@EPLUS\n",
            "Kopie:\t \n",
            "Datum:\t31.01.2001 19:25:10\n",
            "Betreff:\tE-Mail Beantwortung  [Virus checked]\n",
            "\n",
            "\t  \n",
            "\n",
            "\n",
            "--497903949.980965510193.JavaMail.nsuser@app03mn1\n",
            "Content-Transfer-Encoding: quoted-printable\n",
            "Content-Type: text/plain; charset=ISO-8859-1\n",
            "\n",
            "Anrede         : Herr\n",
            "Name           : G=FCnther Zimmermann\n",
            "Handyrufnummer : 49 177 2403354\n",
            "Account Nummer :=20\n",
            "Handymodell    : Nokia 3210\n",
            "Provider       : E-Plus Service\n",
            "Email          : Guenther.Zimmermann@t-online.de\n",
            "-------------------------------------\n",
            "Nachricht      : Sehr geehrte Damen und Herren,\n",
            "\n",
            "ich habe Ihnen am 28.01.2001 das nachfolgende Schreiben per Fax \n",
            "=FCbermitte=\n",
            "lt, bisher jedoch keine Antwort erhalten. Das bin ich garnicht gewohnt, da \n",
            "=\n",
            "Sie sonst sehr z=FCgig arbeiten. Woran liegt es diesmal?\n",
            "\n",
            "MfG\n",
            "G=FCnther Zimmermann\n",
            "\n",
            "FAX vom 28.01.2001:\n",
            "\n",
            "E-Plus Service GmbH\n",
            "Postfach\n",
            "\n",
            "14425 Potsdam=09=09=09=09=09=09Fax: 0331-7002330\n",
            "\n",
            "\n",
            "\n",
            "\n",
            "E-Plus Service Rufnummer:=09=09491772403354\n",
            "E-Plus Service Kundennummer:=09=091893227\n",
            "\n",
            "\n",
            "Sehr geehrtes E-Plus Service Team,\n",
            "\n",
            "anbei =FCbersende ich Ihnen ein Angebot, das Ihre Gesch=E4ftsstelle Berlin \n",
            "=\n",
            "den Mitarbeitern im =F6ffentlichen Dienst macht.\n",
            "\n",
            "Ich bitte Sie mir kurzfristig schriftlich mitzuteilen, ob Sie auch mir als \n",
            "=\n",
            "Bestandskunden aus dem =F6ffentlichen Dienst den Time & More 60 Tarif zum \n",
            "P=\n",
            "auschalpreis von 26,25 DM anbieten k=F6nnen.\n",
            "\n",
            "Dies sollte ohne Vertragsverl=E4ngerung m=F6glich sein und auch ein ebenso \n",
            "=\n",
            "g=FCnstiges neues Handy NOKIA 6210 enthalten.\n",
            "\n",
            "Ob sich hierbei meine Rufnummer =E4ndert, ist mir nicht wichtig.\n",
            "\n",
            "Sollte dies aus Ihrer Sicht nicht m=F6glich sein, mache ich hiermit von \n",
            "mei=\n",
            "nem Sonderk=FCndigungsrecht aufgrund der mir Im Januar 2001 mitgeteilten \n",
            "Pr=\n",
            "eiserh=F6hung Gebrauch und k=FCndige den Vertrag mit Wirkung zum \n",
            "01.03.2001=\n",
            ".\n",
            "\n",
            "Mit freundlichen Gr=FC=DFen\n",
            "\n",
            "\n",
            "\n",
            "\n",
            "G=FCnther Zimmermann\n",
            "-------------------------------------\n",
            "--497903949.980965510193.JavaMail.nsuser@app03mn1--\n",
            "\n",
            "\n"
          ]
        }
      ],
      "source": [
        "# example of incorrectly decoded email\n",
        "print(df['Content'][1])"
      ]
    },
    {
      "cell_type": "code",
      "execution_count": 12,
      "metadata": {
        "colab": {
          "base_uri": "https://localhost:8080/"
        },
        "id": "63Oez6Yw5ug-",
        "outputId": "26f1178b-1af6-473c-aadf-4a0ea9a46039"
      },
      "outputs": [
        {
          "name": "stdout",
          "output_type": "stream",
          "text": [
            "An:\tKUNDENSERVICE@EPLUS\n",
            "Kopie:\t \n",
            "Datum:\t31.01.2001 19:25:10\n",
            "Betreff:\tE-Mail Beantwortung  [Virus checked]\n",
            "\n",
            "\t  \n",
            "\n",
            "\n",
            "--497903949.980965510193.JavaMail.nsuser@app03mn1\n",
            "Content-Transfer-Encoding: quoted-printable\n",
            "Content-Type: text/plain; charset=ISO-8859-1\n",
            "\n",
            "Anrede         : Herr\n",
            "Name           : Günther Zimmermann\n",
            "Handyrufnummer : 49 177 2403354\n",
            "Account Nummer : \n",
            "Handymodell    : Nokia 3210\n",
            "Provider       : E-Plus Service\n",
            "Email          : Guenther.Zimmermann@t-online.de\n",
            "-------------------------------------\n",
            "Nachricht      : Sehr geehrte Damen und Herren,\n",
            "\n",
            "ich habe Ihnen am 28.01.2001 das nachfolgende Schreiben per Fax \n",
            "übermittelt, bisher jedoch keine Antwort erhalten. Das bin ich garnicht gewohnt, da \n",
            "Sie sonst sehr zügig arbeiten. Woran liegt es diesmal?\n",
            "\n",
            "MfG\n",
            "Günther Zimmermann\n",
            "\n",
            "FAX vom 28.01.2001:\n",
            "\n",
            "E-Plus Service GmbH\n",
            "Postfach\n",
            "\n",
            "14425 Potsdam\t\t\t\t\t\tFax: 0331-7002330\n",
            "\n",
            "\n",
            "\n",
            "\n",
            "E-Plus Service Rufnummer:\t\t491772403354\n",
            "E-Plus Service Kundennummer:\t\t1893227\n",
            "\n",
            "\n",
            "Sehr geehrtes E-Plus Service Team,\n",
            "\n",
            "anbei übersende ich Ihnen ein Angebot, das Ihre Geschäftsstelle Berlin \n",
            "den Mitarbeitern im öffentlichen Dienst macht.\n",
            "\n",
            "Ich bitte Sie mir kurzfristig schriftlich mitzuteilen, ob Sie auch mir als \n",
            "Bestandskunden aus dem öffentlichen Dienst den Time & More 60 Tarif zum \n",
            "Pauschalpreis von 26,25 DM anbieten können.\n",
            "\n",
            "Dies sollte ohne Vertragsverlängerung möglich sein und auch ein ebenso \n",
            "günstiges neues Handy NOKIA 6210 enthalten.\n",
            "\n",
            "Ob sich hierbei meine Rufnummer ändert, ist mir nicht wichtig.\n",
            "\n",
            "Sollte dies aus Ihrer Sicht nicht möglich sein, mache ich hiermit von \n",
            "meinem Sonderkündigungsrecht aufgrund der mir Im Januar 2001 mitgeteilten \n",
            "Preiserhöhung Gebrauch und kündige den Vertrag mit Wirkung zum \n",
            "01.03.2001.\n",
            "\n",
            "Mit freundlichen Grüßen\n",
            "\n",
            "\n",
            "\n",
            "\n",
            "Günther Zimmermann\n",
            "-------------------------------------\n",
            "--497903949.980965510193.JavaMail.nsuser@app03mn1--\n",
            "\n",
            "\n"
          ]
        }
      ],
      "source": [
        "import quopri\n",
        "\n",
        "encoded_text = df['Content'][1]\n",
        "decoded_text = quopri.decodestring(encoded_text).decode('iso-8859-1')\n",
        "\n",
        "print(decoded_text)"
      ]
    },
    {
      "cell_type": "code",
      "execution_count": 13,
      "metadata": {
        "colab": {
          "base_uri": "https://localhost:8080/"
        },
        "id": "h4RPh0rWPEKI",
        "outputId": "8221fec8-4aa3-4e6c-878e-1b492b575327"
      },
      "outputs": [
        {
          "data": {
            "text/plain": [
              "(2448, 2)"
            ]
          },
          "execution_count": 13,
          "metadata": {},
          "output_type": "execute_result"
        }
      ],
      "source": [
        "df.shape"
      ]
    },
    {
      "cell_type": "code",
      "execution_count": 14,
      "metadata": {
        "colab": {
          "base_uri": "https://localhost:8080/",
          "height": 775
        },
        "id": "b-Dxu3WYe0J6",
        "outputId": "4889d966-5225-4850-8add-cd8e7dae1daf"
      },
      "outputs": [
        {
          "data": {
            "image/png": "[encoded data removed]",
            "text/plain": [
              "<Figure size 800x600 with 1 Axes>"
            ]
          },
          "metadata": {},
          "output_type": "display_data"
        }
      ],
      "source": [
        "# class distribution\n",
        "\n",
        "import matplotlib.pyplot as plt\n",
        "\n",
        "# Count the occurrences of each class\n",
        "class_counts = df['Category'].value_counts()\n",
        "\n",
        "# Plotting the class distribution\n",
        "plt.figure(figsize=(8, 6))\n",
        "class_counts.plot(kind='bar', color=(0.01,0.01,0.31))\n",
        "plt.title('Class Distribution')\n",
        "plt.xlabel('Classes')\n",
        "plt.ylabel('Count')\n",
        "plt.xticks(rotation=77)  # Rotate x-axis labels if needed\n",
        "plt.show()"
      ]
    },
    {
      "cell_type": "code",
      "execution_count": 15,
      "metadata": {
        "colab": {
          "base_uri": "https://localhost:8080/"
        },
        "id": "efTugtP5e3Bd",
        "outputId": "38cc3c95-0138-474e-8fc7-cb1196e8f7e2"
      },
      "outputs": [
        {
          "data": {
            "text/plain": [
              "Category\n",
              "FREE___EASY                  772\n",
              "E_PLUS_ONLINE                311\n",
              "NON_VOICE_DIENSTE            264\n",
              "GERAETE_UND_ZUBEHOER         218\n",
              "NETZ                         152\n",
              "TARIFE                       109\n",
              "VERTRAEGE_UND_VEREINBARUN     92\n",
              "NETZDIENSTE                   82\n",
              "AKTIVIERUNG_SIM               77\n",
              "TEILNEHMERSTAMMDATEN          63\n",
              "MEHRWERTDIENSTE               63\n",
              "RECHNUNGEN                    57\n",
              "KUENDIGUNGEN                  54\n",
              "UPGRADE_ERSATZ_GUTSCHRIFT     40\n",
              "KUNDENBETREUUNG_ONLINE        39\n",
              "MAHNUNGEN                     19\n",
              "AKTIONEN                      14\n",
              "STORNO                        11\n",
              "VERTRIEBSPARTNER               6\n",
              "R_KUNDEN                       4\n",
              "PRAEVENTION                    1\n",
              "Name: count, dtype: int64"
            ]
          },
          "execution_count": 15,
          "metadata": {},
          "output_type": "execute_result"
        }
      ],
      "source": [
        "df['Category'].value_counts()"
      ]
    },
    {
      "cell_type": "markdown",
      "metadata": {
        "id": "OoAKnrHz4zHu"
      },
      "source": [
        "Here, we deal with the data imbalance. The biggest class has 772 records, while the smallest - PRAEVENTION - has only 1 record. We can use ovesampling to eliminate this problem."
      ]
    },
    {
      "cell_type": "markdown",
      "metadata": {
        "id": "hYPHYOMC9aAK"
      },
      "source": [
        "## Fix the encoding of the emails"
      ]
    },
    {
      "cell_type": "code",
      "execution_count": 16,
      "metadata": {
        "id": "CCh2Nr209ZNy"
      },
      "outputs": [],
      "source": [
        "def decode_quoted_printable(text):\n",
        "    if isinstance(text, str):\n",
        "        try:\n",
        "            # Convert string to bytes, decode using quopri, and then decode to iso-8859-1\n",
        "            decoded = quopri.decodestring(text.encode('latin1')).decode('iso-8859-1')\n",
        "            return decoded\n",
        "        except Exception as e:\n",
        "            return str(e)\n",
        "    return text\n",
        "\n",
        "df['Content_fixed'] = df['Content'].apply(decode_quoted_printable)\n"
      ]
    },
    {
      "cell_type": "markdown",
      "metadata": {
        "id": "RfIFeiGjdrj-"
      },
      "source": [
        "## Duplicate the category with only one example"
      ]
    },
    {
      "cell_type": "markdown",
      "metadata": {
        "id": "FhPfNlSK5ON-"
      },
      "source": [
        "We need to duplicate categories with only one example because sklearn doesn't allow train/test splitting unless there is a minimum of 2 entries per category. The category with only onw example in the dataset is 'PRAEVENTION'"
      ]
    },
    {
      "cell_type": "code",
      "execution_count": 17,
      "metadata": {
        "colab": {
          "base_uri": "https://localhost:8080/"
        },
        "id": "DHtBJmb5xHqg",
        "outputId": "a431c7fe-4013-42a3-9d02-af3e90b4182a"
      },
      "outputs": [],
      "source": [
        "# Duplicating rows where 'Category' is 'PRAEVENTION'\n",
        "condition = df['Category'] == 'PRAEVENTION'\n",
        "rows_to_duplicate = df[condition]\n",
        "\n",
        "# Duplicate the rows\n",
        "duplicated_rows = rows_to_duplicate.copy()\n",
        "\n",
        "# Append duplicated rows to the original DataFrame\n",
        "df = pd.concat([df, duplicated_rows], ignore_index=True)"
      ]
    },
    {
      "cell_type": "code",
      "execution_count": 18,
      "metadata": {
        "colab": {
          "base_uri": "https://localhost:8080/"
        },
        "id": "wJ3369j9xOqY",
        "outputId": "b22cae91-2bb4-4bc0-8028-d159c36c779b"
      },
      "outputs": [
        {
          "data": {
            "text/plain": [
              "Category\n",
              "FREE___EASY                  772\n",
              "E_PLUS_ONLINE                311\n",
              "NON_VOICE_DIENSTE            264\n",
              "GERAETE_UND_ZUBEHOER         218\n",
              "NETZ                         152\n",
              "TARIFE                       109\n",
              "VERTRAEGE_UND_VEREINBARUN     92\n",
              "NETZDIENSTE                   82\n",
              "AKTIVIERUNG_SIM               77\n",
              "TEILNEHMERSTAMMDATEN          63\n",
              "MEHRWERTDIENSTE               63\n",
              "RECHNUNGEN                    57\n",
              "KUENDIGUNGEN                  54\n",
              "UPGRADE_ERSATZ_GUTSCHRIFT     40\n",
              "KUNDENBETREUUNG_ONLINE        39\n",
              "MAHNUNGEN                     19\n",
              "AKTIONEN                      14\n",
              "STORNO                        11\n",
              "VERTRIEBSPARTNER               6\n",
              "R_KUNDEN                       4\n",
              "PRAEVENTION                    2\n",
              "Name: count, dtype: int64"
            ]
          },
          "execution_count": 18,
          "metadata": {},
          "output_type": "execute_result"
        }
      ],
      "source": [
        "df['Category'].value_counts()"
      ]
    },
    {
      "cell_type": "markdown",
      "metadata": {
        "id": "aFz5ZhXfd8pK"
      },
      "source": [
        "## Email cleaning"
      ]
    },
    {
      "cell_type": "code",
      "execution_count": null,
      "metadata": {},
      "outputs": [],
      "source": [
        "from text_cleaning import fetch_body, preprocess_text"
      ]
    },
    {
      "cell_type": "code",
      "execution_count": 33,
      "metadata": {
        "colab": {
          "base_uri": "https://localhost:8080/"
        },
        "id": "39claerPeEw1",
        "outputId": "4a8139cb-2a16-42c8-d9d2-1f5449c4c05f"
      },
      "outputs": [
        {
          "data": {
            "text/plain": [
              "Category         False\n",
              "Content          False\n",
              "Content_fixed    False\n",
              "dtype: bool"
            ]
          },
          "execution_count": 33,
          "metadata": {},
          "output_type": "execute_result"
        }
      ],
      "source": [
        "df.isna().any()"
      ]
    },
    {
      "cell_type": "code",
      "execution_count": 34,
      "metadata": {
        "id": "_MYeX5FaeHUQ"
      },
      "outputs": [],
      "source": [
        "df = df.dropna()"
      ]
    },
    {
      "cell_type": "code",
      "execution_count": 35,
      "metadata": {
        "id": "AAnBiUDEMfrR"
      },
      "outputs": [],
      "source": [
        "df['Email_body'] = df['Content_fixed'].apply(fetch_body)"
      ]
    },
    {
      "cell_type": "code",
      "execution_count": 21,
      "metadata": {
        "colab": {
          "base_uri": "https://localhost:8080/",
          "height": 206
        },
        "id": "P6Eb7-M8VX8J",
        "outputId": "62f837ae-6eb8-4f4e-b312-83a70a43be6a"
      },
      "outputs": [
        {
          "data": {
            "text/html": [
              "<div>\n",
              "<style scoped>\n",
              "    .dataframe tbody tr th:only-of-type {\n",
              "        vertical-align: middle;\n",
              "    }\n",
              "\n",
              "    .dataframe tbody tr th {\n",
              "        vertical-align: top;\n",
              "    }\n",
              "\n",
              "    .dataframe thead th {\n",
              "        text-align: right;\n",
              "    }\n",
              "</style>\n",
              "<table border=\"1\" class=\"dataframe\">\n",
              "  <thead>\n",
              "    <tr style=\"text-align: right;\">\n",
              "      <th></th>\n",
              "      <th>Category</th>\n",
              "      <th>Content</th>\n",
              "      <th>Content_fixed</th>\n",
              "    </tr>\n",
              "  </thead>\n",
              "  <tbody>\n",
              "    <tr>\n",
              "      <th>0</th>\n",
              "      <td>R_KUNDEN</td>\n",
              "      <td>An:\\tKUNDENSERVICE@EPLUS\\nKopie:\\t \\nDatum:\\t1...</td>\n",
              "      <td>An:\\tKUNDENSERVICE@EPLUS\\nKopie:\\t \\nDatum:\\t1...</td>\n",
              "    </tr>\n",
              "    <tr>\n",
              "      <th>1</th>\n",
              "      <td>R_KUNDEN</td>\n",
              "      <td>An:\\tKUNDENSERVICE@EPLUS\\nKopie:\\t \\nDatum:\\t3...</td>\n",
              "      <td>An:\\tKUNDENSERVICE@EPLUS\\nKopie:\\t \\nDatum:\\t3...</td>\n",
              "    </tr>\n",
              "    <tr>\n",
              "      <th>2</th>\n",
              "      <td>R_KUNDEN</td>\n",
              "      <td>An:\\tKUNDENSERVICE@EPLUS\\nKopie:\\t \\nDatum:\\t1...</td>\n",
              "      <td>An:\\tKUNDENSERVICE@EPLUS\\nKopie:\\t \\nDatum:\\t1...</td>\n",
              "    </tr>\n",
              "    <tr>\n",
              "      <th>3</th>\n",
              "      <td>R_KUNDEN</td>\n",
              "      <td>An:\\tKUNDENSERVICE@EPLUS\\nKopie:\\t \\nDatum:\\t0...</td>\n",
              "      <td>An:\\tKUNDENSERVICE@EPLUS\\nKopie:\\t \\nDatum:\\t0...</td>\n",
              "    </tr>\n",
              "    <tr>\n",
              "      <th>4</th>\n",
              "      <td>UPGRADE_ERSATZ_GUTSCHRIFT</td>\n",
              "      <td>An:\\tKUNDENSERVICE@EPLUS\\nKopie:\\t \\nDatum:\\t2...</td>\n",
              "      <td>An:\\tKUNDENSERVICE@EPLUS\\nKopie:\\t \\nDatum:\\t2...</td>\n",
              "    </tr>\n",
              "    <tr>\n",
              "      <th>...</th>\n",
              "      <td>...</td>\n",
              "      <td>...</td>\n",
              "      <td>...</td>\n",
              "    </tr>\n",
              "    <tr>\n",
              "      <th>2444</th>\n",
              "      <td>NETZDIENSTE</td>\n",
              "      <td>An:\\tKUNDENSERVICE@EPLUS\\nKopie:\\t \\nDatum:\\t2...</td>\n",
              "      <td>An:\\tKUNDENSERVICE@EPLUS\\nKopie:\\t \\nDatum:\\t2...</td>\n",
              "    </tr>\n",
              "    <tr>\n",
              "      <th>2445</th>\n",
              "      <td>NETZDIENSTE</td>\n",
              "      <td>An:\\tKUNDENSERVICE@EPLUS\\nKopie:\\t \\nDatum:\\t1...</td>\n",
              "      <td>An:\\tKUNDENSERVICE@EPLUS\\nKopie:\\t \\nDatum:\\t1...</td>\n",
              "    </tr>\n",
              "    <tr>\n",
              "      <th>2446</th>\n",
              "      <td>NETZDIENSTE</td>\n",
              "      <td>An:\\tKUNDENSERVICE@EPLUS\\nKopie:\\t \\nDatum:\\t0...</td>\n",
              "      <td>An:\\tKUNDENSERVICE@EPLUS\\nKopie:\\t \\nDatum:\\t0...</td>\n",
              "    </tr>\n",
              "    <tr>\n",
              "      <th>2447</th>\n",
              "      <td>NETZDIENSTE</td>\n",
              "      <td>An:\\tKUNDENSERVICE@EPLUS\\nKopie:\\t \\nDatum:\\t1...</td>\n",
              "      <td>An:\\tKUNDENSERVICE@EPLUS\\nKopie:\\t \\nDatum:\\t1...</td>\n",
              "    </tr>\n",
              "    <tr>\n",
              "      <th>2448</th>\n",
              "      <td>PRAEVENTION</td>\n",
              "      <td>An:\\tKUNDENSERVICE@EPLUS\\nKopie:\\t \\nDatum:\\t3...</td>\n",
              "      <td>An:\\tKUNDENSERVICE@EPLUS\\nKopie:\\t \\nDatum:\\t3...</td>\n",
              "    </tr>\n",
              "  </tbody>\n",
              "</table>\n",
              "<p>2448 rows × 3 columns</p>\n",
              "</div>"
            ],
            "text/plain": [
              "                       Category  \\\n",
              "0                      R_KUNDEN   \n",
              "1                      R_KUNDEN   \n",
              "2                      R_KUNDEN   \n",
              "3                      R_KUNDEN   \n",
              "4     UPGRADE_ERSATZ_GUTSCHRIFT   \n",
              "...                         ...   \n",
              "2444                NETZDIENSTE   \n",
              "2445                NETZDIENSTE   \n",
              "2446                NETZDIENSTE   \n",
              "2447                NETZDIENSTE   \n",
              "2448                PRAEVENTION   \n",
              "\n",
              "                                                Content  \\\n",
              "0     An:\\tKUNDENSERVICE@EPLUS\\nKopie:\\t \\nDatum:\\t1...   \n",
              "1     An:\\tKUNDENSERVICE@EPLUS\\nKopie:\\t \\nDatum:\\t3...   \n",
              "2     An:\\tKUNDENSERVICE@EPLUS\\nKopie:\\t \\nDatum:\\t1...   \n",
              "3     An:\\tKUNDENSERVICE@EPLUS\\nKopie:\\t \\nDatum:\\t0...   \n",
              "4     An:\\tKUNDENSERVICE@EPLUS\\nKopie:\\t \\nDatum:\\t2...   \n",
              "...                                                 ...   \n",
              "2444  An:\\tKUNDENSERVICE@EPLUS\\nKopie:\\t \\nDatum:\\t2...   \n",
              "2445  An:\\tKUNDENSERVICE@EPLUS\\nKopie:\\t \\nDatum:\\t1...   \n",
              "2446  An:\\tKUNDENSERVICE@EPLUS\\nKopie:\\t \\nDatum:\\t0...   \n",
              "2447  An:\\tKUNDENSERVICE@EPLUS\\nKopie:\\t \\nDatum:\\t1...   \n",
              "2448  An:\\tKUNDENSERVICE@EPLUS\\nKopie:\\t \\nDatum:\\t3...   \n",
              "\n",
              "                                          Content_fixed  \n",
              "0     An:\\tKUNDENSERVICE@EPLUS\\nKopie:\\t \\nDatum:\\t1...  \n",
              "1     An:\\tKUNDENSERVICE@EPLUS\\nKopie:\\t \\nDatum:\\t3...  \n",
              "2     An:\\tKUNDENSERVICE@EPLUS\\nKopie:\\t \\nDatum:\\t1...  \n",
              "3     An:\\tKUNDENSERVICE@EPLUS\\nKopie:\\t \\nDatum:\\t0...  \n",
              "4     An:\\tKUNDENSERVICE@EPLUS\\nKopie:\\t \\nDatum:\\t2...  \n",
              "...                                                 ...  \n",
              "2444  An:\\tKUNDENSERVICE@EPLUS\\nKopie:\\t \\nDatum:\\t2...  \n",
              "2445  An:\\tKUNDENSERVICE@EPLUS\\nKopie:\\t \\nDatum:\\t1...  \n",
              "2446  An:\\tKUNDENSERVICE@EPLUS\\nKopie:\\t \\nDatum:\\t0...  \n",
              "2447  An:\\tKUNDENSERVICE@EPLUS\\nKopie:\\t \\nDatum:\\t1...  \n",
              "2448  An:\\tKUNDENSERVICE@EPLUS\\nKopie:\\t \\nDatum:\\t3...  \n",
              "\n",
              "[2448 rows x 3 columns]"
            ]
          },
          "execution_count": 21,
          "metadata": {},
          "output_type": "execute_result"
        }
      ],
      "source": [
        "df"
      ]
    },
    {
      "cell_type": "code",
      "execution_count": 36,
      "metadata": {},
      "outputs": [
        {
          "data": {
            "text/plain": [
              "'Da man bei der Kunden-hotline eh nur zu allgemeinen Dingen Auskunft erhält und seltene auf einen kompetenten Ansprechpartner trifft muß ich mich heute auf diesem Wege an Sie wenden. Mit heutigem Eingang meiner Rechnung musste ich wieder einmal feststellen, dass ihrerseits die Grundgebühren voll berechnet wurden, obwohl wie Ihnen bekannt das Netz auch im vergangenen Monat an mehreren Tagen größtenteils überhaupt nicht zur Verfügung stand. Bei der hotline bekommt man dann die lapidare Auskunft mal solle weiter versuchen sich einzubuchen. Kein Wort der Entschuldigung für die Nicht- Verfügbarkeit. Ist es normal zu kasssieren für eine Leistung, die man nicht erbracht hat?Ist es normal die Kunden von seiten der Geschäftsleitung anzuschreiben und einen besseren Service für die Bestandskunden anzukündigen, aber genau das Gegenteil passiert? mit noch freundlichen Grüßen'"
            ]
          },
          "execution_count": 36,
          "metadata": {},
          "output_type": "execute_result"
        }
      ],
      "source": [
        "df['Email_body'][0]"
      ]
    },
    {
      "cell_type": "code",
      "execution_count": 32,
      "metadata": {},
      "outputs": [
        {
          "name": "stdout",
          "output_type": "stream",
          "text": [
            "An:\tKUNDENSERVICE@EPLUS\n",
            "Kopie:\t \n",
            "Datum:\t06.06.2001 08:46:53\n",
            "Betreff:\tE-Mail Beantwortung\n",
            "\n",
            "\t  \n",
            "\n",
            "\n",
            "\n",
            "Anrede         : Frau\n",
            "Name           : Sim Karte Gesperrt Thielsch Kai\n",
            "Handyrufnummer : 49 178 8820181\n",
            "Account Nummer :\n",
            "Handymodell    : 6150\n",
            "Provider       : E-Plus Service\n",
            "Email          : kaithielsch@gmx.de\n",
            "-------------------------------------\n",
            "Nachricht      : Liebes e plus Team\n",
            "Ich habe aus versehen meinen Pin und den darauffolgenden \"puk\" falsch \n",
            "eingegeben\n",
            "Nun ist meine sim karte gesperrt\n",
            "Wie kann ich einen neuen Pin bekommen damit mein handy wieder \n",
            "einsatzbereit ist??\n",
            "\n",
            "Vielen dank im vorraus\n",
            "Mit freundlichen grüßen\n",
            "Kai Thielsch\n",
            "-------------------------------------\n",
            "--444043493.991813613145.JavaMail.nsuser@apps3mn1--\n",
            "\n",
            "\n"
          ]
        }
      ],
      "source": [
        "print(df['Content'][44])"
      ]
    },
    {
      "cell_type": "code",
      "execution_count": 37,
      "metadata": {},
      "outputs": [
        {
          "data": {
            "text/plain": [
              "'Liebes e plus Team Ich habe aus versehen meinen Pin und den darauffolgenden \"puk\" falsch eingegeben Nun ist meine sim karte gesperrt Wie kann ich einen neuen Pin bekommen damit mein handy wieder einsatzbereit ist?? Vielen dank im vorraus Mit freundlichen grüßen Kai Thielsch'"
            ]
          },
          "execution_count": 37,
          "metadata": {},
          "output_type": "execute_result"
        }
      ],
      "source": [
        "df['Email_body'][44]"
      ]
    },
    {
      "cell_type": "code",
      "execution_count": 112,
      "metadata": {
        "id": "7BogmR4DEoNy"
      },
      "outputs": [],
      "source": [
        "df['Processed_texts'] = df['Email_body'].apply(preprocess_text)"
      ]
    },
    {
      "cell_type": "code",
      "execution_count": 113,
      "metadata": {
        "colab": {
          "base_uri": "https://localhost:8080/",
          "height": 87
        },
        "id": "lOzfOUlVDUjC",
        "outputId": "4b3cde17-aeef-4565-fd9d-6705294116b6"
      },
      "outputs": [
        {
          "data": {
            "application/vnd.google.colaboratory.intrinsic+json": {
              "type": "string"
            },
            "text/plain": [
              "'geehrt dam herr 28.01.2001 nachfolgend schreiben per fax übermitteln antwort erhalten garnicht wohnen zügig arbeiten woran liegen diesmal mfg günth zimmermann fax 28.01.2001 e-plus service gmbh postfach 14425 potsdam fax 0331 7002330 e-plus service rufnummer 491772403354 e-plus service kundennummer 1893227 geehrt e-plus service team anbei übersenden angebot geschäftsstelle berlin mitarbeiter öffentlich dienst bitte kurzfristig schriftlich mitteilen bestandskunden öffentlich dienst tim & more 60 tarif pauschalpreis 26,25 dm anbieten vertragsverlängerung günstig neu handy nokia 6210 enthalten hierbei rufnummer ändern wichtig sicht machen hiermit sonderkündigungsrecht aufgrund januar 2001 mitgeteilten preiserhöhung gebrauch kündigen vertrag wirkung 01.03.2001. freundlich grüß günth zimmermann'"
            ]
          },
          "execution_count": 113,
          "metadata": {},
          "output_type": "execute_result"
        }
      ],
      "source": [
        "df['Processed_texts'][1]"
      ]
    },
    {
      "cell_type": "markdown",
      "metadata": {
        "id": "nPuXcLwC8My7"
      },
      "source": [
        "## Preparing dataset for training with Flair"
      ]
    },
    {
      "cell_type": "code",
      "execution_count": 114,
      "metadata": {
        "id": "FgCo2p1dbVV9"
      },
      "outputs": [],
      "source": [
        "df['label'] = df['Category'].astype('category').cat.codes"
      ]
    },
    {
      "cell_type": "code",
      "execution_count": 115,
      "metadata": {
        "colab": {
          "base_uri": "https://localhost:8080/",
          "height": 293
        },
        "id": "cBTx74CsbsXc",
        "outputId": "fb8de511-4586-42f3-b834-a010cbc80dd1"
      },
      "outputs": [
        {
          "data": {
            "text/html": [
              "\n",
              "  <div id=\"df-5d786003-064f-439a-b33a-5c3aa795d25e\" class=\"colab-df-container\">\n",
              "    <div>\n",
              "<style scoped>\n",
              "    .dataframe tbody tr th:only-of-type {\n",
              "        vertical-align: middle;\n",
              "    }\n",
              "\n",
              "    .dataframe tbody tr th {\n",
              "        vertical-align: top;\n",
              "    }\n",
              "\n",
              "    .dataframe thead th {\n",
              "        text-align: right;\n",
              "    }\n",
              "</style>\n",
              "<table border=\"1\" class=\"dataframe\">\n",
              "  <thead>\n",
              "    <tr style=\"text-align: right;\">\n",
              "      <th></th>\n",
              "      <th>Category</th>\n",
              "      <th>Content</th>\n",
              "      <th>Content_fixed</th>\n",
              "      <th>Email_body</th>\n",
              "      <th>Processed_texts</th>\n",
              "      <th>label</th>\n",
              "    </tr>\n",
              "  </thead>\n",
              "  <tbody>\n",
              "    <tr>\n",
              "      <th>0</th>\n",
              "      <td>R_KUNDEN</td>\n",
              "      <td>An:\\tKUNDENSERVICE@EPLUS\\nKopie:\\t \\nDatum:\\t1...</td>\n",
              "      <td>An:\\tKUNDENSERVICE@EPLUS\\nKopie:\\t \\nDatum:\\t1...</td>\n",
              "      <td>Da man bei der Kunden-hotline eh nur zu allgem...</td>\n",
              "      <td>kunden-hotline eh ding auskunft erhalten selte...</td>\n",
              "      <td>14</td>\n",
              "    </tr>\n",
              "    <tr>\n",
              "      <th>1</th>\n",
              "      <td>R_KUNDEN</td>\n",
              "      <td>An:\\tKUNDENSERVICE@EPLUS\\nKopie:\\t \\nDatum:\\t3...</td>\n",
              "      <td>An:\\tKUNDENSERVICE@EPLUS\\nKopie:\\t \\nDatum:\\t3...</td>\n",
              "      <td>Sehr geehrte Damen und Herren,  ich habe Ihnen...</td>\n",
              "      <td>geehrt dam herr 28.01.2001 nachfolgend schreib...</td>\n",
              "      <td>14</td>\n",
              "    </tr>\n",
              "    <tr>\n",
              "      <th>2</th>\n",
              "      <td>R_KUNDEN</td>\n",
              "      <td>An:\\tKUNDENSERVICE@EPLUS\\nKopie:\\t \\nDatum:\\t1...</td>\n",
              "      <td>An:\\tKUNDENSERVICE@EPLUS\\nKopie:\\t \\nDatum:\\t1...</td>\n",
              "      <td>Am 30.3. habe ich als Siemens-Mitarbeiter(güns...</td>\n",
              "      <td>30.3. siemens-mitarbeiter günstig tarif verkau...</td>\n",
              "      <td>14</td>\n",
              "    </tr>\n",
              "    <tr>\n",
              "      <th>3</th>\n",
              "      <td>R_KUNDEN</td>\n",
              "      <td>An:\\tKUNDENSERVICE@EPLUS\\nKopie:\\t \\nDatum:\\t0...</td>\n",
              "      <td>An:\\tKUNDENSERVICE@EPLUS\\nKopie:\\t \\nDatum:\\t0...</td>\n",
              "      <td>Ich habe von einem Bekannten gehört, dass es f...</td>\n",
              "      <td>bekannt gehören angehoerig oeffentlich dienst ...</td>\n",
              "      <td>14</td>\n",
              "    </tr>\n",
              "    <tr>\n",
              "      <th>4</th>\n",
              "      <td>UPGRADE_ERSATZ_GUTSCHRIFT</td>\n",
              "      <td>An:\\tKUNDENSERVICE@EPLUS\\nKopie:\\t \\nDatum:\\t2...</td>\n",
              "      <td>An:\\tKUNDENSERVICE@EPLUS\\nKopie:\\t \\nDatum:\\t2...</td>\n",
              "      <td>Ein paar allgemeine &gt; Fragen: &gt; Wenn mir mein ...</td>\n",
              "      <td>paar allgemein &gt; fragen &gt; handy samt sim-karte...</td>\n",
              "      <td>18</td>\n",
              "    </tr>\n",
              "  </tbody>\n",
              "</table>\n",
              "</div>\n",
              "    <div class=\"colab-df-buttons\">\n",
              "\n",
              "  <div class=\"colab-df-container\">\n",
              "    <button class=\"colab-df-convert\" onclick=\"convertToInteractive('df-5d786003-064f-439a-b33a-5c3aa795d25e')\"\n",
              "            title=\"Convert this dataframe to an interactive table.\"\n",
              "            style=\"display:none;\">\n",
              "\n",
              "  <svg xmlns=\"http://www.w3.org/2000/svg\" height=\"24px\" viewBox=\"0 -960 960 960\">\n",
              "    <path d=\"M120-120v-720h720v720H120Zm60-500h600v-160H180v160Zm220 220h160v-160H400v160Zm0 220h160v-160H400v160ZM180-400h160v-160H180v160Zm440 0h160v-160H620v160ZM180-180h160v-160H180v160Zm440 0h160v-160H620v160Z\"/>\n",
              "  </svg>\n",
              "    </button>\n",
              "\n",
              "  <style>\n",
              "    .colab-df-container {\n",
              "      display:flex;\n",
              "      gap: 12px;\n",
              "    }\n",
              "\n",
              "    .colab-df-convert {\n",
              "      background-color: #E8F0FE;\n",
              "      border: none;\n",
              "      border-radius: 50%;\n",
              "      cursor: pointer;\n",
              "      display: none;\n",
              "      fill: #1967D2;\n",
              "      height: 32px;\n",
              "      padding: 0 0 0 0;\n",
              "      width: 32px;\n",
              "    }\n",
              "\n",
              "    .colab-df-convert:hover {\n",
              "      background-color: #E2EBFA;\n",
              "      box-shadow: 0px 1px 2px rgba(60, 64, 67, 0.3), 0px 1px 3px 1px rgba(60, 64, 67, 0.15);\n",
              "      fill: #174EA6;\n",
              "    }\n",
              "\n",
              "    .colab-df-buttons div {\n",
              "      margin-bottom: 4px;\n",
              "    }\n",
              "\n",
              "    [theme=dark] .colab-df-convert {\n",
              "      background-color: #3B4455;\n",
              "      fill: #D2E3FC;\n",
              "    }\n",
              "\n",
              "    [theme=dark] .colab-df-convert:hover {\n",
              "      background-color: #434B5C;\n",
              "      box-shadow: 0px 1px 3px 1px rgba(0, 0, 0, 0.15);\n",
              "      filter: drop-shadow(0px 1px 2px rgba(0, 0, 0, 0.3));\n",
              "      fill: #FFFFFF;\n",
              "    }\n",
              "  </style>\n",
              "\n",
              "    <script>\n",
              "      const buttonEl =\n",
              "        document.querySelector('#df-5d786003-064f-439a-b33a-5c3aa795d25e button.colab-df-convert');\n",
              "      buttonEl.style.display =\n",
              "        google.colab.kernel.accessAllowed ? 'block' : 'none';\n",
              "\n",
              "      async function convertToInteractive(key) {\n",
              "        const element = document.querySelector('#df-5d786003-064f-439a-b33a-5c3aa795d25e');\n",
              "        const dataTable =\n",
              "          await google.colab.kernel.invokeFunction('convertToInteractive',\n",
              "                                                    [key], {});\n",
              "        if (!dataTable) return;\n",
              "\n",
              "        const docLinkHtml = 'Like what you see? Visit the ' +\n",
              "          '<a target=\"_blank\" href=https://colab.research.google.com/notebooks/data_table.ipynb>data table notebook</a>'\n",
              "          + ' to learn more about interactive tables.';\n",
              "        element.innerHTML = '';\n",
              "        dataTable['output_type'] = 'display_data';\n",
              "        await google.colab.output.renderOutput(dataTable, element);\n",
              "        const docLink = document.createElement('div');\n",
              "        docLink.innerHTML = docLinkHtml;\n",
              "        element.appendChild(docLink);\n",
              "      }\n",
              "    </script>\n",
              "  </div>\n",
              "\n",
              "\n",
              "<div id=\"df-522c9b7c-8aa6-497b-9860-cc819f3db271\">\n",
              "  <button class=\"colab-df-quickchart\" onclick=\"quickchart('df-522c9b7c-8aa6-497b-9860-cc819f3db271')\"\n",
              "            title=\"Suggest charts\"\n",
              "            style=\"display:none;\">\n",
              "\n",
              "<svg xmlns=\"http://www.w3.org/2000/svg\" height=\"24px\"viewBox=\"0 0 24 24\"\n",
              "     width=\"24px\">\n",
              "    <g>\n",
              "        <path d=\"M19 3H5c-1.1 0-2 .9-2 2v14c0 1.1.9 2 2 2h14c1.1 0 2-.9 2-2V5c0-1.1-.9-2-2-2zM9 17H7v-7h2v7zm4 0h-2V7h2v10zm4 0h-2v-4h2v4z\"/>\n",
              "    </g>\n",
              "</svg>\n",
              "  </button>\n",
              "\n",
              "<style>\n",
              "  .colab-df-quickchart {\n",
              "      --bg-color: #E8F0FE;\n",
              "      --fill-color: #1967D2;\n",
              "      --hover-bg-color: #E2EBFA;\n",
              "      --hover-fill-color: #174EA6;\n",
              "      --disabled-fill-color: #AAA;\n",
              "      --disabled-bg-color: #DDD;\n",
              "  }\n",
              "\n",
              "  [theme=dark] .colab-df-quickchart {\n",
              "      --bg-color: #3B4455;\n",
              "      --fill-color: #D2E3FC;\n",
              "      --hover-bg-color: #434B5C;\n",
              "      --hover-fill-color: #FFFFFF;\n",
              "      --disabled-bg-color: #3B4455;\n",
              "      --disabled-fill-color: #666;\n",
              "  }\n",
              "\n",
              "  .colab-df-quickchart {\n",
              "    background-color: var(--bg-color);\n",
              "    border: none;\n",
              "    border-radius: 50%;\n",
              "    cursor: pointer;\n",
              "    display: none;\n",
              "    fill: var(--fill-color);\n",
              "    height: 32px;\n",
              "    padding: 0;\n",
              "    width: 32px;\n",
              "  }\n",
              "\n",
              "  .colab-df-quickchart:hover {\n",
              "    background-color: var(--hover-bg-color);\n",
              "    box-shadow: 0 1px 2px rgba(60, 64, 67, 0.3), 0 1px 3px 1px rgba(60, 64, 67, 0.15);\n",
              "    fill: var(--button-hover-fill-color);\n",
              "  }\n",
              "\n",
              "  .colab-df-quickchart-complete:disabled,\n",
              "  .colab-df-quickchart-complete:disabled:hover {\n",
              "    background-color: var(--disabled-bg-color);\n",
              "    fill: var(--disabled-fill-color);\n",
              "    box-shadow: none;\n",
              "  }\n",
              "\n",
              "  .colab-df-spinner {\n",
              "    border: 2px solid var(--fill-color);\n",
              "    border-color: transparent;\n",
              "    border-bottom-color: var(--fill-color);\n",
              "    animation:\n",
              "      spin 1s steps(1) infinite;\n",
              "  }\n",
              "\n",
              "  @keyframes spin {\n",
              "    0% {\n",
              "      border-color: transparent;\n",
              "      border-bottom-color: var(--fill-color);\n",
              "      border-left-color: var(--fill-color);\n",
              "    }\n",
              "    20% {\n",
              "      border-color: transparent;\n",
              "      border-left-color: var(--fill-color);\n",
              "      border-top-color: var(--fill-color);\n",
              "    }\n",
              "    30% {\n",
              "      border-color: transparent;\n",
              "      border-left-color: var(--fill-color);\n",
              "      border-top-color: var(--fill-color);\n",
              "      border-right-color: var(--fill-color);\n",
              "    }\n",
              "    40% {\n",
              "      border-color: transparent;\n",
              "      border-right-color: var(--fill-color);\n",
              "      border-top-color: var(--fill-color);\n",
              "    }\n",
              "    60% {\n",
              "      border-color: transparent;\n",
              "      border-right-color: var(--fill-color);\n",
              "    }\n",
              "    80% {\n",
              "      border-color: transparent;\n",
              "      border-right-color: var(--fill-color);\n",
              "      border-bottom-color: var(--fill-color);\n",
              "    }\n",
              "    90% {\n",
              "      border-color: transparent;\n",
              "      border-bottom-color: var(--fill-color);\n",
              "    }\n",
              "  }\n",
              "</style>\n",
              "\n",
              "  <script>\n",
              "    async function quickchart(key) {\n",
              "      const quickchartButtonEl =\n",
              "        document.querySelector('#' + key + ' button');\n",
              "      quickchartButtonEl.disabled = true;  // To prevent multiple clicks.\n",
              "      quickchartButtonEl.classList.add('colab-df-spinner');\n",
              "      try {\n",
              "        const charts = await google.colab.kernel.invokeFunction(\n",
              "            'suggestCharts', [key], {});\n",
              "      } catch (error) {\n",
              "        console.error('Error during call to suggestCharts:', error);\n",
              "      }\n",
              "      quickchartButtonEl.classList.remove('colab-df-spinner');\n",
              "      quickchartButtonEl.classList.add('colab-df-quickchart-complete');\n",
              "    }\n",
              "    (() => {\n",
              "      let quickchartButtonEl =\n",
              "        document.querySelector('#df-522c9b7c-8aa6-497b-9860-cc819f3db271 button');\n",
              "      quickchartButtonEl.style.display =\n",
              "        google.colab.kernel.accessAllowed ? 'block' : 'none';\n",
              "    })();\n",
              "  </script>\n",
              "</div>\n",
              "    </div>\n",
              "  </div>\n"
            ],
            "text/plain": [
              "                    Category  \\\n",
              "0                   R_KUNDEN   \n",
              "1                   R_KUNDEN   \n",
              "2                   R_KUNDEN   \n",
              "3                   R_KUNDEN   \n",
              "4  UPGRADE_ERSATZ_GUTSCHRIFT   \n",
              "\n",
              "                                             Content  \\\n",
              "0  An:\\tKUNDENSERVICE@EPLUS\\nKopie:\\t \\nDatum:\\t1...   \n",
              "1  An:\\tKUNDENSERVICE@EPLUS\\nKopie:\\t \\nDatum:\\t3...   \n",
              "2  An:\\tKUNDENSERVICE@EPLUS\\nKopie:\\t \\nDatum:\\t1...   \n",
              "3  An:\\tKUNDENSERVICE@EPLUS\\nKopie:\\t \\nDatum:\\t0...   \n",
              "4  An:\\tKUNDENSERVICE@EPLUS\\nKopie:\\t \\nDatum:\\t2...   \n",
              "\n",
              "                                       Content_fixed  \\\n",
              "0  An:\\tKUNDENSERVICE@EPLUS\\nKopie:\\t \\nDatum:\\t1...   \n",
              "1  An:\\tKUNDENSERVICE@EPLUS\\nKopie:\\t \\nDatum:\\t3...   \n",
              "2  An:\\tKUNDENSERVICE@EPLUS\\nKopie:\\t \\nDatum:\\t1...   \n",
              "3  An:\\tKUNDENSERVICE@EPLUS\\nKopie:\\t \\nDatum:\\t0...   \n",
              "4  An:\\tKUNDENSERVICE@EPLUS\\nKopie:\\t \\nDatum:\\t2...   \n",
              "\n",
              "                                          Email_body  \\\n",
              "0  Da man bei der Kunden-hotline eh nur zu allgem...   \n",
              "1  Sehr geehrte Damen und Herren,  ich habe Ihnen...   \n",
              "2  Am 30.3. habe ich als Siemens-Mitarbeiter(güns...   \n",
              "3  Ich habe von einem Bekannten gehört, dass es f...   \n",
              "4  Ein paar allgemeine > Fragen: > Wenn mir mein ...   \n",
              "\n",
              "                                     Processed_texts  label  \n",
              "0  kunden-hotline eh ding auskunft erhalten selte...     14  \n",
              "1  geehrt dam herr 28.01.2001 nachfolgend schreib...     14  \n",
              "2  30.3. siemens-mitarbeiter günstig tarif verkau...     14  \n",
              "3  bekannt gehören angehoerig oeffentlich dienst ...     14  \n",
              "4  paar allgemein > fragen > handy samt sim-karte...     18  "
            ]
          },
          "execution_count": 115,
          "metadata": {},
          "output_type": "execute_result"
        }
      ],
      "source": [
        "df.head()"
      ]
    },
    {
      "cell_type": "code",
      "execution_count": 116,
      "metadata": {
        "id": "yWw1hMG2btqE"
      },
      "outputs": [],
      "source": [
        "df['label'] = '__label__' + df['label'].astype(str)"
      ]
    },
    {
      "cell_type": "code",
      "execution_count": 117,
      "metadata": {
        "colab": {
          "base_uri": "https://localhost:8080/",
          "height": 311
        },
        "id": "M-sjI4prcBUX",
        "outputId": "26db11f5-bdc9-4c7c-f696-ad36a05a9bef"
      },
      "outputs": [
        {
          "data": {
            "text/html": [
              "\n",
              "  <div id=\"df-d254ae17-2512-499b-9d7e-fb4f855e7f4c\" class=\"colab-df-container\">\n",
              "    <div>\n",
              "<style scoped>\n",
              "    .dataframe tbody tr th:only-of-type {\n",
              "        vertical-align: middle;\n",
              "    }\n",
              "\n",
              "    .dataframe tbody tr th {\n",
              "        vertical-align: top;\n",
              "    }\n",
              "\n",
              "    .dataframe thead th {\n",
              "        text-align: right;\n",
              "    }\n",
              "</style>\n",
              "<table border=\"1\" class=\"dataframe\">\n",
              "  <thead>\n",
              "    <tr style=\"text-align: right;\">\n",
              "      <th></th>\n",
              "      <th>Category</th>\n",
              "      <th>Content</th>\n",
              "      <th>Content_fixed</th>\n",
              "      <th>Email_body</th>\n",
              "      <th>Processed_texts</th>\n",
              "      <th>label</th>\n",
              "      <th>label_text</th>\n",
              "    </tr>\n",
              "  </thead>\n",
              "  <tbody>\n",
              "    <tr>\n",
              "      <th>0</th>\n",
              "      <td>R_KUNDEN</td>\n",
              "      <td>An:\\tKUNDENSERVICE@EPLUS\\nKopie:\\t \\nDatum:\\t1...</td>\n",
              "      <td>An:\\tKUNDENSERVICE@EPLUS\\nKopie:\\t \\nDatum:\\t1...</td>\n",
              "      <td>Da man bei der Kunden-hotline eh nur zu allgem...</td>\n",
              "      <td>kunden-hotline eh ding auskunft erhalten selte...</td>\n",
              "      <td>__label__14</td>\n",
              "      <td>__label__14 kunden-hotline eh ding auskunft er...</td>\n",
              "    </tr>\n",
              "    <tr>\n",
              "      <th>1</th>\n",
              "      <td>R_KUNDEN</td>\n",
              "      <td>An:\\tKUNDENSERVICE@EPLUS\\nKopie:\\t \\nDatum:\\t3...</td>\n",
              "      <td>An:\\tKUNDENSERVICE@EPLUS\\nKopie:\\t \\nDatum:\\t3...</td>\n",
              "      <td>Sehr geehrte Damen und Herren,  ich habe Ihnen...</td>\n",
              "      <td>geehrt dam herr 28.01.2001 nachfolgend schreib...</td>\n",
              "      <td>__label__14</td>\n",
              "      <td>__label__14 geehrt dam herr 28.01.2001 nachfol...</td>\n",
              "    </tr>\n",
              "    <tr>\n",
              "      <th>2</th>\n",
              "      <td>R_KUNDEN</td>\n",
              "      <td>An:\\tKUNDENSERVICE@EPLUS\\nKopie:\\t \\nDatum:\\t1...</td>\n",
              "      <td>An:\\tKUNDENSERVICE@EPLUS\\nKopie:\\t \\nDatum:\\t1...</td>\n",
              "      <td>Am 30.3. habe ich als Siemens-Mitarbeiter(güns...</td>\n",
              "      <td>30.3. siemens-mitarbeiter günstig tarif verkau...</td>\n",
              "      <td>__label__14</td>\n",
              "      <td>__label__14 30.3. siemens-mitarbeiter günstig ...</td>\n",
              "    </tr>\n",
              "    <tr>\n",
              "      <th>3</th>\n",
              "      <td>R_KUNDEN</td>\n",
              "      <td>An:\\tKUNDENSERVICE@EPLUS\\nKopie:\\t \\nDatum:\\t0...</td>\n",
              "      <td>An:\\tKUNDENSERVICE@EPLUS\\nKopie:\\t \\nDatum:\\t0...</td>\n",
              "      <td>Ich habe von einem Bekannten gehört, dass es f...</td>\n",
              "      <td>bekannt gehören angehoerig oeffentlich dienst ...</td>\n",
              "      <td>__label__14</td>\n",
              "      <td>__label__14 bekannt gehören angehoerig oeffent...</td>\n",
              "    </tr>\n",
              "    <tr>\n",
              "      <th>4</th>\n",
              "      <td>UPGRADE_ERSATZ_GUTSCHRIFT</td>\n",
              "      <td>An:\\tKUNDENSERVICE@EPLUS\\nKopie:\\t \\nDatum:\\t2...</td>\n",
              "      <td>An:\\tKUNDENSERVICE@EPLUS\\nKopie:\\t \\nDatum:\\t2...</td>\n",
              "      <td>Ein paar allgemeine &gt; Fragen: &gt; Wenn mir mein ...</td>\n",
              "      <td>paar allgemein &gt; fragen &gt; handy samt sim-karte...</td>\n",
              "      <td>__label__18</td>\n",
              "      <td>__label__18 paar allgemein &gt; fragen &gt; handy sa...</td>\n",
              "    </tr>\n",
              "  </tbody>\n",
              "</table>\n",
              "</div>\n",
              "    <div class=\"colab-df-buttons\">\n",
              "\n",
              "  <div class=\"colab-df-container\">\n",
              "    <button class=\"colab-df-convert\" onclick=\"convertToInteractive('df-d254ae17-2512-499b-9d7e-fb4f855e7f4c')\"\n",
              "            title=\"Convert this dataframe to an interactive table.\"\n",
              "            style=\"display:none;\">\n",
              "\n",
              "  <svg xmlns=\"http://www.w3.org/2000/svg\" height=\"24px\" viewBox=\"0 -960 960 960\">\n",
              "    <path d=\"M120-120v-720h720v720H120Zm60-500h600v-160H180v160Zm220 220h160v-160H400v160Zm0 220h160v-160H400v160ZM180-400h160v-160H180v160Zm440 0h160v-160H620v160ZM180-180h160v-160H180v160Zm440 0h160v-160H620v160Z\"/>\n",
              "  </svg>\n",
              "    </button>\n",
              "\n",
              "  <style>\n",
              "    .colab-df-container {\n",
              "      display:flex;\n",
              "      gap: 12px;\n",
              "    }\n",
              "\n",
              "    .colab-df-convert {\n",
              "      background-color: #E8F0FE;\n",
              "      border: none;\n",
              "      border-radius: 50%;\n",
              "      cursor: pointer;\n",
              "      display: none;\n",
              "      fill: #1967D2;\n",
              "      height: 32px;\n",
              "      padding: 0 0 0 0;\n",
              "      width: 32px;\n",
              "    }\n",
              "\n",
              "    .colab-df-convert:hover {\n",
              "      background-color: #E2EBFA;\n",
              "      box-shadow: 0px 1px 2px rgba(60, 64, 67, 0.3), 0px 1px 3px 1px rgba(60, 64, 67, 0.15);\n",
              "      fill: #174EA6;\n",
              "    }\n",
              "\n",
              "    .colab-df-buttons div {\n",
              "      margin-bottom: 4px;\n",
              "    }\n",
              "\n",
              "    [theme=dark] .colab-df-convert {\n",
              "      background-color: #3B4455;\n",
              "      fill: #D2E3FC;\n",
              "    }\n",
              "\n",
              "    [theme=dark] .colab-df-convert:hover {\n",
              "      background-color: #434B5C;\n",
              "      box-shadow: 0px 1px 3px 1px rgba(0, 0, 0, 0.15);\n",
              "      filter: drop-shadow(0px 1px 2px rgba(0, 0, 0, 0.3));\n",
              "      fill: #FFFFFF;\n",
              "    }\n",
              "  </style>\n",
              "\n",
              "    <script>\n",
              "      const buttonEl =\n",
              "        document.querySelector('#df-d254ae17-2512-499b-9d7e-fb4f855e7f4c button.colab-df-convert');\n",
              "      buttonEl.style.display =\n",
              "        google.colab.kernel.accessAllowed ? 'block' : 'none';\n",
              "\n",
              "      async function convertToInteractive(key) {\n",
              "        const element = document.querySelector('#df-d254ae17-2512-499b-9d7e-fb4f855e7f4c');\n",
              "        const dataTable =\n",
              "          await google.colab.kernel.invokeFunction('convertToInteractive',\n",
              "                                                    [key], {});\n",
              "        if (!dataTable) return;\n",
              "\n",
              "        const docLinkHtml = 'Like what you see? Visit the ' +\n",
              "          '<a target=\"_blank\" href=https://colab.research.google.com/notebooks/data_table.ipynb>data table notebook</a>'\n",
              "          + ' to learn more about interactive tables.';\n",
              "        element.innerHTML = '';\n",
              "        dataTable['output_type'] = 'display_data';\n",
              "        await google.colab.output.renderOutput(dataTable, element);\n",
              "        const docLink = document.createElement('div');\n",
              "        docLink.innerHTML = docLinkHtml;\n",
              "        element.appendChild(docLink);\n",
              "      }\n",
              "    </script>\n",
              "  </div>\n",
              "\n",
              "\n",
              "<div id=\"df-e13bd07e-3df6-4042-8da2-e0c62355f644\">\n",
              "  <button class=\"colab-df-quickchart\" onclick=\"quickchart('df-e13bd07e-3df6-4042-8da2-e0c62355f644')\"\n",
              "            title=\"Suggest charts\"\n",
              "            style=\"display:none;\">\n",
              "\n",
              "<svg xmlns=\"http://www.w3.org/2000/svg\" height=\"24px\"viewBox=\"0 0 24 24\"\n",
              "     width=\"24px\">\n",
              "    <g>\n",
              "        <path d=\"M19 3H5c-1.1 0-2 .9-2 2v14c0 1.1.9 2 2 2h14c1.1 0 2-.9 2-2V5c0-1.1-.9-2-2-2zM9 17H7v-7h2v7zm4 0h-2V7h2v10zm4 0h-2v-4h2v4z\"/>\n",
              "    </g>\n",
              "</svg>\n",
              "  </button>\n",
              "\n",
              "<style>\n",
              "  .colab-df-quickchart {\n",
              "      --bg-color: #E8F0FE;\n",
              "      --fill-color: #1967D2;\n",
              "      --hover-bg-color: #E2EBFA;\n",
              "      --hover-fill-color: #174EA6;\n",
              "      --disabled-fill-color: #AAA;\n",
              "      --disabled-bg-color: #DDD;\n",
              "  }\n",
              "\n",
              "  [theme=dark] .colab-df-quickchart {\n",
              "      --bg-color: #3B4455;\n",
              "      --fill-color: #D2E3FC;\n",
              "      --hover-bg-color: #434B5C;\n",
              "      --hover-fill-color: #FFFFFF;\n",
              "      --disabled-bg-color: #3B4455;\n",
              "      --disabled-fill-color: #666;\n",
              "  }\n",
              "\n",
              "  .colab-df-quickchart {\n",
              "    background-color: var(--bg-color);\n",
              "    border: none;\n",
              "    border-radius: 50%;\n",
              "    cursor: pointer;\n",
              "    display: none;\n",
              "    fill: var(--fill-color);\n",
              "    height: 32px;\n",
              "    padding: 0;\n",
              "    width: 32px;\n",
              "  }\n",
              "\n",
              "  .colab-df-quickchart:hover {\n",
              "    background-color: var(--hover-bg-color);\n",
              "    box-shadow: 0 1px 2px rgba(60, 64, 67, 0.3), 0 1px 3px 1px rgba(60, 64, 67, 0.15);\n",
              "    fill: var(--button-hover-fill-color);\n",
              "  }\n",
              "\n",
              "  .colab-df-quickchart-complete:disabled,\n",
              "  .colab-df-quickchart-complete:disabled:hover {\n",
              "    background-color: var(--disabled-bg-color);\n",
              "    fill: var(--disabled-fill-color);\n",
              "    box-shadow: none;\n",
              "  }\n",
              "\n",
              "  .colab-df-spinner {\n",
              "    border: 2px solid var(--fill-color);\n",
              "    border-color: transparent;\n",
              "    border-bottom-color: var(--fill-color);\n",
              "    animation:\n",
              "      spin 1s steps(1) infinite;\n",
              "  }\n",
              "\n",
              "  @keyframes spin {\n",
              "    0% {\n",
              "      border-color: transparent;\n",
              "      border-bottom-color: var(--fill-color);\n",
              "      border-left-color: var(--fill-color);\n",
              "    }\n",
              "    20% {\n",
              "      border-color: transparent;\n",
              "      border-left-color: var(--fill-color);\n",
              "      border-top-color: var(--fill-color);\n",
              "    }\n",
              "    30% {\n",
              "      border-color: transparent;\n",
              "      border-left-color: var(--fill-color);\n",
              "      border-top-color: var(--fill-color);\n",
              "      border-right-color: var(--fill-color);\n",
              "    }\n",
              "    40% {\n",
              "      border-color: transparent;\n",
              "      border-right-color: var(--fill-color);\n",
              "      border-top-color: var(--fill-color);\n",
              "    }\n",
              "    60% {\n",
              "      border-color: transparent;\n",
              "      border-right-color: var(--fill-color);\n",
              "    }\n",
              "    80% {\n",
              "      border-color: transparent;\n",
              "      border-right-color: var(--fill-color);\n",
              "      border-bottom-color: var(--fill-color);\n",
              "    }\n",
              "    90% {\n",
              "      border-color: transparent;\n",
              "      border-bottom-color: var(--fill-color);\n",
              "    }\n",
              "  }\n",
              "</style>\n",
              "\n",
              "  <script>\n",
              "    async function quickchart(key) {\n",
              "      const quickchartButtonEl =\n",
              "        document.querySelector('#' + key + ' button');\n",
              "      quickchartButtonEl.disabled = true;  // To prevent multiple clicks.\n",
              "      quickchartButtonEl.classList.add('colab-df-spinner');\n",
              "      try {\n",
              "        const charts = await google.colab.kernel.invokeFunction(\n",
              "            'suggestCharts', [key], {});\n",
              "      } catch (error) {\n",
              "        console.error('Error during call to suggestCharts:', error);\n",
              "      }\n",
              "      quickchartButtonEl.classList.remove('colab-df-spinner');\n",
              "      quickchartButtonEl.classList.add('colab-df-quickchart-complete');\n",
              "    }\n",
              "    (() => {\n",
              "      let quickchartButtonEl =\n",
              "        document.querySelector('#df-e13bd07e-3df6-4042-8da2-e0c62355f644 button');\n",
              "      quickchartButtonEl.style.display =\n",
              "        google.colab.kernel.accessAllowed ? 'block' : 'none';\n",
              "    })();\n",
              "  </script>\n",
              "</div>\n",
              "    </div>\n",
              "  </div>\n"
            ],
            "text/plain": [
              "                    Category  \\\n",
              "0                   R_KUNDEN   \n",
              "1                   R_KUNDEN   \n",
              "2                   R_KUNDEN   \n",
              "3                   R_KUNDEN   \n",
              "4  UPGRADE_ERSATZ_GUTSCHRIFT   \n",
              "\n",
              "                                             Content  \\\n",
              "0  An:\\tKUNDENSERVICE@EPLUS\\nKopie:\\t \\nDatum:\\t1...   \n",
              "1  An:\\tKUNDENSERVICE@EPLUS\\nKopie:\\t \\nDatum:\\t3...   \n",
              "2  An:\\tKUNDENSERVICE@EPLUS\\nKopie:\\t \\nDatum:\\t1...   \n",
              "3  An:\\tKUNDENSERVICE@EPLUS\\nKopie:\\t \\nDatum:\\t0...   \n",
              "4  An:\\tKUNDENSERVICE@EPLUS\\nKopie:\\t \\nDatum:\\t2...   \n",
              "\n",
              "                                       Content_fixed  \\\n",
              "0  An:\\tKUNDENSERVICE@EPLUS\\nKopie:\\t \\nDatum:\\t1...   \n",
              "1  An:\\tKUNDENSERVICE@EPLUS\\nKopie:\\t \\nDatum:\\t3...   \n",
              "2  An:\\tKUNDENSERVICE@EPLUS\\nKopie:\\t \\nDatum:\\t1...   \n",
              "3  An:\\tKUNDENSERVICE@EPLUS\\nKopie:\\t \\nDatum:\\t0...   \n",
              "4  An:\\tKUNDENSERVICE@EPLUS\\nKopie:\\t \\nDatum:\\t2...   \n",
              "\n",
              "                                          Email_body  \\\n",
              "0  Da man bei der Kunden-hotline eh nur zu allgem...   \n",
              "1  Sehr geehrte Damen und Herren,  ich habe Ihnen...   \n",
              "2  Am 30.3. habe ich als Siemens-Mitarbeiter(güns...   \n",
              "3  Ich habe von einem Bekannten gehört, dass es f...   \n",
              "4  Ein paar allgemeine > Fragen: > Wenn mir mein ...   \n",
              "\n",
              "                                     Processed_texts        label  \\\n",
              "0  kunden-hotline eh ding auskunft erhalten selte...  __label__14   \n",
              "1  geehrt dam herr 28.01.2001 nachfolgend schreib...  __label__14   \n",
              "2  30.3. siemens-mitarbeiter günstig tarif verkau...  __label__14   \n",
              "3  bekannt gehören angehoerig oeffentlich dienst ...  __label__14   \n",
              "4  paar allgemein > fragen > handy samt sim-karte...  __label__18   \n",
              "\n",
              "                                          label_text  \n",
              "0  __label__14 kunden-hotline eh ding auskunft er...  \n",
              "1  __label__14 geehrt dam herr 28.01.2001 nachfol...  \n",
              "2  __label__14 30.3. siemens-mitarbeiter günstig ...  \n",
              "3  __label__14 bekannt gehören angehoerig oeffent...  \n",
              "4  __label__18 paar allgemein > fragen > handy sa...  "
            ]
          },
          "execution_count": 117,
          "metadata": {},
          "output_type": "execute_result"
        }
      ],
      "source": [
        "df['label_text'] = df['label'] + ' ' + df['Processed_texts']\n",
        "df['label_text'] = df['label_text'].str.rstrip()\n",
        "df.head()"
      ]
    },
    {
      "cell_type": "code",
      "execution_count": 118,
      "metadata": {
        "id": "jYuYb0Z8cZir"
      },
      "outputs": [],
      "source": [
        "from sklearn.model_selection import train_test_split"
      ]
    },
    {
      "cell_type": "code",
      "execution_count": 119,
      "metadata": {
        "id": "QzeH4TyKciWF"
      },
      "outputs": [],
      "source": [
        "train, test = train_test_split(df, test_size=0.2, random_state=1, stratify=df['label'])\n",
        "train, valid = train_test_split(train, test_size=0.2, random_state=1, stratify=train['label'])"
      ]
    },
    {
      "cell_type": "code",
      "execution_count": 120,
      "metadata": {
        "colab": {
          "base_uri": "https://localhost:8080/"
        },
        "id": "2m4y8GbGeSMq",
        "outputId": "9b50e017-6d1d-48cd-8399-62cff8c3347d"
      },
      "outputs": [
        {
          "data": {
            "text/plain": [
              "FREE___EASY                  154\n",
              "E_PLUS_ONLINE                 62\n",
              "NON_VOICE_DIENSTE             53\n",
              "GERAETE_UND_ZUBEHOER          44\n",
              "NETZ                          31\n",
              "TARIFE                        22\n",
              "VERTRAEGE_UND_VEREINBARUN     18\n",
              "NETZDIENSTE                   16\n",
              "AKTIVIERUNG_SIM               15\n",
              "TEILNEHMERSTAMMDATEN          13\n",
              "MEHRWERTDIENSTE               13\n",
              "KUENDIGUNGEN                  11\n",
              "RECHNUNGEN                    11\n",
              "KUNDENBETREUUNG_ONLINE         8\n",
              "UPGRADE_ERSATZ_GUTSCHRIFT      8\n",
              "MAHNUNGEN                      4\n",
              "AKTIONEN                       3\n",
              "STORNO                         2\n",
              "R_KUNDEN                       1\n",
              "VERTRIEBSPARTNER               1\n",
              "Name: Category, dtype: int64"
            ]
          },
          "execution_count": 120,
          "metadata": {},
          "output_type": "execute_result"
        }
      ],
      "source": [
        "test['Category'].value_counts()"
      ]
    },
    {
      "cell_type": "code",
      "execution_count": 121,
      "metadata": {
        "colab": {
          "base_uri": "https://localhost:8080/"
        },
        "id": "qEYvOMzZhw7B",
        "outputId": "e380425b-6aba-44ac-ce92-ab85cf775c95"
      },
      "outputs": [
        {
          "data": {
            "text/plain": [
              "493"
            ]
          },
          "execution_count": 121,
          "metadata": {},
          "output_type": "execute_result"
        }
      ],
      "source": [
        "# Oversampling: all the categories have 493 values\n",
        "\n",
        "max_size = train['Category'].value_counts().max()\n",
        "max_size"
      ]
    },
    {
      "cell_type": "code",
      "execution_count": 122,
      "metadata": {
        "colab": {
          "base_uri": "https://localhost:8080/"
        },
        "id": "OnTqxcL-h2k-",
        "outputId": "0119fd29-5146-49d7-e93f-57f628ed277f"
      },
      "outputs": [
        {
          "data": {
            "text/plain": [
              "AKTIVIERUNG_SIM              493\n",
              "NETZDIENSTE                  493\n",
              "PRAEVENTION                  493\n",
              "VERTRIEBSPARTNER             493\n",
              "R_KUNDEN                     493\n",
              "KUNDENBETREUUNG_ONLINE       493\n",
              "AKTIONEN                     493\n",
              "TEILNEHMERSTAMMDATEN         493\n",
              "VERTRAEGE_UND_VEREINBARUN    493\n",
              "STORNO                       493\n",
              "NETZ                         493\n",
              "UPGRADE_ERSATZ_GUTSCHRIFT    493\n",
              "MEHRWERTDIENSTE              493\n",
              "NON_VOICE_DIENSTE            493\n",
              "RECHNUNGEN                   493\n",
              "E_PLUS_ONLINE                493\n",
              "FREE___EASY                  493\n",
              "KUENDIGUNGEN                 493\n",
              "GERAETE_UND_ZUBEHOER         493\n",
              "TARIFE                       493\n",
              "MAHNUNGEN                    493\n",
              "Name: Category, dtype: int64"
            ]
          },
          "execution_count": 122,
          "metadata": {},
          "output_type": "execute_result"
        }
      ],
      "source": [
        "lst = [train]\n",
        "for class_index, group in train.groupby('Category'):\n",
        "    lst.append(group.sample(max_size-len(group), replace=True))\n",
        "\n",
        "train = pd.concat(lst)\n",
        "\n",
        "train['Category'].value_counts()"
      ]
    },
    {
      "cell_type": "code",
      "execution_count": 123,
      "metadata": {
        "id": "OFBEb6TVj3fl"
      },
      "outputs": [],
      "source": [
        "train.to_csv('flair/data/train.txt', columns=['label_text'], index=False, header=False)\n",
        "valid.to_csv('flair/data/dev.txt', columns=['label_text'], index=False, header=False)\n",
        "test.to_csv('flair/data/test.txt', columns=['label_text'], index=False, header=False)\n"
      ]
    },
    {
      "cell_type": "markdown",
      "metadata": {
        "id": "y5NlluxGRBh6"
      },
      "source": [
        "## Training custon flair model"
      ]
    },
    {
      "cell_type": "code",
      "execution_count": 124,
      "metadata": {
        "id": "77N4Q25rAV1N"
      },
      "outputs": [],
      "source": [
        "from flair.embeddings import TransformerDocumentEmbeddings\n",
        "from flair.models import TextClassifier\n",
        "from flair.trainers import ModelTrainer\n",
        "from pathlib import Path\n",
        "from flair.data import Corpus\n",
        "from flair.datasets import ClassificationCorpus\n",
        "from flair.samplers import ImbalancedClassificationDatasetSampler\n",
        "from flair.embeddings import WordEmbeddings, FlairEmbeddings, StackedEmbeddings, DocumentLSTMEmbeddings"
      ]
    },
    {
      "cell_type": "code",
      "execution_count": 125,
      "metadata": {
        "colab": {
          "base_uri": "https://localhost:8080/"
        },
        "id": "ojef3twuBDWh",
        "outputId": "4203f946-e481-4236-84a7-34fec7a84705"
      },
      "outputs": [
        {
          "name": "stdout",
          "output_type": "stream",
          "text": [
            "2024-01-04 12:13:10,603 Reading data from .\n",
            "2024-01-04 12:13:10,604 Train: train.txt\n",
            "2024-01-04 12:13:10,607 Dev: dev.txt\n",
            "2024-01-04 12:13:10,608 Test: test.txt\n",
            "2024-01-04 12:13:10,788 Initialized corpus  (label type name is 'label')\n"
          ]
        }
      ],
      "source": [
        "data_folder = 'flair/data/'\n",
        "label_type = 'label'\n",
        "\n",
        "corpus: Corpus = ClassificationCorpus(\n",
        "    data_folder,\n",
        "    test_file='test.txt',\n",
        "    dev_file='dev.txt',\n",
        "    train_file='train.txt',\n",
        "    label_type=label_type\n",
        ")"
      ]
    },
    {
      "cell_type": "code",
      "execution_count": 126,
      "metadata": {
        "colab": {
          "base_uri": "https://localhost:8080/"
        },
        "id": "FfAi7Ur1JPA-",
        "outputId": "08cf56ae-985b-42e6-8853-5471135de20c"
      },
      "outputs": [
        {
          "name": "stdout",
          "output_type": "stream",
          "text": [
            "2024-01-04 12:13:16,905 Computing label dictionary. Progress:\n"
          ]
        },
        {
          "name": "stderr",
          "output_type": "stream",
          "text": [
            "0it [00:00, ?it/s]\n",
            "9409it [00:05, 1633.68it/s]"
          ]
        },
        {
          "name": "stdout",
          "output_type": "stream",
          "text": [
            "2024-01-04 12:13:22,680 Dictionary created for label 'label' with 21 values: 10 (seen 493 times), 15 (seen 493 times), 17 (seen 493 times), 12 (seen 493 times), 5 (seen 486 times), 9 (seen 474 times), 2 (seen 473 times), 4 (seen 470 times), 6 (seen 467 times), 11 (seen 460 times), 1 (seen 459 times), 16 (seen 457 times), 18 (seen 449 times), 0 (seen 440 times), 3 (seen 435 times), 8 (seen 435 times), 19 (seen 432 times), 13 (seen 427 times), 7 (seen 412 times), 20 (seen 387 times)\n"
          ]
        },
        {
          "name": "stderr",
          "output_type": "stream",
          "text": [
            "\n",
            "/usr/local/lib/python3.10/dist-packages/huggingface_hub/utils/_token.py:72: UserWarning: \n",
            "The secret `HF_TOKEN` does not exist in your Colab secrets.\n",
            "To authenticate with the Hugging Face Hub, create a token in your settings tab (https://huggingface.co/settings/tokens), set it as secret in your Google Colab and restart your session.\n",
            "You will be able to reuse this secret in all of your notebooks.\n",
            "Please note that authentication is recommended but still optional to access public models or datasets.\n",
            "  warnings.warn(\n"
          ]
        }
      ],
      "source": [
        "label_dict = corpus.make_label_dictionary(label_type=label_type)\n",
        "\n",
        "document_embeddings = TransformerDocumentEmbeddings('bert-base-german-cased', fine_tune=True)\n",
        "\n",
        "# word_embeddings = [WordEmbeddings('glove'),\n",
        "#                    FlairEmbeddings('de-forward'),\n",
        "#                    FlairEmbeddings('de-backward')]\n",
        "\n",
        "# document_embeddings = DocumentLSTMEmbeddings(word_embeddings, hidden_size=512, reproject_words=True, reproject_words_dimension=256)\n",
        "\n",
        "classifier = TextClassifier(document_embeddings, label_dictionary=label_dict, label_type=label_type)\n",
        "\n",
        "trainer = ModelTrainer(classifier, corpus)"
      ]
    },
    {
      "cell_type": "code",
      "execution_count": 129,
      "metadata": {
        "colab": {
          "base_uri": "https://localhost:8080/"
        },
        "id": "I_JWjGrIeDsM",
        "outputId": "ba02b051-e1fc-480b-8bfb-f7a8b74366ec"
      },
      "outputs": [
        {
          "name": "stdout",
          "output_type": "stream",
          "text": [
            "2024-01-04 12:46:09,431 ----------------------------------------------------------------------------------------------------\n",
            "2024-01-04 12:46:09,435 Model: \"TextClassifier(\n",
            "  (embeddings): TransformerDocumentEmbeddings(\n",
            "    (model): BertModel(\n",
            "      (embeddings): BertEmbeddings(\n",
            "        (word_embeddings): Embedding(30001, 768)\n",
            "        (position_embeddings): Embedding(512, 768)\n",
            "        (token_type_embeddings): Embedding(2, 768)\n",
            "        (LayerNorm): LayerNorm((768,), eps=1e-12, elementwise_affine=True)\n",
            "        (dropout): Dropout(p=0.1, inplace=False)\n",
            "      )\n",
            "      (encoder): BertEncoder(\n",
            "        (layer): ModuleList(\n",
            "          (0-11): 12 x BertLayer(\n",
            "            (attention): BertAttention(\n",
            "              (self): BertSelfAttention(\n",
            "                (query): Linear(in_features=768, out_features=768, bias=True)\n",
            "                (key): Linear(in_features=768, out_features=768, bias=True)\n",
            "                (value): Linear(in_features=768, out_features=768, bias=True)\n",
            "                (dropout): Dropout(p=0.1, inplace=False)\n",
            "              )\n",
            "              (output): BertSelfOutput(\n",
            "                (dense): Linear(in_features=768, out_features=768, bias=True)\n",
            "                (LayerNorm): LayerNorm((768,), eps=1e-12, elementwise_affine=True)\n",
            "                (dropout): Dropout(p=0.1, inplace=False)\n",
            "              )\n",
            "            )\n",
            "            (intermediate): BertIntermediate(\n",
            "              (dense): Linear(in_features=768, out_features=3072, bias=True)\n",
            "              (intermediate_act_fn): GELUActivation()\n",
            "            )\n",
            "            (output): BertOutput(\n",
            "              (dense): Linear(in_features=3072, out_features=768, bias=True)\n",
            "              (LayerNorm): LayerNorm((768,), eps=1e-12, elementwise_affine=True)\n",
            "              (dropout): Dropout(p=0.1, inplace=False)\n",
            "            )\n",
            "          )\n",
            "        )\n",
            "      )\n",
            "      (pooler): BertPooler(\n",
            "        (dense): Linear(in_features=768, out_features=768, bias=True)\n",
            "        (activation): Tanh()\n",
            "      )\n",
            "    )\n",
            "  )\n",
            "  (decoder): Linear(in_features=768, out_features=21, bias=True)\n",
            "  (dropout): Dropout(p=0.0, inplace=False)\n",
            "  (locked_dropout): LockedDropout(p=0.0)\n",
            "  (word_dropout): WordDropout(p=0.0)\n",
            "  (loss_function): CrossEntropyLoss()\n",
            "  (weights): None\n",
            "  (weight_tensor) None\n",
            ")\"\n",
            "2024-01-04 12:46:09,436 ----------------------------------------------------------------------------------------------------\n",
            "2024-01-04 12:46:09,438 Corpus: 9409 train + 361 dev + 448 test sentences\n",
            "2024-01-04 12:46:09,440 ----------------------------------------------------------------------------------------------------\n",
            "2024-01-04 12:46:09,441 Train:  9409 sentences\n",
            "2024-01-04 12:46:09,443         (train_with_dev=False, train_with_test=False)\n",
            "2024-01-04 12:46:09,444 ----------------------------------------------------------------------------------------------------\n",
            "2024-01-04 12:46:09,446 Training Params:\n",
            "2024-01-04 12:46:09,447  - learning_rate: \"0.005\" \n",
            "2024-01-04 12:46:09,448  - mini_batch_size: \"16\"\n",
            "2024-01-04 12:46:09,449  - max_epochs: \"10\"\n",
            "2024-01-04 12:46:09,450  - shuffle: \"True\"\n",
            "2024-01-04 12:46:09,451 ----------------------------------------------------------------------------------------------------\n",
            "2024-01-04 12:46:09,452 Plugins:\n",
            "2024-01-04 12:46:09,456  - AnnealOnPlateau | patience: '3', anneal_factor: '0.5', min_learning_rate: '0.0001'\n",
            "2024-01-04 12:46:09,458 ----------------------------------------------------------------------------------------------------\n",
            "2024-01-04 12:46:09,460 Final evaluation on model from best epoch (best-model.pt)\n",
            "2024-01-04 12:46:09,460  - metric: \"('micro avg', 'f1-score')\"\n",
            "2024-01-04 12:46:09,462 ----------------------------------------------------------------------------------------------------\n",
            "2024-01-04 12:46:09,464 Computation:\n",
            "2024-01-04 12:46:09,465  - compute on device: cuda:0\n",
            "2024-01-04 12:46:09,466  - embedding storage: gpu\n",
            "2024-01-04 12:46:09,468 ----------------------------------------------------------------------------------------------------\n",
            "2024-01-04 12:46:09,469 Model training base path: \"/flair_4\"\n",
            "2024-01-04 12:46:09,472 ----------------------------------------------------------------------------------------------------\n",
            "2024-01-04 12:46:09,473 ----------------------------------------------------------------------------------------------------\n"
          ]
        },
        {
          "name": "stderr",
          "output_type": "stream",
          "text": [
            "/usr/local/lib/python3.10/dist-packages/flair/trainers/trainer.py:84: UserWarning: There should be no best model saved at epoch 1 except there is a model from previous trainings in your training folder. All previous best models will be deleted.\n",
            "  warnings.warn(\n"
          ]
        },
        {
          "name": "stdout",
          "output_type": "stream",
          "text": [
            "2024-01-04 12:46:18,810 epoch 1 - iter 58/589 - loss 0.07748630 - time (sec): 9.33 - samples/sec: 99.42 - lr: 0.005000 - momentum: 0.000000\n",
            "2024-01-04 12:46:28,181 epoch 1 - iter 116/589 - loss 0.08807440 - time (sec): 18.70 - samples/sec: 99.23 - lr: 0.005000 - momentum: 0.000000\n",
            "2024-01-04 12:46:37,976 epoch 1 - iter 174/589 - loss 0.08347877 - time (sec): 28.50 - samples/sec: 97.69 - lr: 0.005000 - momentum: 0.000000\n",
            "2024-01-04 12:46:47,430 epoch 1 - iter 232/589 - loss 0.08639755 - time (sec): 37.95 - samples/sec: 97.80 - lr: 0.005000 - momentum: 0.000000\n",
            "2024-01-04 12:46:56,911 epoch 1 - iter 290/589 - loss 0.08352161 - time (sec): 47.43 - samples/sec: 97.82 - lr: 0.005000 - momentum: 0.000000\n",
            "2024-01-04 12:47:06,288 epoch 1 - iter 348/589 - loss 0.08069568 - time (sec): 56.81 - samples/sec: 98.01 - lr: 0.005000 - momentum: 0.000000\n",
            "2024-01-04 12:47:15,999 epoch 1 - iter 406/589 - loss 0.07844911 - time (sec): 66.52 - samples/sec: 97.65 - lr: 0.005000 - momentum: 0.000000\n",
            "2024-01-04 12:47:25,334 epoch 1 - iter 464/589 - loss 0.07674597 - time (sec): 75.86 - samples/sec: 97.87 - lr: 0.005000 - momentum: 0.000000\n",
            "2024-01-04 12:47:34,840 epoch 1 - iter 522/589 - loss 0.07557201 - time (sec): 85.36 - samples/sec: 97.84 - lr: 0.005000 - momentum: 0.000000\n",
            "2024-01-04 12:47:44,602 epoch 1 - iter 580/589 - loss 0.07452848 - time (sec): 95.13 - samples/sec: 97.55 - lr: 0.005000 - momentum: 0.000000\n",
            "2024-01-04 12:47:46,095 ----------------------------------------------------------------------------------------------------\n",
            "2024-01-04 12:47:46,096 EPOCH 1 done: loss 0.0749 - lr: 0.005000\n"
          ]
        },
        {
          "name": "stderr",
          "output_type": "stream",
          "text": [
            "100%|██████████| 6/6 [00:02<00:00,  2.96it/s]"
          ]
        },
        {
          "name": "stdout",
          "output_type": "stream",
          "text": [
            "2024-01-04 12:47:48,149 DEV : loss 2.674304723739624 - f1-score (micro avg)  0.5042\n"
          ]
        },
        {
          "name": "stderr",
          "output_type": "stream",
          "text": [
            "\n"
          ]
        },
        {
          "name": "stdout",
          "output_type": "stream",
          "text": [
            "2024-01-04 12:47:48,363  - 0 epochs without improvement\n",
            "2024-01-04 12:47:48,364  - 0 epochs without improvement\n",
            "2024-01-04 12:47:48,366  - 0 epochs without improvement\n",
            "2024-01-04 12:47:48,369 saving best model\n",
            "2024-01-04 12:47:48,975 ----------------------------------------------------------------------------------------------------\n",
            "2024-01-04 12:47:58,566 epoch 2 - iter 58/589 - loss 0.04567330 - time (sec): 9.59 - samples/sec: 96.79 - lr: 0.005000 - momentum: 0.000000\n",
            "2024-01-04 12:48:07,894 epoch 2 - iter 116/589 - loss 0.05927354 - time (sec): 18.92 - samples/sec: 98.12 - lr: 0.005000 - momentum: 0.000000\n",
            "2024-01-04 12:48:17,824 epoch 2 - iter 174/589 - loss 0.06596646 - time (sec): 28.85 - samples/sec: 96.52 - lr: 0.005000 - momentum: 0.000000\n",
            "2024-01-04 12:48:27,263 epoch 2 - iter 232/589 - loss 0.06734666 - time (sec): 38.28 - samples/sec: 96.96 - lr: 0.005000 - momentum: 0.000000\n",
            "2024-01-04 12:48:36,866 epoch 2 - iter 290/589 - loss 0.06321398 - time (sec): 47.89 - samples/sec: 96.89 - lr: 0.005000 - momentum: 0.000000\n",
            "2024-01-04 12:48:46,738 epoch 2 - iter 348/589 - loss 0.06717104 - time (sec): 57.76 - samples/sec: 96.40 - lr: 0.005000 - momentum: 0.000000\n",
            "2024-01-04 12:48:56,843 epoch 2 - iter 406/589 - loss 0.07175372 - time (sec): 67.86 - samples/sec: 95.72 - lr: 0.005000 - momentum: 0.000000\n",
            "2024-01-04 12:49:06,607 epoch 2 - iter 464/589 - loss 0.07151686 - time (sec): 77.63 - samples/sec: 95.64 - lr: 0.005000 - momentum: 0.000000\n",
            "2024-01-04 12:49:16,254 epoch 2 - iter 522/589 - loss 0.07076534 - time (sec): 87.28 - samples/sec: 95.70 - lr: 0.005000 - momentum: 0.000000\n",
            "2024-01-04 12:49:25,835 epoch 2 - iter 580/589 - loss 0.06915359 - time (sec): 96.86 - samples/sec: 95.81 - lr: 0.005000 - momentum: 0.000000\n",
            "2024-01-04 12:49:27,587 ----------------------------------------------------------------------------------------------------\n",
            "2024-01-04 12:49:27,588 EPOCH 2 done: loss 0.0695 - lr: 0.005000\n"
          ]
        },
        {
          "name": "stderr",
          "output_type": "stream",
          "text": [
            "100%|██████████| 6/6 [00:02<00:00,  2.91it/s]"
          ]
        },
        {
          "name": "stdout",
          "output_type": "stream",
          "text": [
            "2024-01-04 12:49:29,671 DEV : loss 2.806947946548462 - f1-score (micro avg)  0.5429\n"
          ]
        },
        {
          "name": "stderr",
          "output_type": "stream",
          "text": [
            "\n"
          ]
        },
        {
          "name": "stdout",
          "output_type": "stream",
          "text": [
            "2024-01-04 12:49:29,886  - 0 epochs without improvement\n",
            "2024-01-04 12:49:29,888  - 0 epochs without improvement\n",
            "2024-01-04 12:49:29,890  - 0 epochs without improvement\n",
            "2024-01-04 12:49:29,891 saving best model\n",
            "2024-01-04 12:49:30,916 ----------------------------------------------------------------------------------------------------\n",
            "2024-01-04 12:49:40,638 epoch 3 - iter 58/589 - loss 0.06345180 - time (sec): 9.72 - samples/sec: 95.47 - lr: 0.005000 - momentum: 0.000000\n",
            "2024-01-04 12:49:50,044 epoch 3 - iter 116/589 - loss 0.05386816 - time (sec): 19.13 - samples/sec: 97.04 - lr: 0.005000 - momentum: 0.000000\n",
            "2024-01-04 12:50:00,210 epoch 3 - iter 174/589 - loss 0.06204299 - time (sec): 29.29 - samples/sec: 95.04 - lr: 0.005000 - momentum: 0.000000\n",
            "2024-01-04 12:50:10,028 epoch 3 - iter 232/589 - loss 0.06362504 - time (sec): 39.11 - samples/sec: 94.91 - lr: 0.005000 - momentum: 0.000000\n",
            "2024-01-04 12:50:19,808 epoch 3 - iter 290/589 - loss 0.06114935 - time (sec): 48.89 - samples/sec: 94.91 - lr: 0.005000 - momentum: 0.000000\n",
            "2024-01-04 12:50:29,487 epoch 3 - iter 348/589 - loss 0.05898802 - time (sec): 58.57 - samples/sec: 95.07 - lr: 0.005000 - momentum: 0.000000\n",
            "2024-01-04 12:50:39,641 epoch 3 - iter 406/589 - loss 0.06191176 - time (sec): 68.72 - samples/sec: 94.52 - lr: 0.005000 - momentum: 0.000000\n",
            "2024-01-04 12:50:49,536 epoch 3 - iter 464/589 - loss 0.06113705 - time (sec): 78.62 - samples/sec: 94.43 - lr: 0.005000 - momentum: 0.000000\n",
            "2024-01-04 12:50:59,288 epoch 3 - iter 522/589 - loss 0.06038588 - time (sec): 88.37 - samples/sec: 94.51 - lr: 0.005000 - momentum: 0.000000\n",
            "2024-01-04 12:51:08,861 epoch 3 - iter 580/589 - loss 0.06268867 - time (sec): 97.94 - samples/sec: 94.75 - lr: 0.005000 - momentum: 0.000000\n",
            "2024-01-04 12:51:10,212 ----------------------------------------------------------------------------------------------------\n",
            "2024-01-04 12:51:10,214 EPOCH 3 done: loss 0.0622 - lr: 0.005000\n"
          ]
        },
        {
          "name": "stderr",
          "output_type": "stream",
          "text": [
            "100%|██████████| 6/6 [00:02<00:00,  2.39it/s]"
          ]
        },
        {
          "name": "stdout",
          "output_type": "stream",
          "text": [
            "2024-01-04 12:51:12,751 DEV : loss 3.0682625770568848 - f1-score (micro avg)  0.518\n"
          ]
        },
        {
          "name": "stderr",
          "output_type": "stream",
          "text": [
            "\n"
          ]
        },
        {
          "name": "stdout",
          "output_type": "stream",
          "text": [
            "2024-01-04 12:51:12,971  - 1 epochs without improvement\n",
            "2024-01-04 12:51:12,973  - 1 epochs without improvement\n",
            "2024-01-04 12:51:12,975  - 1 epochs without improvement\n",
            "2024-01-04 12:51:12,977 ----------------------------------------------------------------------------------------------------\n",
            "2024-01-04 12:51:22,511 epoch 4 - iter 58/589 - loss 0.04110444 - time (sec): 9.53 - samples/sec: 97.36 - lr: 0.005000 - momentum: 0.000000\n",
            "2024-01-04 12:51:31,897 epoch 4 - iter 116/589 - loss 0.04500768 - time (sec): 18.92 - samples/sec: 98.11 - lr: 0.005000 - momentum: 0.000000\n",
            "2024-01-04 12:51:41,243 epoch 4 - iter 174/589 - loss 0.04881069 - time (sec): 28.26 - samples/sec: 98.50 - lr: 0.005000 - momentum: 0.000000\n",
            "2024-01-04 12:51:51,297 epoch 4 - iter 232/589 - loss 0.04187774 - time (sec): 38.32 - samples/sec: 96.87 - lr: 0.005000 - momentum: 0.000000\n",
            "2024-01-04 12:52:00,533 epoch 4 - iter 290/589 - loss 0.04589996 - time (sec): 47.55 - samples/sec: 97.58 - lr: 0.005000 - momentum: 0.000000\n",
            "2024-01-04 12:52:10,053 epoch 4 - iter 348/589 - loss 0.04747277 - time (sec): 57.07 - samples/sec: 97.56 - lr: 0.005000 - momentum: 0.000000\n",
            "2024-01-04 12:52:20,245 epoch 4 - iter 406/589 - loss 0.04995293 - time (sec): 67.27 - samples/sec: 96.57 - lr: 0.005000 - momentum: 0.000000\n",
            "2024-01-04 12:52:29,980 epoch 4 - iter 464/589 - loss 0.04919468 - time (sec): 77.00 - samples/sec: 96.42 - lr: 0.005000 - momentum: 0.000000\n",
            "2024-01-04 12:52:39,690 epoch 4 - iter 522/589 - loss 0.05226817 - time (sec): 86.71 - samples/sec: 96.32 - lr: 0.005000 - momentum: 0.000000\n",
            "2024-01-04 12:52:49,433 epoch 4 - iter 580/589 - loss 0.05395411 - time (sec): 96.45 - samples/sec: 96.21 - lr: 0.005000 - momentum: 0.000000\n",
            "2024-01-04 12:52:50,848 ----------------------------------------------------------------------------------------------------\n",
            "2024-01-04 12:52:50,849 EPOCH 4 done: loss 0.0555 - lr: 0.005000\n"
          ]
        },
        {
          "name": "stderr",
          "output_type": "stream",
          "text": [
            "100%|██████████| 6/6 [00:02<00:00,  2.39it/s]"
          ]
        },
        {
          "name": "stdout",
          "output_type": "stream",
          "text": [
            "2024-01-04 12:52:53,389 DEV : loss 3.241090774536133 - f1-score (micro avg)  0.4931\n"
          ]
        },
        {
          "name": "stderr",
          "output_type": "stream",
          "text": [
            "\n"
          ]
        },
        {
          "name": "stdout",
          "output_type": "stream",
          "text": [
            "2024-01-04 12:52:53,610  - 2 epochs without improvement\n",
            "2024-01-04 12:52:53,613  - 2 epochs without improvement\n",
            "2024-01-04 12:52:53,615  - 2 epochs without improvement\n",
            "2024-01-04 12:52:53,617 ----------------------------------------------------------------------------------------------------\n",
            "2024-01-04 12:53:03,062 epoch 5 - iter 58/589 - loss 0.04487073 - time (sec): 9.44 - samples/sec: 98.29 - lr: 0.005000 - momentum: 0.000000\n",
            "2024-01-04 12:53:12,536 epoch 5 - iter 116/589 - loss 0.04375724 - time (sec): 18.92 - samples/sec: 98.12 - lr: 0.005000 - momentum: 0.000000\n",
            "2024-01-04 12:53:21,731 epoch 5 - iter 174/589 - loss 0.05115375 - time (sec): 28.11 - samples/sec: 99.04 - lr: 0.005000 - momentum: 0.000000\n",
            "2024-01-04 12:53:31,636 epoch 5 - iter 232/589 - loss 0.06166079 - time (sec): 38.02 - samples/sec: 97.64 - lr: 0.005000 - momentum: 0.000000\n",
            "2024-01-04 12:53:41,264 epoch 5 - iter 290/589 - loss 0.05316710 - time (sec): 47.64 - samples/sec: 97.39 - lr: 0.005000 - momentum: 0.000000\n",
            "2024-01-04 12:53:50,716 epoch 5 - iter 348/589 - loss 0.05593766 - time (sec): 57.10 - samples/sec: 97.52 - lr: 0.005000 - momentum: 0.000000\n",
            "2024-01-04 12:54:00,600 epoch 5 - iter 406/589 - loss 0.05355232 - time (sec): 66.98 - samples/sec: 96.98 - lr: 0.005000 - momentum: 0.000000\n",
            "2024-01-04 12:54:10,042 epoch 5 - iter 464/589 - loss 0.05199554 - time (sec): 76.42 - samples/sec: 97.14 - lr: 0.005000 - momentum: 0.000000\n",
            "2024-01-04 12:54:19,458 epoch 5 - iter 522/589 - loss 0.05263063 - time (sec): 85.84 - samples/sec: 97.30 - lr: 0.005000 - momentum: 0.000000\n",
            "2024-01-04 12:54:29,062 epoch 5 - iter 580/589 - loss 0.05411500 - time (sec): 95.44 - samples/sec: 97.23 - lr: 0.005000 - momentum: 0.000000\n",
            "2024-01-04 12:54:30,392 ----------------------------------------------------------------------------------------------------\n",
            "2024-01-04 12:54:30,393 EPOCH 5 done: loss 0.0543 - lr: 0.005000\n"
          ]
        },
        {
          "name": "stderr",
          "output_type": "stream",
          "text": [
            "100%|██████████| 6/6 [00:02<00:00,  2.94it/s]"
          ]
        },
        {
          "name": "stdout",
          "output_type": "stream",
          "text": [
            "2024-01-04 12:54:32,459 DEV : loss 3.330101251602173 - f1-score (micro avg)  0.5235\n"
          ]
        },
        {
          "name": "stderr",
          "output_type": "stream",
          "text": [
            "\n"
          ]
        },
        {
          "name": "stdout",
          "output_type": "stream",
          "text": [
            "2024-01-04 12:54:33,093  - 3 epochs without improvement\n",
            "2024-01-04 12:54:33,095  - 3 epochs without improvement\n",
            "2024-01-04 12:54:33,097  - 3 epochs without improvement\n",
            "2024-01-04 12:54:33,099 ----------------------------------------------------------------------------------------------------\n",
            "2024-01-04 12:54:42,384 epoch 6 - iter 58/589 - loss 0.05281845 - time (sec): 9.28 - samples/sec: 99.97 - lr: 0.005000 - momentum: 0.000000\n",
            "2024-01-04 12:54:52,115 epoch 6 - iter 116/589 - loss 0.04557191 - time (sec): 19.01 - samples/sec: 97.61 - lr: 0.005000 - momentum: 0.000000\n",
            "2024-01-04 12:55:01,657 epoch 6 - iter 174/589 - loss 0.05502150 - time (sec): 28.56 - samples/sec: 97.49 - lr: 0.005000 - momentum: 0.000000\n",
            "2024-01-04 12:55:11,583 epoch 6 - iter 232/589 - loss 0.05780132 - time (sec): 38.48 - samples/sec: 96.46 - lr: 0.005000 - momentum: 0.000000\n",
            "2024-01-04 12:55:21,134 epoch 6 - iter 290/589 - loss 0.05712250 - time (sec): 48.03 - samples/sec: 96.60 - lr: 0.005000 - momentum: 0.000000\n",
            "2024-01-04 12:55:30,716 epoch 6 - iter 348/589 - loss 0.05139082 - time (sec): 57.61 - samples/sec: 96.64 - lr: 0.005000 - momentum: 0.000000\n",
            "2024-01-04 12:55:39,997 epoch 6 - iter 406/589 - loss 0.05835979 - time (sec): 66.90 - samples/sec: 97.11 - lr: 0.005000 - momentum: 0.000000\n",
            "2024-01-04 12:55:50,073 epoch 6 - iter 464/589 - loss 0.05190837 - time (sec): 76.97 - samples/sec: 96.45 - lr: 0.005000 - momentum: 0.000000\n",
            "2024-01-04 12:55:59,633 epoch 6 - iter 522/589 - loss 0.05008605 - time (sec): 86.53 - samples/sec: 96.52 - lr: 0.005000 - momentum: 0.000000\n",
            "2024-01-04 12:56:09,278 epoch 6 - iter 580/589 - loss 0.05238651 - time (sec): 96.18 - samples/sec: 96.49 - lr: 0.005000 - momentum: 0.000000\n",
            "2024-01-04 12:56:10,638 ----------------------------------------------------------------------------------------------------\n",
            "2024-01-04 12:56:10,639 EPOCH 6 done: loss 0.0520 - lr: 0.005000\n"
          ]
        },
        {
          "name": "stderr",
          "output_type": "stream",
          "text": [
            "100%|██████████| 6/6 [00:02<00:00,  2.94it/s]"
          ]
        },
        {
          "name": "stdout",
          "output_type": "stream",
          "text": [
            "2024-01-04 12:56:12,704 DEV : loss 3.4061691761016846 - f1-score (micro avg)  0.5402\n"
          ]
        },
        {
          "name": "stderr",
          "output_type": "stream",
          "text": [
            "\n"
          ]
        },
        {
          "name": "stdout",
          "output_type": "stream",
          "text": [
            "2024-01-04 12:56:13,325  - 4 epochs without improvement (above 'patience')-> annealing learning_rate to [0.0025]\n",
            "2024-01-04 12:56:13,328  - 4 epochs without improvement (above 'patience')-> annealing learning_rate to [0.00125]\n",
            "2024-01-04 12:56:13,329  - 4 epochs without improvement (above 'patience')-> annealing learning_rate to [0.000625]\n",
            "2024-01-04 12:56:13,331 ----------------------------------------------------------------------------------------------------\n",
            "2024-01-04 12:56:22,808 epoch 7 - iter 58/589 - loss 0.04460988 - time (sec): 9.47 - samples/sec: 97.96 - lr: 0.000625 - momentum: 0.000000\n",
            "2024-01-04 12:56:32,313 epoch 7 - iter 116/589 - loss 0.04886727 - time (sec): 18.98 - samples/sec: 97.80 - lr: 0.000625 - momentum: 0.000000\n",
            "2024-01-04 12:56:41,811 epoch 7 - iter 174/589 - loss 0.04029894 - time (sec): 28.48 - samples/sec: 97.76 - lr: 0.000625 - momentum: 0.000000\n",
            "2024-01-04 12:56:52,179 epoch 7 - iter 232/589 - loss 0.04554907 - time (sec): 38.84 - samples/sec: 95.56 - lr: 0.000625 - momentum: 0.000000\n",
            "2024-01-04 12:57:01,712 epoch 7 - iter 290/589 - loss 0.04904986 - time (sec): 48.38 - samples/sec: 95.91 - lr: 0.000625 - momentum: 0.000000\n",
            "2024-01-04 12:57:11,600 epoch 7 - iter 348/589 - loss 0.04911321 - time (sec): 58.27 - samples/sec: 95.56 - lr: 0.000625 - momentum: 0.000000\n",
            "2024-01-04 12:57:21,263 epoch 7 - iter 406/589 - loss 0.05062762 - time (sec): 67.93 - samples/sec: 95.63 - lr: 0.000625 - momentum: 0.000000\n",
            "2024-01-04 12:57:31,353 epoch 7 - iter 464/589 - loss 0.05288870 - time (sec): 78.02 - samples/sec: 95.16 - lr: 0.000625 - momentum: 0.000000\n",
            "2024-01-04 12:57:40,577 epoch 7 - iter 522/589 - loss 0.05184576 - time (sec): 87.24 - samples/sec: 95.73 - lr: 0.000625 - momentum: 0.000000\n",
            "2024-01-04 12:57:50,242 epoch 7 - iter 580/589 - loss 0.05068381 - time (sec): 96.91 - samples/sec: 95.76 - lr: 0.000625 - momentum: 0.000000\n",
            "2024-01-04 12:57:51,678 ----------------------------------------------------------------------------------------------------\n",
            "2024-01-04 12:57:51,679 EPOCH 7 done: loss 0.0500 - lr: 0.000625\n"
          ]
        },
        {
          "name": "stderr",
          "output_type": "stream",
          "text": [
            "100%|██████████| 6/6 [00:02<00:00,  2.97it/s]"
          ]
        },
        {
          "name": "stdout",
          "output_type": "stream",
          "text": [
            "2024-01-04 12:57:53,722 DEV : loss 3.2784423828125 - f1-score (micro avg)  0.5596\n"
          ]
        },
        {
          "name": "stderr",
          "output_type": "stream",
          "text": [
            "\n"
          ]
        },
        {
          "name": "stdout",
          "output_type": "stream",
          "text": [
            "2024-01-04 12:57:54,377  - 0 epochs without improvement\n",
            "2024-01-04 12:57:54,379  - 0 epochs without improvement\n",
            "2024-01-04 12:57:54,381  - 0 epochs without improvement\n",
            "2024-01-04 12:57:54,383 saving best model\n",
            "2024-01-04 12:57:56,055 ----------------------------------------------------------------------------------------------------\n",
            "2024-01-04 12:58:05,853 epoch 8 - iter 58/589 - loss 0.05445460 - time (sec): 9.79 - samples/sec: 94.75 - lr: 0.000625 - momentum: 0.000000\n",
            "2024-01-04 12:58:15,528 epoch 8 - iter 116/589 - loss 0.05433154 - time (sec): 19.47 - samples/sec: 95.33 - lr: 0.000625 - momentum: 0.000000\n",
            "2024-01-04 12:58:24,875 epoch 8 - iter 174/589 - loss 0.05450216 - time (sec): 28.82 - samples/sec: 96.61 - lr: 0.000625 - momentum: 0.000000\n",
            "2024-01-04 12:58:35,215 epoch 8 - iter 232/589 - loss 0.05645672 - time (sec): 39.16 - samples/sec: 94.80 - lr: 0.000625 - momentum: 0.000000\n",
            "2024-01-04 12:58:44,778 epoch 8 - iter 290/589 - loss 0.05482494 - time (sec): 48.72 - samples/sec: 95.24 - lr: 0.000625 - momentum: 0.000000\n",
            "2024-01-04 12:58:54,082 epoch 8 - iter 348/589 - loss 0.05451429 - time (sec): 58.02 - samples/sec: 95.96 - lr: 0.000625 - momentum: 0.000000\n",
            "2024-01-04 12:59:03,735 epoch 8 - iter 406/589 - loss 0.05348156 - time (sec): 67.68 - samples/sec: 95.99 - lr: 0.000625 - momentum: 0.000000\n",
            "2024-01-04 12:59:13,633 epoch 8 - iter 464/589 - loss 0.05088797 - time (sec): 77.57 - samples/sec: 95.70 - lr: 0.000625 - momentum: 0.000000\n",
            "2024-01-04 12:59:23,315 epoch 8 - iter 522/589 - loss 0.04864355 - time (sec): 87.26 - samples/sec: 95.72 - lr: 0.000625 - momentum: 0.000000\n",
            "2024-01-04 12:59:32,895 epoch 8 - iter 580/589 - loss 0.04939777 - time (sec): 96.84 - samples/sec: 95.83 - lr: 0.000625 - momentum: 0.000000\n",
            "2024-01-04 12:59:34,179 ----------------------------------------------------------------------------------------------------\n",
            "2024-01-04 12:59:34,181 EPOCH 8 done: loss 0.0493 - lr: 0.000625\n"
          ]
        },
        {
          "name": "stderr",
          "output_type": "stream",
          "text": [
            "100%|██████████| 6/6 [00:02<00:00,  2.96it/s]"
          ]
        },
        {
          "name": "stdout",
          "output_type": "stream",
          "text": [
            "2024-01-04 12:59:36,231 DEV : loss 3.3176465034484863 - f1-score (micro avg)  0.5402\n"
          ]
        },
        {
          "name": "stderr",
          "output_type": "stream",
          "text": [
            "\n"
          ]
        },
        {
          "name": "stdout",
          "output_type": "stream",
          "text": [
            "2024-01-04 12:59:36,433  - 1 epochs without improvement\n",
            "2024-01-04 12:59:36,435  - 1 epochs without improvement\n",
            "2024-01-04 12:59:36,437  - 1 epochs without improvement\n",
            "2024-01-04 12:59:36,439 ----------------------------------------------------------------------------------------------------\n",
            "2024-01-04 12:59:46,656 epoch 9 - iter 58/589 - loss 0.06001907 - time (sec): 10.21 - samples/sec: 90.86 - lr: 0.000625 - momentum: 0.000000\n",
            "2024-01-04 12:59:56,038 epoch 9 - iter 116/589 - loss 0.05768482 - time (sec): 19.60 - samples/sec: 94.71 - lr: 0.000625 - momentum: 0.000000\n",
            "2024-01-04 13:00:05,457 epoch 9 - iter 174/589 - loss 0.05468010 - time (sec): 29.02 - samples/sec: 95.95 - lr: 0.000625 - momentum: 0.000000\n",
            "2024-01-04 13:00:14,932 epoch 9 - iter 232/589 - loss 0.05508871 - time (sec): 38.49 - samples/sec: 96.44 - lr: 0.000625 - momentum: 0.000000\n",
            "2024-01-04 13:00:24,853 epoch 9 - iter 290/589 - loss 0.05387576 - time (sec): 48.41 - samples/sec: 95.85 - lr: 0.000625 - momentum: 0.000000\n",
            "2024-01-04 13:00:34,325 epoch 9 - iter 348/589 - loss 0.04972045 - time (sec): 57.88 - samples/sec: 96.19 - lr: 0.000625 - momentum: 0.000000\n",
            "2024-01-04 13:00:43,931 epoch 9 - iter 406/589 - loss 0.04851381 - time (sec): 67.49 - samples/sec: 96.25 - lr: 0.000625 - momentum: 0.000000\n",
            "2024-01-04 13:00:54,026 epoch 9 - iter 464/589 - loss 0.04572593 - time (sec): 77.58 - samples/sec: 95.69 - lr: 0.000625 - momentum: 0.000000\n",
            "2024-01-04 13:01:03,761 epoch 9 - iter 522/589 - loss 0.04412040 - time (sec): 87.32 - samples/sec: 95.65 - lr: 0.000625 - momentum: 0.000000\n",
            "2024-01-04 13:01:13,553 epoch 9 - iter 580/589 - loss 0.04313121 - time (sec): 97.11 - samples/sec: 95.56 - lr: 0.000625 - momentum: 0.000000\n",
            "2024-01-04 13:01:15,062 ----------------------------------------------------------------------------------------------------\n",
            "2024-01-04 13:01:15,064 EPOCH 9 done: loss 0.0425 - lr: 0.000625\n"
          ]
        },
        {
          "name": "stderr",
          "output_type": "stream",
          "text": [
            "100%|██████████| 6/6 [00:02<00:00,  2.96it/s]"
          ]
        },
        {
          "name": "stdout",
          "output_type": "stream",
          "text": [
            "2024-01-04 13:01:17,112 DEV : loss 3.337085008621216 - f1-score (micro avg)  0.5291\n"
          ]
        },
        {
          "name": "stderr",
          "output_type": "stream",
          "text": [
            "\n"
          ]
        },
        {
          "name": "stdout",
          "output_type": "stream",
          "text": [
            "2024-01-04 13:01:17,323  - 2 epochs without improvement\n",
            "2024-01-04 13:01:17,324  - 2 epochs without improvement\n",
            "2024-01-04 13:01:17,326  - 2 epochs without improvement\n",
            "2024-01-04 13:01:17,328 ----------------------------------------------------------------------------------------------------\n",
            "2024-01-04 13:01:27,475 epoch 10 - iter 58/589 - loss 0.02260963 - time (sec): 10.14 - samples/sec: 91.48 - lr: 0.000625 - momentum: 0.000000\n",
            "2024-01-04 13:01:37,034 epoch 10 - iter 116/589 - loss 0.02291524 - time (sec): 19.70 - samples/sec: 94.19 - lr: 0.000625 - momentum: 0.000000\n",
            "2024-01-04 13:01:46,571 epoch 10 - iter 174/589 - loss 0.03448347 - time (sec): 29.24 - samples/sec: 95.21 - lr: 0.000625 - momentum: 0.000000\n",
            "2024-01-04 13:01:55,953 epoch 10 - iter 232/589 - loss 0.03533746 - time (sec): 38.62 - samples/sec: 96.11 - lr: 0.000625 - momentum: 0.000000\n",
            "2024-01-04 13:02:06,180 epoch 10 - iter 290/589 - loss 0.03899444 - time (sec): 48.85 - samples/sec: 94.99 - lr: 0.000625 - momentum: 0.000000\n",
            "2024-01-04 13:02:15,732 epoch 10 - iter 348/589 - loss 0.04088094 - time (sec): 58.40 - samples/sec: 95.34 - lr: 0.000625 - momentum: 0.000000\n",
            "2024-01-04 13:02:25,160 epoch 10 - iter 406/589 - loss 0.03946055 - time (sec): 67.83 - samples/sec: 95.77 - lr: 0.000625 - momentum: 0.000000\n",
            "2024-01-04 13:02:35,124 epoch 10 - iter 464/589 - loss 0.04077073 - time (sec): 77.79 - samples/sec: 95.43 - lr: 0.000625 - momentum: 0.000000\n",
            "2024-01-04 13:02:44,625 epoch 10 - iter 522/589 - loss 0.04329814 - time (sec): 87.29 - samples/sec: 95.68 - lr: 0.000625 - momentum: 0.000000\n",
            "2024-01-04 13:02:53,998 epoch 10 - iter 580/589 - loss 0.04362399 - time (sec): 96.67 - samples/sec: 96.00 - lr: 0.000625 - momentum: 0.000000\n",
            "2024-01-04 13:02:55,348 ----------------------------------------------------------------------------------------------------\n",
            "2024-01-04 13:02:55,350 EPOCH 10 done: loss 0.0442 - lr: 0.000625\n"
          ]
        },
        {
          "name": "stderr",
          "output_type": "stream",
          "text": [
            "100%|██████████| 6/6 [00:02<00:00,  2.94it/s]"
          ]
        },
        {
          "name": "stdout",
          "output_type": "stream",
          "text": [
            "2024-01-04 13:02:57,416 DEV : loss 3.3303780555725098 - f1-score (micro avg)  0.5457\n"
          ]
        },
        {
          "name": "stderr",
          "output_type": "stream",
          "text": [
            "\n"
          ]
        },
        {
          "name": "stdout",
          "output_type": "stream",
          "text": [
            "2024-01-04 13:02:57,632  - 3 epochs without improvement\n",
            "2024-01-04 13:02:57,634  - 3 epochs without improvement\n",
            "2024-01-04 13:02:57,636  - 3 epochs without improvement\n",
            "2024-01-04 13:02:58,636 ----------------------------------------------------------------------------------------------------\n",
            "2024-01-04 13:02:58,639 Loading model from best epoch ...\n"
          ]
        },
        {
          "name": "stderr",
          "output_type": "stream",
          "text": [
            "100%|██████████| 7/7 [00:02<00:00,  2.61it/s]"
          ]
        },
        {
          "name": "stdout",
          "output_type": "stream",
          "text": [
            "2024-01-04 13:03:03,377 \n",
            "Results:\n",
            "- F-score (micro) 0.5804\n",
            "- F-score (macro) 0.3895\n",
            "- Accuracy 0.5804\n",
            "\n",
            "By class:\n",
            "              precision    recall  f1-score   support\n",
            "\n",
            "           3     0.7086    0.7985    0.7509       134\n",
            "           2     0.5538    0.6207    0.5854        58\n",
            "          11     0.5000    0.4902    0.4950        51\n",
            "           4     0.5400    0.6585    0.5934        41\n",
            "           9     0.5517    0.5161    0.5333        31\n",
            "          16     0.4000    0.4706    0.4324        17\n",
            "          10     0.5385    0.4375    0.4828        16\n",
            "           8     0.4167    0.3846    0.4000        13\n",
            "          19     0.5000    0.2353    0.3200        17\n",
            "          17     0.9091    0.7692    0.8333        13\n",
            "           1     0.5000    0.3571    0.4167        14\n",
            "          13     0.1667    0.2222    0.1905         9\n",
            "           5     0.7778    0.6364    0.7000        11\n",
            "           6     0.0000    0.0000    0.0000         7\n",
            "          18     0.0000    0.0000    0.0000         7\n",
            "           7     0.0000    0.0000    0.0000         4\n",
            "           0     0.0000    0.0000    0.0000         2\n",
            "          15     1.0000    0.5000    0.6667         2\n",
            "          20     0.0000    0.0000    0.0000         1\n",
            "\n",
            "    accuracy                         0.5804       448\n",
            "   macro avg     0.4244    0.3735    0.3895       448\n",
            "weighted avg     0.5626    0.5804    0.5665       448\n",
            "\n",
            "2024-01-04 13:03:03,378 ----------------------------------------------------------------------------------------------------\n"
          ]
        },
        {
          "name": "stderr",
          "output_type": "stream",
          "text": [
            "\n"
          ]
        },
        {
          "data": {
            "text/plain": [
              "{'test_score': 0.5803571428571429}"
            ]
          },
          "execution_count": 129,
          "metadata": {},
          "output_type": "execute_result"
        }
      ],
      "source": [
        "trainer.train('flair/model/',\n",
        "              embeddings_storage_mode='gpu',\n",
        "              learning_rate=0.005,\n",
        "              mini_batch_size=16,\n",
        "              mini_batch_chunk_size=4,\n",
        "              # sampler=ImbalancedClassificationDatasetSampler,\n",
        "              max_epochs=10)"
      ]
    },
    {
      "cell_type": "code",
      "execution_count": 149,
      "metadata": {
        "id": "fe6iRgPztPfg"
      },
      "outputs": [],
      "source": [
        "num_to_word = train.set_index('label')['Category'].to_dict()"
      ]
    },
    {
      "cell_type": "code",
      "execution_count": 150,
      "metadata": {
        "colab": {
          "base_uri": "https://localhost:8080/"
        },
        "id": "_4Ysh2hytZnv",
        "outputId": "f68d5dfb-9416-47cd-d8ea-2c45e2216f4a"
      },
      "outputs": [
        {
          "data": {
            "text/plain": [
              "{'__label__1': 'AKTIVIERUNG_SIM',\n",
              " '__label__18': 'UPGRADE_ERSATZ_GUTSCHRIFT',\n",
              " '__label__16': 'TARIFE',\n",
              " '__label__4': 'GERAETE_UND_ZUBEHOER',\n",
              " '__label__5': 'KUENDIGUNGEN',\n",
              " '__label__3': 'FREE___EASY',\n",
              " '__label__2': 'E_PLUS_ONLINE',\n",
              " '__label__13': 'RECHNUNGEN',\n",
              " '__label__11': 'NON_VOICE_DIENSTE',\n",
              " '__label__8': 'MEHRWERTDIENSTE',\n",
              " '__label__9': 'NETZ',\n",
              " '__label__10': 'NETZDIENSTE',\n",
              " '__label__15': 'STORNO',\n",
              " '__label__19': 'VERTRAEGE_UND_VEREINBARUN',\n",
              " '__label__17': 'TEILNEHMERSTAMMDATEN',\n",
              " '__label__0': 'AKTIONEN',\n",
              " '__label__6': 'KUNDENBETREUUNG_ONLINE',\n",
              " '__label__14': 'R_KUNDEN',\n",
              " '__label__20': 'VERTRIEBSPARTNER',\n",
              " '__label__12': 'PRAEVENTION',\n",
              " '__label__7': 'MAHNUNGEN'}"
            ]
          },
          "execution_count": 150,
          "metadata": {},
          "output_type": "execute_result"
        }
      ],
      "source": [
        "num_to_word"
      ]
    },
    {
      "cell_type": "code",
      "execution_count": 131,
      "metadata": {
        "colab": {
          "base_uri": "https://localhost:8080/"
        },
        "id": "5MnIFzyEMflh",
        "outputId": "d4496d12-d165-464a-e087-212621cd6202"
      },
      "outputs": [
        {
          "name": "stdout",
          "output_type": "stream",
          "text": [
            "  adding: flair_4/ (stored 0%)\n",
            "  adding: flair_4/final-model.pt (deflated 7%)\n",
            "  adding: flair_4/training.log (deflated 82%)\n",
            "  adding: flair_4/test.tsv (deflated 67%)\n",
            "  adding: flair_4/dev.tsv (deflated 66%)\n",
            "  adding: flair_4/loss.tsv (deflated 80%)\n",
            "  adding: flair_4/best-model.pt (deflated 7%)\n"
          ]
        }
      ],
      "source": [
        "!zip -r 58_german_bert_cased.zip /flair_4"
      ]
    }
  ],
  "metadata": {
    "accelerator": "GPU",
    "colab": {
      "gpuType": "V100",
      "machine_shape": "hm",
      "provenance": []
    },
    "kernelspec": {
      "display_name": "Python 3",
      "name": "python3"
    },
    "language_info": {
      "codemirror_mode": {
        "name": "ipython",
        "version": 3
      },
      "file_extension": ".py",
      "mimetype": "text/x-python",
      "name": "python",
      "nbconvert_exporter": "python",
      "pygments_lexer": "ipython3",
      "version": "3.10.12"
    },
    "widgets": {
      "application/vnd.jupyter.widget-state+json": {
        "09a7df21e3d24a458310be0b5acd15ff": {
          "model_module": "@jupyter-widgets/controls",
          "model_module_version": "1.5.0",
          "model_name": "HTMLModel",
          "state": {
            "_dom_classes": [],
            "_model_module": "@jupyter-widgets/controls",
            "_model_module_version": "1.5.0",
            "_model_name": "HTMLModel",
            "_view_count": null,
            "_view_module": "@jupyter-widgets/controls",
            "_view_module_version": "1.5.0",
            "_view_name": "HTMLView",
            "description": "",
            "description_tooltip": null,
            "layout": "IPY_MODEL_1ba01d6c385d420ea072ba7aae058bb0",
            "placeholder": "​",
            "style": "IPY_MODEL_12510bebb87640c4be041daf182dd40f",
            "value": " 9.10M/9.10M [00:00&lt;00:00, 13.8MB/s]"
          }
        },
        "0eb7f5a170114b5a82c2ba4b1071f91d": {
          "model_module": "@jupyter-widgets/base",
          "model_module_version": "1.2.0",
          "model_name": "LayoutModel",
          "state": {
            "_model_module": "@jupyter-widgets/base",
            "_model_module_version": "1.2.0",
            "_model_name": "LayoutModel",
            "_view_count": null,
            "_view_module": "@jupyter-widgets/base",
            "_view_module_version": "1.2.0",
            "_view_name": "LayoutView",
            "align_content": null,
            "align_items": null,
            "align_self": null,
            "border": null,
            "bottom": null,
            "display": null,
            "flex": null,
            "flex_flow": null,
            "grid_area": null,
            "grid_auto_columns": null,
            "grid_auto_flow": null,
            "grid_auto_rows": null,
            "grid_column": null,
            "grid_gap": null,
            "grid_row": null,
            "grid_template_areas": null,
            "grid_template_columns": null,
            "grid_template_rows": null,
            "height": null,
            "justify_content": null,
            "justify_items": null,
            "left": null,
            "margin": null,
            "max_height": null,
            "max_width": null,
            "min_height": null,
            "min_width": null,
            "object_fit": null,
            "object_position": null,
            "order": null,
            "overflow": null,
            "overflow_x": null,
            "overflow_y": null,
            "padding": null,
            "right": null,
            "top": null,
            "visibility": null,
            "width": null
          }
        },
        "12510bebb87640c4be041daf182dd40f": {
          "model_module": "@jupyter-widgets/controls",
          "model_module_version": "1.5.0",
          "model_name": "DescriptionStyleModel",
          "state": {
            "_model_module": "@jupyter-widgets/controls",
            "_model_module_version": "1.5.0",
            "_model_name": "DescriptionStyleModel",
            "_view_count": null,
            "_view_module": "@jupyter-widgets/base",
            "_view_module_version": "1.2.0",
            "_view_name": "StyleView",
            "description_width": ""
          }
        },
        "1ba01d6c385d420ea072ba7aae058bb0": {
          "model_module": "@jupyter-widgets/base",
          "model_module_version": "1.2.0",
          "model_name": "LayoutModel",
          "state": {
            "_model_module": "@jupyter-widgets/base",
            "_model_module_version": "1.2.0",
            "_model_name": "LayoutModel",
            "_view_count": null,
            "_view_module": "@jupyter-widgets/base",
            "_view_module_version": "1.2.0",
            "_view_name": "LayoutView",
            "align_content": null,
            "align_items": null,
            "align_self": null,
            "border": null,
            "bottom": null,
            "display": null,
            "flex": null,
            "flex_flow": null,
            "grid_area": null,
            "grid_auto_columns": null,
            "grid_auto_flow": null,
            "grid_auto_rows": null,
            "grid_column": null,
            "grid_gap": null,
            "grid_row": null,
            "grid_template_areas": null,
            "grid_template_columns": null,
            "grid_template_rows": null,
            "height": null,
            "justify_content": null,
            "justify_items": null,
            "left": null,
            "margin": null,
            "max_height": null,
            "max_width": null,
            "min_height": null,
            "min_width": null,
            "object_fit": null,
            "object_position": null,
            "order": null,
            "overflow": null,
            "overflow_x": null,
            "overflow_y": null,
            "padding": null,
            "right": null,
            "top": null,
            "visibility": null,
            "width": null
          }
        },
        "353ce59601cb46c6b26050c98c4ebcb6": {
          "model_module": "@jupyter-widgets/controls",
          "model_module_version": "1.5.0",
          "model_name": "HBoxModel",
          "state": {
            "_dom_classes": [],
            "_model_module": "@jupyter-widgets/controls",
            "_model_module_version": "1.5.0",
            "_model_name": "HBoxModel",
            "_view_count": null,
            "_view_module": "@jupyter-widgets/controls",
            "_view_module_version": "1.5.0",
            "_view_name": "HBoxView",
            "box_style": "",
            "children": [
              "IPY_MODEL_3870af851ef6411bae31a895f4992438",
              "IPY_MODEL_b6d08d481feb4978adc6ad7140764674",
              "IPY_MODEL_aea8d54a55924f8985ead8bee05575d7"
            ],
            "layout": "IPY_MODEL_bab57ce73c204243ad7d92c0c30fd97e"
          }
        },
        "35a5e09362f9429e900c6aab52253f6c": {
          "model_module": "@jupyter-widgets/controls",
          "model_module_version": "1.5.0",
          "model_name": "HTMLModel",
          "state": {
            "_dom_classes": [],
            "_model_module": "@jupyter-widgets/controls",
            "_model_module_version": "1.5.0",
            "_model_name": "HTMLModel",
            "_view_count": null,
            "_view_module": "@jupyter-widgets/controls",
            "_view_module_version": "1.5.0",
            "_view_name": "HTMLView",
            "description": "",
            "description_tooltip": null,
            "layout": "IPY_MODEL_d766adbafb454dfdbf3a3289405c2e8d",
            "placeholder": "​",
            "style": "IPY_MODEL_f10779be9740450093d145b06f2b0149",
            "value": "config.json: 100%"
          }
        },
        "3870af851ef6411bae31a895f4992438": {
          "model_module": "@jupyter-widgets/controls",
          "model_module_version": "1.5.0",
          "model_name": "HTMLModel",
          "state": {
            "_dom_classes": [],
            "_model_module": "@jupyter-widgets/controls",
            "_model_module_version": "1.5.0",
            "_model_name": "HTMLModel",
            "_view_count": null,
            "_view_module": "@jupyter-widgets/controls",
            "_view_module_version": "1.5.0",
            "_view_name": "HTMLView",
            "description": "",
            "description_tooltip": null,
            "layout": "IPY_MODEL_0eb7f5a170114b5a82c2ba4b1071f91d",
            "placeholder": "​",
            "style": "IPY_MODEL_5595b6da4e044586965ec05a1e04700b",
            "value": "pytorch_model.bin: 100%"
          }
        },
        "3c0f092aa3b744fa8f33389a89ea1266": {
          "model_module": "@jupyter-widgets/base",
          "model_module_version": "1.2.0",
          "model_name": "LayoutModel",
          "state": {
            "_model_module": "@jupyter-widgets/base",
            "_model_module_version": "1.2.0",
            "_model_name": "LayoutModel",
            "_view_count": null,
            "_view_module": "@jupyter-widgets/base",
            "_view_module_version": "1.2.0",
            "_view_name": "LayoutView",
            "align_content": null,
            "align_items": null,
            "align_self": null,
            "border": null,
            "bottom": null,
            "display": null,
            "flex": null,
            "flex_flow": null,
            "grid_area": null,
            "grid_auto_columns": null,
            "grid_auto_flow": null,
            "grid_auto_rows": null,
            "grid_column": null,
            "grid_gap": null,
            "grid_row": null,
            "grid_template_areas": null,
            "grid_template_columns": null,
            "grid_template_rows": null,
            "height": null,
            "justify_content": null,
            "justify_items": null,
            "left": null,
            "margin": null,
            "max_height": null,
            "max_width": null,
            "min_height": null,
            "min_width": null,
            "object_fit": null,
            "object_position": null,
            "order": null,
            "overflow": null,
            "overflow_x": null,
            "overflow_y": null,
            "padding": null,
            "right": null,
            "top": null,
            "visibility": null,
            "width": null
          }
        },
        "3e0b965749584ac88c80aeda400e7e64": {
          "model_module": "@jupyter-widgets/controls",
          "model_module_version": "1.5.0",
          "model_name": "HTMLModel",
          "state": {
            "_dom_classes": [],
            "_model_module": "@jupyter-widgets/controls",
            "_model_module_version": "1.5.0",
            "_model_name": "HTMLModel",
            "_view_count": null,
            "_view_module": "@jupyter-widgets/controls",
            "_view_module_version": "1.5.0",
            "_view_name": "HTMLView",
            "description": "",
            "description_tooltip": null,
            "layout": "IPY_MODEL_71a4860773a946f8ba2c25d37ebb20b0",
            "placeholder": "​",
            "style": "IPY_MODEL_8352c67965384da19818615b3c72bdd0",
            "value": " 5.07M/5.07M [00:00&lt;00:00, 8.79MB/s]"
          }
        },
        "3e950b6391f6405e806902c0830238f0": {
          "model_module": "@jupyter-widgets/controls",
          "model_module_version": "1.5.0",
          "model_name": "HTMLModel",
          "state": {
            "_dom_classes": [],
            "_model_module": "@jupyter-widgets/controls",
            "_model_module_version": "1.5.0",
            "_model_name": "HTMLModel",
            "_view_count": null,
            "_view_module": "@jupyter-widgets/controls",
            "_view_module_version": "1.5.0",
            "_view_name": "HTMLView",
            "description": "",
            "description_tooltip": null,
            "layout": "IPY_MODEL_71500477d919420295e8984bf050ef44",
            "placeholder": "​",
            "style": "IPY_MODEL_ed3b3a4f0d0647dcaad08e0c129fe03b",
            "value": "tokenizer.json: 100%"
          }
        },
        "3ef1187de6c441a2970717328add48c0": {
          "model_module": "@jupyter-widgets/controls",
          "model_module_version": "1.5.0",
          "model_name": "HBoxModel",
          "state": {
            "_dom_classes": [],
            "_model_module": "@jupyter-widgets/controls",
            "_model_module_version": "1.5.0",
            "_model_name": "HBoxModel",
            "_view_count": null,
            "_view_module": "@jupyter-widgets/controls",
            "_view_module_version": "1.5.0",
            "_view_name": "HBoxView",
            "box_style": "",
            "children": [
              "IPY_MODEL_ce5fd19e02904dc1a745a2f3059617b9",
              "IPY_MODEL_94a44029b8784b5ca6927a51337d8b0d",
              "IPY_MODEL_3e0b965749584ac88c80aeda400e7e64"
            ],
            "layout": "IPY_MODEL_c4f3e450587d491d8c8b82bf29d0a8c2"
          }
        },
        "428f1988509d4e2d8efbe3397a9ae1b8": {
          "model_module": "@jupyter-widgets/base",
          "model_module_version": "1.2.0",
          "model_name": "LayoutModel",
          "state": {
            "_model_module": "@jupyter-widgets/base",
            "_model_module_version": "1.2.0",
            "_model_name": "LayoutModel",
            "_view_count": null,
            "_view_module": "@jupyter-widgets/base",
            "_view_module_version": "1.2.0",
            "_view_name": "LayoutView",
            "align_content": null,
            "align_items": null,
            "align_self": null,
            "border": null,
            "bottom": null,
            "display": null,
            "flex": null,
            "flex_flow": null,
            "grid_area": null,
            "grid_auto_columns": null,
            "grid_auto_flow": null,
            "grid_auto_rows": null,
            "grid_column": null,
            "grid_gap": null,
            "grid_row": null,
            "grid_template_areas": null,
            "grid_template_columns": null,
            "grid_template_rows": null,
            "height": null,
            "justify_content": null,
            "justify_items": null,
            "left": null,
            "margin": null,
            "max_height": null,
            "max_width": null,
            "min_height": null,
            "min_width": null,
            "object_fit": null,
            "object_position": null,
            "order": null,
            "overflow": null,
            "overflow_x": null,
            "overflow_y": null,
            "padding": null,
            "right": null,
            "top": null,
            "visibility": null,
            "width": null
          }
        },
        "4393c840e8d44885a1e3247be1ab62d7": {
          "model_module": "@jupyter-widgets/controls",
          "model_module_version": "1.5.0",
          "model_name": "HTMLModel",
          "state": {
            "_dom_classes": [],
            "_model_module": "@jupyter-widgets/controls",
            "_model_module_version": "1.5.0",
            "_model_name": "HTMLModel",
            "_view_count": null,
            "_view_module": "@jupyter-widgets/controls",
            "_view_module_version": "1.5.0",
            "_view_name": "HTMLView",
            "description": "",
            "description_tooltip": null,
            "layout": "IPY_MODEL_428f1988509d4e2d8efbe3397a9ae1b8",
            "placeholder": "​",
            "style": "IPY_MODEL_c8ef7f8a5a8346208c457b6088dd4b98",
            "value": " 616/616 [00:00&lt;00:00, 52.7kB/s]"
          }
        },
        "5595b6da4e044586965ec05a1e04700b": {
          "model_module": "@jupyter-widgets/controls",
          "model_module_version": "1.5.0",
          "model_name": "DescriptionStyleModel",
          "state": {
            "_model_module": "@jupyter-widgets/controls",
            "_model_module_version": "1.5.0",
            "_model_name": "DescriptionStyleModel",
            "_view_count": null,
            "_view_module": "@jupyter-widgets/base",
            "_view_module_version": "1.2.0",
            "_view_name": "StyleView",
            "description_width": ""
          }
        },
        "65e0686877334a12b1d5a21c1bdc6d83": {
          "model_module": "@jupyter-widgets/controls",
          "model_module_version": "1.5.0",
          "model_name": "FloatProgressModel",
          "state": {
            "_dom_classes": [],
            "_model_module": "@jupyter-widgets/controls",
            "_model_module_version": "1.5.0",
            "_model_name": "FloatProgressModel",
            "_view_count": null,
            "_view_module": "@jupyter-widgets/controls",
            "_view_module_version": "1.5.0",
            "_view_name": "ProgressView",
            "bar_style": "success",
            "description": "",
            "description_tooltip": null,
            "layout": "IPY_MODEL_99d0a79200384645ac15412fe07eb237",
            "max": 9096718,
            "min": 0,
            "orientation": "horizontal",
            "style": "IPY_MODEL_d3f4afff96bb4a9e9058606695e2feee",
            "value": 9096718
          }
        },
        "6a3f53d635b44c0b8a7c428bf6efd017": {
          "model_module": "@jupyter-widgets/controls",
          "model_module_version": "1.5.0",
          "model_name": "ProgressStyleModel",
          "state": {
            "_model_module": "@jupyter-widgets/controls",
            "_model_module_version": "1.5.0",
            "_model_name": "ProgressStyleModel",
            "_view_count": null,
            "_view_module": "@jupyter-widgets/base",
            "_view_module_version": "1.2.0",
            "_view_name": "StyleView",
            "bar_color": null,
            "description_width": ""
          }
        },
        "71500477d919420295e8984bf050ef44": {
          "model_module": "@jupyter-widgets/base",
          "model_module_version": "1.2.0",
          "model_name": "LayoutModel",
          "state": {
            "_model_module": "@jupyter-widgets/base",
            "_model_module_version": "1.2.0",
            "_model_name": "LayoutModel",
            "_view_count": null,
            "_view_module": "@jupyter-widgets/base",
            "_view_module_version": "1.2.0",
            "_view_name": "LayoutView",
            "align_content": null,
            "align_items": null,
            "align_self": null,
            "border": null,
            "bottom": null,
            "display": null,
            "flex": null,
            "flex_flow": null,
            "grid_area": null,
            "grid_auto_columns": null,
            "grid_auto_flow": null,
            "grid_auto_rows": null,
            "grid_column": null,
            "grid_gap": null,
            "grid_row": null,
            "grid_template_areas": null,
            "grid_template_columns": null,
            "grid_template_rows": null,
            "height": null,
            "justify_content": null,
            "justify_items": null,
            "left": null,
            "margin": null,
            "max_height": null,
            "max_width": null,
            "min_height": null,
            "min_width": null,
            "object_fit": null,
            "object_position": null,
            "order": null,
            "overflow": null,
            "overflow_x": null,
            "overflow_y": null,
            "padding": null,
            "right": null,
            "top": null,
            "visibility": null,
            "width": null
          }
        },
        "71a4860773a946f8ba2c25d37ebb20b0": {
          "model_module": "@jupyter-widgets/base",
          "model_module_version": "1.2.0",
          "model_name": "LayoutModel",
          "state": {
            "_model_module": "@jupyter-widgets/base",
            "_model_module_version": "1.2.0",
            "_model_name": "LayoutModel",
            "_view_count": null,
            "_view_module": "@jupyter-widgets/base",
            "_view_module_version": "1.2.0",
            "_view_name": "LayoutView",
            "align_content": null,
            "align_items": null,
            "align_self": null,
            "border": null,
            "bottom": null,
            "display": null,
            "flex": null,
            "flex_flow": null,
            "grid_area": null,
            "grid_auto_columns": null,
            "grid_auto_flow": null,
            "grid_auto_rows": null,
            "grid_column": null,
            "grid_gap": null,
            "grid_row": null,
            "grid_template_areas": null,
            "grid_template_columns": null,
            "grid_template_rows": null,
            "height": null,
            "justify_content": null,
            "justify_items": null,
            "left": null,
            "margin": null,
            "max_height": null,
            "max_width": null,
            "min_height": null,
            "min_width": null,
            "object_fit": null,
            "object_position": null,
            "order": null,
            "overflow": null,
            "overflow_x": null,
            "overflow_y": null,
            "padding": null,
            "right": null,
            "top": null,
            "visibility": null,
            "width": null
          }
        },
        "8352c67965384da19818615b3c72bdd0": {
          "model_module": "@jupyter-widgets/controls",
          "model_module_version": "1.5.0",
          "model_name": "DescriptionStyleModel",
          "state": {
            "_model_module": "@jupyter-widgets/controls",
            "_model_module_version": "1.5.0",
            "_model_name": "DescriptionStyleModel",
            "_view_count": null,
            "_view_module": "@jupyter-widgets/base",
            "_view_module_version": "1.2.0",
            "_view_name": "StyleView",
            "description_width": ""
          }
        },
        "94a44029b8784b5ca6927a51337d8b0d": {
          "model_module": "@jupyter-widgets/controls",
          "model_module_version": "1.5.0",
          "model_name": "FloatProgressModel",
          "state": {
            "_dom_classes": [],
            "_model_module": "@jupyter-widgets/controls",
            "_model_module_version": "1.5.0",
            "_model_name": "FloatProgressModel",
            "_view_count": null,
            "_view_module": "@jupyter-widgets/controls",
            "_view_module_version": "1.5.0",
            "_view_name": "ProgressView",
            "bar_style": "success",
            "description": "",
            "description_tooltip": null,
            "layout": "IPY_MODEL_bd14ce3efb85434a90c0a052e5d1413d",
            "max": 5069051,
            "min": 0,
            "orientation": "horizontal",
            "style": "IPY_MODEL_9d73d436ea0c4f2e86e7919a8d3e7e79",
            "value": 5069051
          }
        },
        "99d0a79200384645ac15412fe07eb237": {
          "model_module": "@jupyter-widgets/base",
          "model_module_version": "1.2.0",
          "model_name": "LayoutModel",
          "state": {
            "_model_module": "@jupyter-widgets/base",
            "_model_module_version": "1.2.0",
            "_model_name": "LayoutModel",
            "_view_count": null,
            "_view_module": "@jupyter-widgets/base",
            "_view_module_version": "1.2.0",
            "_view_name": "LayoutView",
            "align_content": null,
            "align_items": null,
            "align_self": null,
            "border": null,
            "bottom": null,
            "display": null,
            "flex": null,
            "flex_flow": null,
            "grid_area": null,
            "grid_auto_columns": null,
            "grid_auto_flow": null,
            "grid_auto_rows": null,
            "grid_column": null,
            "grid_gap": null,
            "grid_row": null,
            "grid_template_areas": null,
            "grid_template_columns": null,
            "grid_template_rows": null,
            "height": null,
            "justify_content": null,
            "justify_items": null,
            "left": null,
            "margin": null,
            "max_height": null,
            "max_width": null,
            "min_height": null,
            "min_width": null,
            "object_fit": null,
            "object_position": null,
            "order": null,
            "overflow": null,
            "overflow_x": null,
            "overflow_y": null,
            "padding": null,
            "right": null,
            "top": null,
            "visibility": null,
            "width": null
          }
        },
        "9b27eba5027846868135d000f1cdae68": {
          "model_module": "@jupyter-widgets/controls",
          "model_module_version": "1.5.0",
          "model_name": "ProgressStyleModel",
          "state": {
            "_model_module": "@jupyter-widgets/controls",
            "_model_module_version": "1.5.0",
            "_model_name": "ProgressStyleModel",
            "_view_count": null,
            "_view_module": "@jupyter-widgets/base",
            "_view_module_version": "1.2.0",
            "_view_name": "StyleView",
            "bar_color": null,
            "description_width": ""
          }
        },
        "9d73d436ea0c4f2e86e7919a8d3e7e79": {
          "model_module": "@jupyter-widgets/controls",
          "model_module_version": "1.5.0",
          "model_name": "ProgressStyleModel",
          "state": {
            "_model_module": "@jupyter-widgets/controls",
            "_model_module_version": "1.5.0",
            "_model_name": "ProgressStyleModel",
            "_view_count": null,
            "_view_module": "@jupyter-widgets/base",
            "_view_module_version": "1.2.0",
            "_view_name": "StyleView",
            "bar_color": null,
            "description_width": ""
          }
        },
        "aea8d54a55924f8985ead8bee05575d7": {
          "model_module": "@jupyter-widgets/controls",
          "model_module_version": "1.5.0",
          "model_name": "HTMLModel",
          "state": {
            "_dom_classes": [],
            "_model_module": "@jupyter-widgets/controls",
            "_model_module_version": "1.5.0",
            "_model_name": "HTMLModel",
            "_view_count": null,
            "_view_module": "@jupyter-widgets/controls",
            "_view_module_version": "1.5.0",
            "_view_name": "HTMLView",
            "description": "",
            "description_tooltip": null,
            "layout": "IPY_MODEL_fe17e8c13c704f5c85112579f10e2736",
            "placeholder": "​",
            "style": "IPY_MODEL_dc9ceecfbf05424d91ddea81d0f21c92",
            "value": " 2.24G/2.24G [00:07&lt;00:00, 308MB/s]"
          }
        },
        "b6d08d481feb4978adc6ad7140764674": {
          "model_module": "@jupyter-widgets/controls",
          "model_module_version": "1.5.0",
          "model_name": "FloatProgressModel",
          "state": {
            "_dom_classes": [],
            "_model_module": "@jupyter-widgets/controls",
            "_model_module_version": "1.5.0",
            "_model_name": "FloatProgressModel",
            "_view_count": null,
            "_view_module": "@jupyter-widgets/controls",
            "_view_module_version": "1.5.0",
            "_view_name": "ProgressView",
            "bar_style": "success",
            "description": "",
            "description_tooltip": null,
            "layout": "IPY_MODEL_3c0f092aa3b744fa8f33389a89ea1266",
            "max": 2239866697,
            "min": 0,
            "orientation": "horizontal",
            "style": "IPY_MODEL_9b27eba5027846868135d000f1cdae68",
            "value": 2239866697
          }
        },
        "bab57ce73c204243ad7d92c0c30fd97e": {
          "model_module": "@jupyter-widgets/base",
          "model_module_version": "1.2.0",
          "model_name": "LayoutModel",
          "state": {
            "_model_module": "@jupyter-widgets/base",
            "_model_module_version": "1.2.0",
            "_model_name": "LayoutModel",
            "_view_count": null,
            "_view_module": "@jupyter-widgets/base",
            "_view_module_version": "1.2.0",
            "_view_name": "LayoutView",
            "align_content": null,
            "align_items": null,
            "align_self": null,
            "border": null,
            "bottom": null,
            "display": null,
            "flex": null,
            "flex_flow": null,
            "grid_area": null,
            "grid_auto_columns": null,
            "grid_auto_flow": null,
            "grid_auto_rows": null,
            "grid_column": null,
            "grid_gap": null,
            "grid_row": null,
            "grid_template_areas": null,
            "grid_template_columns": null,
            "grid_template_rows": null,
            "height": null,
            "justify_content": null,
            "justify_items": null,
            "left": null,
            "margin": null,
            "max_height": null,
            "max_width": null,
            "min_height": null,
            "min_width": null,
            "object_fit": null,
            "object_position": null,
            "order": null,
            "overflow": null,
            "overflow_x": null,
            "overflow_y": null,
            "padding": null,
            "right": null,
            "top": null,
            "visibility": null,
            "width": null
          }
        },
        "bd14ce3efb85434a90c0a052e5d1413d": {
          "model_module": "@jupyter-widgets/base",
          "model_module_version": "1.2.0",
          "model_name": "LayoutModel",
          "state": {
            "_model_module": "@jupyter-widgets/base",
            "_model_module_version": "1.2.0",
            "_model_name": "LayoutModel",
            "_view_count": null,
            "_view_module": "@jupyter-widgets/base",
            "_view_module_version": "1.2.0",
            "_view_name": "LayoutView",
            "align_content": null,
            "align_items": null,
            "align_self": null,
            "border": null,
            "bottom": null,
            "display": null,
            "flex": null,
            "flex_flow": null,
            "grid_area": null,
            "grid_auto_columns": null,
            "grid_auto_flow": null,
            "grid_auto_rows": null,
            "grid_column": null,
            "grid_gap": null,
            "grid_row": null,
            "grid_template_areas": null,
            "grid_template_columns": null,
            "grid_template_rows": null,
            "height": null,
            "justify_content": null,
            "justify_items": null,
            "left": null,
            "margin": null,
            "max_height": null,
            "max_width": null,
            "min_height": null,
            "min_width": null,
            "object_fit": null,
            "object_position": null,
            "order": null,
            "overflow": null,
            "overflow_x": null,
            "overflow_y": null,
            "padding": null,
            "right": null,
            "top": null,
            "visibility": null,
            "width": null
          }
        },
        "c4f3e450587d491d8c8b82bf29d0a8c2": {
          "model_module": "@jupyter-widgets/base",
          "model_module_version": "1.2.0",
          "model_name": "LayoutModel",
          "state": {
            "_model_module": "@jupyter-widgets/base",
            "_model_module_version": "1.2.0",
            "_model_name": "LayoutModel",
            "_view_count": null,
            "_view_module": "@jupyter-widgets/base",
            "_view_module_version": "1.2.0",
            "_view_name": "LayoutView",
            "align_content": null,
            "align_items": null,
            "align_self": null,
            "border": null,
            "bottom": null,
            "display": null,
            "flex": null,
            "flex_flow": null,
            "grid_area": null,
            "grid_auto_columns": null,
            "grid_auto_flow": null,
            "grid_auto_rows": null,
            "grid_column": null,
            "grid_gap": null,
            "grid_row": null,
            "grid_template_areas": null,
            "grid_template_columns": null,
            "grid_template_rows": null,
            "height": null,
            "justify_content": null,
            "justify_items": null,
            "left": null,
            "margin": null,
            "max_height": null,
            "max_width": null,
            "min_height": null,
            "min_width": null,
            "object_fit": null,
            "object_position": null,
            "order": null,
            "overflow": null,
            "overflow_x": null,
            "overflow_y": null,
            "padding": null,
            "right": null,
            "top": null,
            "visibility": null,
            "width": null
          }
        },
        "c8ef7f8a5a8346208c457b6088dd4b98": {
          "model_module": "@jupyter-widgets/controls",
          "model_module_version": "1.5.0",
          "model_name": "DescriptionStyleModel",
          "state": {
            "_model_module": "@jupyter-widgets/controls",
            "_model_module_version": "1.5.0",
            "_model_name": "DescriptionStyleModel",
            "_view_count": null,
            "_view_module": "@jupyter-widgets/base",
            "_view_module_version": "1.2.0",
            "_view_name": "StyleView",
            "description_width": ""
          }
        },
        "ce5fd19e02904dc1a745a2f3059617b9": {
          "model_module": "@jupyter-widgets/controls",
          "model_module_version": "1.5.0",
          "model_name": "HTMLModel",
          "state": {
            "_dom_classes": [],
            "_model_module": "@jupyter-widgets/controls",
            "_model_module_version": "1.5.0",
            "_model_name": "HTMLModel",
            "_view_count": null,
            "_view_module": "@jupyter-widgets/controls",
            "_view_module_version": "1.5.0",
            "_view_name": "HTMLView",
            "description": "",
            "description_tooltip": null,
            "layout": "IPY_MODEL_e8d15563ea254045b6bca55b12c9de4c",
            "placeholder": "​",
            "style": "IPY_MODEL_f18cee69e30449b9bfbc86848664b022",
            "value": "sentencepiece.bpe.model: 100%"
          }
        },
        "cea416fd27d54d948beffb32307d267c": {
          "model_module": "@jupyter-widgets/controls",
          "model_module_version": "1.5.0",
          "model_name": "FloatProgressModel",
          "state": {
            "_dom_classes": [],
            "_model_module": "@jupyter-widgets/controls",
            "_model_module_version": "1.5.0",
            "_model_name": "FloatProgressModel",
            "_view_count": null,
            "_view_module": "@jupyter-widgets/controls",
            "_view_module_version": "1.5.0",
            "_view_name": "ProgressView",
            "bar_style": "success",
            "description": "",
            "description_tooltip": null,
            "layout": "IPY_MODEL_de07a722c70244229c306238f4afd014",
            "max": 616,
            "min": 0,
            "orientation": "horizontal",
            "style": "IPY_MODEL_6a3f53d635b44c0b8a7c428bf6efd017",
            "value": 616
          }
        },
        "d3be75b644724a6da5edb2c51cb0a532": {
          "model_module": "@jupyter-widgets/controls",
          "model_module_version": "1.5.0",
          "model_name": "HBoxModel",
          "state": {
            "_dom_classes": [],
            "_model_module": "@jupyter-widgets/controls",
            "_model_module_version": "1.5.0",
            "_model_name": "HBoxModel",
            "_view_count": null,
            "_view_module": "@jupyter-widgets/controls",
            "_view_module_version": "1.5.0",
            "_view_name": "HBoxView",
            "box_style": "",
            "children": [
              "IPY_MODEL_35a5e09362f9429e900c6aab52253f6c",
              "IPY_MODEL_cea416fd27d54d948beffb32307d267c",
              "IPY_MODEL_4393c840e8d44885a1e3247be1ab62d7"
            ],
            "layout": "IPY_MODEL_d68a7cd4802c4a2bb66841dad1e2da45"
          }
        },
        "d3f4afff96bb4a9e9058606695e2feee": {
          "model_module": "@jupyter-widgets/controls",
          "model_module_version": "1.5.0",
          "model_name": "ProgressStyleModel",
          "state": {
            "_model_module": "@jupyter-widgets/controls",
            "_model_module_version": "1.5.0",
            "_model_name": "ProgressStyleModel",
            "_view_count": null,
            "_view_module": "@jupyter-widgets/base",
            "_view_module_version": "1.2.0",
            "_view_name": "StyleView",
            "bar_color": null,
            "description_width": ""
          }
        },
        "d68a7cd4802c4a2bb66841dad1e2da45": {
          "model_module": "@jupyter-widgets/base",
          "model_module_version": "1.2.0",
          "model_name": "LayoutModel",
          "state": {
            "_model_module": "@jupyter-widgets/base",
            "_model_module_version": "1.2.0",
            "_model_name": "LayoutModel",
            "_view_count": null,
            "_view_module": "@jupyter-widgets/base",
            "_view_module_version": "1.2.0",
            "_view_name": "LayoutView",
            "align_content": null,
            "align_items": null,
            "align_self": null,
            "border": null,
            "bottom": null,
            "display": null,
            "flex": null,
            "flex_flow": null,
            "grid_area": null,
            "grid_auto_columns": null,
            "grid_auto_flow": null,
            "grid_auto_rows": null,
            "grid_column": null,
            "grid_gap": null,
            "grid_row": null,
            "grid_template_areas": null,
            "grid_template_columns": null,
            "grid_template_rows": null,
            "height": null,
            "justify_content": null,
            "justify_items": null,
            "left": null,
            "margin": null,
            "max_height": null,
            "max_width": null,
            "min_height": null,
            "min_width": null,
            "object_fit": null,
            "object_position": null,
            "order": null,
            "overflow": null,
            "overflow_x": null,
            "overflow_y": null,
            "padding": null,
            "right": null,
            "top": null,
            "visibility": null,
            "width": null
          }
        },
        "d766adbafb454dfdbf3a3289405c2e8d": {
          "model_module": "@jupyter-widgets/base",
          "model_module_version": "1.2.0",
          "model_name": "LayoutModel",
          "state": {
            "_model_module": "@jupyter-widgets/base",
            "_model_module_version": "1.2.0",
            "_model_name": "LayoutModel",
            "_view_count": null,
            "_view_module": "@jupyter-widgets/base",
            "_view_module_version": "1.2.0",
            "_view_name": "LayoutView",
            "align_content": null,
            "align_items": null,
            "align_self": null,
            "border": null,
            "bottom": null,
            "display": null,
            "flex": null,
            "flex_flow": null,
            "grid_area": null,
            "grid_auto_columns": null,
            "grid_auto_flow": null,
            "grid_auto_rows": null,
            "grid_column": null,
            "grid_gap": null,
            "grid_row": null,
            "grid_template_areas": null,
            "grid_template_columns": null,
            "grid_template_rows": null,
            "height": null,
            "justify_content": null,
            "justify_items": null,
            "left": null,
            "margin": null,
            "max_height": null,
            "max_width": null,
            "min_height": null,
            "min_width": null,
            "object_fit": null,
            "object_position": null,
            "order": null,
            "overflow": null,
            "overflow_x": null,
            "overflow_y": null,
            "padding": null,
            "right": null,
            "top": null,
            "visibility": null,
            "width": null
          }
        },
        "da6669fbc3ec4486ae6663e0543e34d9": {
          "model_module": "@jupyter-widgets/base",
          "model_module_version": "1.2.0",
          "model_name": "LayoutModel",
          "state": {
            "_model_module": "@jupyter-widgets/base",
            "_model_module_version": "1.2.0",
            "_model_name": "LayoutModel",
            "_view_count": null,
            "_view_module": "@jupyter-widgets/base",
            "_view_module_version": "1.2.0",
            "_view_name": "LayoutView",
            "align_content": null,
            "align_items": null,
            "align_self": null,
            "border": null,
            "bottom": null,
            "display": null,
            "flex": null,
            "flex_flow": null,
            "grid_area": null,
            "grid_auto_columns": null,
            "grid_auto_flow": null,
            "grid_auto_rows": null,
            "grid_column": null,
            "grid_gap": null,
            "grid_row": null,
            "grid_template_areas": null,
            "grid_template_columns": null,
            "grid_template_rows": null,
            "height": null,
            "justify_content": null,
            "justify_items": null,
            "left": null,
            "margin": null,
            "max_height": null,
            "max_width": null,
            "min_height": null,
            "min_width": null,
            "object_fit": null,
            "object_position": null,
            "order": null,
            "overflow": null,
            "overflow_x": null,
            "overflow_y": null,
            "padding": null,
            "right": null,
            "top": null,
            "visibility": null,
            "width": null
          }
        },
        "dc9ceecfbf05424d91ddea81d0f21c92": {
          "model_module": "@jupyter-widgets/controls",
          "model_module_version": "1.5.0",
          "model_name": "DescriptionStyleModel",
          "state": {
            "_model_module": "@jupyter-widgets/controls",
            "_model_module_version": "1.5.0",
            "_model_name": "DescriptionStyleModel",
            "_view_count": null,
            "_view_module": "@jupyter-widgets/base",
            "_view_module_version": "1.2.0",
            "_view_name": "StyleView",
            "description_width": ""
          }
        },
        "de07a722c70244229c306238f4afd014": {
          "model_module": "@jupyter-widgets/base",
          "model_module_version": "1.2.0",
          "model_name": "LayoutModel",
          "state": {
            "_model_module": "@jupyter-widgets/base",
            "_model_module_version": "1.2.0",
            "_model_name": "LayoutModel",
            "_view_count": null,
            "_view_module": "@jupyter-widgets/base",
            "_view_module_version": "1.2.0",
            "_view_name": "LayoutView",
            "align_content": null,
            "align_items": null,
            "align_self": null,
            "border": null,
            "bottom": null,
            "display": null,
            "flex": null,
            "flex_flow": null,
            "grid_area": null,
            "grid_auto_columns": null,
            "grid_auto_flow": null,
            "grid_auto_rows": null,
            "grid_column": null,
            "grid_gap": null,
            "grid_row": null,
            "grid_template_areas": null,
            "grid_template_columns": null,
            "grid_template_rows": null,
            "height": null,
            "justify_content": null,
            "justify_items": null,
            "left": null,
            "margin": null,
            "max_height": null,
            "max_width": null,
            "min_height": null,
            "min_width": null,
            "object_fit": null,
            "object_position": null,
            "order": null,
            "overflow": null,
            "overflow_x": null,
            "overflow_y": null,
            "padding": null,
            "right": null,
            "top": null,
            "visibility": null,
            "width": null
          }
        },
        "e8d15563ea254045b6bca55b12c9de4c": {
          "model_module": "@jupyter-widgets/base",
          "model_module_version": "1.2.0",
          "model_name": "LayoutModel",
          "state": {
            "_model_module": "@jupyter-widgets/base",
            "_model_module_version": "1.2.0",
            "_model_name": "LayoutModel",
            "_view_count": null,
            "_view_module": "@jupyter-widgets/base",
            "_view_module_version": "1.2.0",
            "_view_name": "LayoutView",
            "align_content": null,
            "align_items": null,
            "align_self": null,
            "border": null,
            "bottom": null,
            "display": null,
            "flex": null,
            "flex_flow": null,
            "grid_area": null,
            "grid_auto_columns": null,
            "grid_auto_flow": null,
            "grid_auto_rows": null,
            "grid_column": null,
            "grid_gap": null,
            "grid_row": null,
            "grid_template_areas": null,
            "grid_template_columns": null,
            "grid_template_rows": null,
            "height": null,
            "justify_content": null,
            "justify_items": null,
            "left": null,
            "margin": null,
            "max_height": null,
            "max_width": null,
            "min_height": null,
            "min_width": null,
            "object_fit": null,
            "object_position": null,
            "order": null,
            "overflow": null,
            "overflow_x": null,
            "overflow_y": null,
            "padding": null,
            "right": null,
            "top": null,
            "visibility": null,
            "width": null
          }
        },
        "ed3b3a4f0d0647dcaad08e0c129fe03b": {
          "model_module": "@jupyter-widgets/controls",
          "model_module_version": "1.5.0",
          "model_name": "DescriptionStyleModel",
          "state": {
            "_model_module": "@jupyter-widgets/controls",
            "_model_module_version": "1.5.0",
            "_model_name": "DescriptionStyleModel",
            "_view_count": null,
            "_view_module": "@jupyter-widgets/base",
            "_view_module_version": "1.2.0",
            "_view_name": "StyleView",
            "description_width": ""
          }
        },
        "f10779be9740450093d145b06f2b0149": {
          "model_module": "@jupyter-widgets/controls",
          "model_module_version": "1.5.0",
          "model_name": "DescriptionStyleModel",
          "state": {
            "_model_module": "@jupyter-widgets/controls",
            "_model_module_version": "1.5.0",
            "_model_name": "DescriptionStyleModel",
            "_view_count": null,
            "_view_module": "@jupyter-widgets/base",
            "_view_module_version": "1.2.0",
            "_view_name": "StyleView",
            "description_width": ""
          }
        },
        "f18cee69e30449b9bfbc86848664b022": {
          "model_module": "@jupyter-widgets/controls",
          "model_module_version": "1.5.0",
          "model_name": "DescriptionStyleModel",
          "state": {
            "_model_module": "@jupyter-widgets/controls",
            "_model_module_version": "1.5.0",
            "_model_name": "DescriptionStyleModel",
            "_view_count": null,
            "_view_module": "@jupyter-widgets/base",
            "_view_module_version": "1.2.0",
            "_view_name": "StyleView",
            "description_width": ""
          }
        },
        "fc1c83bbbb1c41529b1770d93cb76f45": {
          "model_module": "@jupyter-widgets/controls",
          "model_module_version": "1.5.0",
          "model_name": "HBoxModel",
          "state": {
            "_dom_classes": [],
            "_model_module": "@jupyter-widgets/controls",
            "_model_module_version": "1.5.0",
            "_model_name": "HBoxModel",
            "_view_count": null,
            "_view_module": "@jupyter-widgets/controls",
            "_view_module_version": "1.5.0",
            "_view_name": "HBoxView",
            "box_style": "",
            "children": [
              "IPY_MODEL_3e950b6391f6405e806902c0830238f0",
              "IPY_MODEL_65e0686877334a12b1d5a21c1bdc6d83",
              "IPY_MODEL_09a7df21e3d24a458310be0b5acd15ff"
            ],
            "layout": "IPY_MODEL_da6669fbc3ec4486ae6663e0543e34d9"
          }
        },
        "fe17e8c13c704f5c85112579f10e2736": {
          "model_module": "@jupyter-widgets/base",
          "model_module_version": "1.2.0",
          "model_name": "LayoutModel",
          "state": {
            "_model_module": "@jupyter-widgets/base",
            "_model_module_version": "1.2.0",
            "_model_name": "LayoutModel",
            "_view_count": null,
            "_view_module": "@jupyter-widgets/base",
            "_view_module_version": "1.2.0",
            "_view_name": "LayoutView",
            "align_content": null,
            "align_items": null,
            "align_self": null,
            "border": null,
            "bottom": null,
            "display": null,
            "flex": null,
            "flex_flow": null,
            "grid_area": null,
            "grid_auto_columns": null,
            "grid_auto_flow": null,
            "grid_auto_rows": null,
            "grid_column": null,
            "grid_gap": null,
            "grid_row": null,
            "grid_template_areas": null,
            "grid_template_columns": null,
            "grid_template_rows": null,
            "height": null,
            "justify_content": null,
            "justify_items": null,
            "left": null,
            "margin": null,
            "max_height": null,
            "max_width": null,
            "min_height": null,
            "min_width": null,
            "object_fit": null,
            "object_position": null,
            "order": null,
            "overflow": null,
            "overflow_x": null,
            "overflow_y": null,
            "padding": null,
            "right": null,
            "top": null,
            "visibility": null,
            "width": null
          }
        }
      }
    }
  },
  "nbformat": 4,
  "nbformat_minor": 0
}
