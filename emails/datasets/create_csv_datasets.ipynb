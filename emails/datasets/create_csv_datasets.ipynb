{
 "cells": [
  {
   "cell_type": "code",
   "execution_count": 74,
   "metadata": {},
   "outputs": [],
   "source": [
    "# !pip install -U \"pandas==2.1.0\""
   ]
  },
  {
   "cell_type": "code",
   "execution_count": 75,
   "metadata": {},
   "outputs": [],
   "source": [
    "import os \n",
    "import pandas as pd "
   ]
  },
  {
   "cell_type": "code",
   "execution_count": 76,
   "metadata": {},
   "outputs": [
    {
     "name": "stdout",
     "output_type": "stream",
     "text": [
      "2.1.0\n"
     ]
    }
   ],
   "source": [
    "print(pd.__version__)"
   ]
  },
  {
   "cell_type": "code",
   "execution_count": 41,
   "metadata": {},
   "outputs": [],
   "source": [
    "SHORT_DATASET_DIR = \"unprocessed_emails/short_emails_dataset\"\n",
    "FULL_DATASET_DIR = \"unprocessed_emails/full_emails_dataset/NEUEBEISPIELMENGE/\""
   ]
  },
  {
   "cell_type": "markdown",
   "metadata": {},
   "source": [
    "## Structure of the original dataset"
   ]
  },
  {
   "cell_type": "markdown",
   "metadata": {},
   "source": [
    "The datasets, both short and full versions, contain folders with their names representing the category of emails they contain. For example, RECHNUNHEN (invoices), MAHNUNG (reminder), STORNO (cancellation) etc. Each of these folders can contain either .txt emails or other subfolders with emails. For example, the folder RECHNUNGEN contains the ERSTRECHNUNGSANFRAGE subfolder containing emails of this subcategory."
   ]
  },
  {
   "cell_type": "markdown",
   "metadata": {},
   "source": [
    "```\n",
    ".\n",
    "└── short_emails_dataset/ \n",
    "    ├── 1000_RECHNUNGEN/\n",
    "    │   ├── 101_ERSTRECHNUNGSANFRAGE/\n",
    "    │   │   ├── ABL4.TXT\n",
    "    │   │   ├── ABL5.TXT \n",
    "    │   │   └── ...\n",
    "    │   ├── 102_RECHNUNGSANFRAGEN_ALLGEM/\n",
    "    │   │   ├── ABL1.TXT \n",
    "    │   │   ├── ABL3.TXT \n",
    "    │   │   └── ...\n",
    "    │   └── ...\n",
    "    ├── 1400_MAHNUNG/\n",
    "    │   ├── 140_MAHNUNG/\n",
    "    │   │   ├── ABL32.TXT \n",
    "    │   │   ├── ABL125.TXT \n",
    "    │   │   └── ...\n",
    "    │   ├── ...\n",
    "    │   └── ABL34.TXT \n",
    "    └── 2110_STORNO/\n",
    "        ├── ABL41.TXT\n",
    "        ├── ABL79.TXT\n",
    "        └── ...\n",
    "```"
   ]
  },
  {
   "cell_type": "markdown",
   "metadata": {},
   "source": [
    "## Short dataset generation (6 categories)"
   ]
  },
  {
   "cell_type": "code",
   "execution_count": 69,
   "metadata": {},
   "outputs": [],
   "source": [
    "# create a dictionary containing info about letters of 6 different categories\n",
    "\n",
    "email_data = {\n",
    "    'Category':[],\n",
    "    'Content':[]\n",
    "}\n",
    "\n",
    "\n",
    "# function for storing emails to python dictionary \n",
    "\n",
    "for folder in os.listdir(SHORT_DATASET_DIR):\n",
    "\n",
    "    no_num = folder.split('_')[1:]\n",
    "    clean_folder = '_'.join(no_num) \n",
    "\n",
    "    fold = os.path.join(SHORT_DATASET_DIR, folder)\n",
    "\n",
    "    for file in os.listdir(fold):\n",
    "        \n",
    "        # check if it's a folder\n",
    "        file_item = os.path.join(fold, file)\n",
    "        if os.path.isdir(file_item):\n",
    "            for f in os.listdir(file_item):\n",
    "                if f.endswith('.TXT'):\n",
    "\n",
    "                    cont = os.path.join(file_item, f)\n",
    "\n",
    "                    with open(cont, 'r', encoding='latin-1') as f:\n",
    "                        cont = f.read()\n",
    "\n",
    "                    email_data['Category'].append(clean_folder)\n",
    "                    email_data['Content'].append(cont)\n",
    "\n",
    "        # check if it's a single .txt email\n",
    "        if file.endswith('.TXT'):\n",
    "            cont = os.path.join(fold, file)\n",
    "            with open(cont, 'r', encoding='latin-1') as f:\n",
    "                cont = f.read()\n",
    "        \n",
    "                email_data['Category'].append(clean_folder)\n",
    "                email_data['Content'].append(cont)\n",
    "\n",
    "# convert dict to DataFrane with keys being column names\n",
    "df = pd.DataFrame(email_data)\n",
    "\n",
    "# save DataFrame as a .csv file\n",
    "df.to_csv('csv_datasets/short_dataset.csv')"
   ]
  },
  {
   "cell_type": "code",
   "execution_count": 70,
   "metadata": {},
   "outputs": [
    {
     "data": {
      "text/plain": [
       "array(['TARIFE', 'RECHNUNGEN', 'MAHNUNGEN', 'STORNO', 'AKTIVIERUNG_SIM',\n",
       "       'VERTRAEGE_UND_VEREINBARUN'], dtype=object)"
      ]
     },
     "execution_count": 70,
     "metadata": {},
     "output_type": "execute_result"
    }
   ],
   "source": [
    "# email categories in the short version of emails dataset\n",
    "df['Category'].unique()"
   ]
  },
  {
   "cell_type": "markdown",
   "metadata": {},
   "source": [
    "Encoding was a big issue at first. Initially, I used utf-8 for reading the emails but it failed to read special German letters. <br>\n",
    "\n",
    "Special letters:\n",
    "<ol>\n",
    "<li> Vowels with diacritics (ä, ö, ü)\n",
    "<li> ẞ (Eszett letter)\n",
    "</ol>\n",
    "\n",
    "Eventually, I used latin-1 as a decoding method. It consists of 191 characters from the Latin script. "
   ]
  },
  {
   "cell_type": "code",
   "execution_count": 58,
   "metadata": {},
   "outputs": [
    {
     "name": "stdout",
     "output_type": "stream",
     "text": [
      "An:\tKUNDENSERVICE@EPLUS\n",
      "Kopie:\t \n",
      "Datum:\t06.06.2001 08:46:53\n",
      "Betreff:\tE-Mail Beantwortung\n",
      "\n",
      "\t  \n",
      "\n",
      "\n",
      "\n",
      "Anrede         : Frau\n",
      "Name           : Sim Karte Gesperrt Thielsch Kai\n",
      "Handyrufnummer : 49 178 8820181\n",
      "Account Nummer :\n",
      "Handymodell    : 6150\n",
      "Provider       : E-Plus Service\n",
      "Email          : kaithielsch@gmx.de\n",
      "-------------------------------------\n",
      "Nachricht      : Liebes e plus Team\n",
      "Ich habe aus versehen meinen Pin und den darauffolgenden \"puk\" falsch \n",
      "eingegeben\n",
      "Nun ist meine sim karte gesperrt\n",
      "Wie kann ich einen neuen Pin bekommen damit mein handy wieder \n",
      "einsatzbereit ist??\n",
      "\n",
      "Vielen dank im vorraus\n",
      "Mit freundlichen grüßen\n",
      "Kai Thielsch\n",
      "-------------------------------------\n",
      "--444043493.991813613145.JavaMail.nsuser@apps3mn1--\n",
      "\n",
      "\n"
     ]
    }
   ],
   "source": [
    "# the first email in our dataframe\n",
    "print(df['Content'][0])"
   ]
  },
  {
   "cell_type": "markdown",
   "metadata": {},
   "source": [
    "This email was decoded correctly (pay attention to diacritics and Eszett letter).\n"
   ]
  },
  {
   "cell_type": "markdown",
   "metadata": {},
   "source": [
    "## Full dataset generation (21 categories, no subcategories)"
   ]
  },
  {
   "cell_type": "code",
   "execution_count": 42,
   "metadata": {},
   "outputs": [
    {
     "name": "stdout",
     "output_type": "stream",
     "text": [
      "ROLLEN_VORGANG.XLS\n",
      "2500_R_KUNDEN\n",
      "4100_UPGRADE_ERSATZ_GUTSCHRIFT\n",
      "2900_TARIFE\n",
      "VORGANGSLISTE.XLS\n",
      "1000_RECHNUNGEN\n",
      "1400_MAHNUNGEN\n",
      "4200_NETZ\n",
      "7000_AKTIONEN\n",
      "3100_NON_VOICE_DIENSTE\n",
      "4000_GERAETE_UND_ZUBEHOER\n",
      "6000_VERTRIEBSPARTNER\n",
      "8000_PRAEVENTION\n",
      "2400_KUENDIGUNGEN\n",
      "2110_STORNO\n",
      "2700_AKTIVIERUNG_SIM\n",
      "5000_FREE___EASY\n",
      "3400_KUNDENBETREUUNG_ONLINE\n",
      "3300_E_PLUS_ONLINE\n",
      "2100_VERTRAEGE_UND_VEREINBARUN\n",
      "2600_TEILNEHMERSTAMMDATEN\n",
      "EPLUS_EMS.IPR\n",
      "3200_MEHRWERTDIENSTE\n",
      "3000_NETZDIENSTE\n"
     ]
    }
   ],
   "source": [
    "for folder in os.listdir(FULL_DATASET_DIR):\n",
    "    print(folder)"
   ]
  },
  {
   "cell_type": "code",
   "execution_count": 19,
   "metadata": {},
   "outputs": [],
   "source": [
    "# create a dictionary which will contain info (Category and the email itself) \n",
    "# about letters of 21 categories\n",
    "email_data = {\n",
    "    'Category':[],\n",
    "    'Content':[]\n",
    "}\n",
    "\n",
    "\n",
    "# storing emails to python dictionary \n",
    "for folder in os.listdir(FULL_DATASET_DIR):\n",
    "        \n",
    "    if os.path.isdir(os.path.join(FULL_DATASET_DIR, folder)):\n",
    "\n",
    "        no_num = folder.split('_')[1:]\n",
    "        clean_folder = '_'.join(no_num) \n",
    "\n",
    "        fold = os.path.join(FULL_DATASET_DIR, folder)\n",
    "\n",
    "        for file in os.listdir(fold):\n",
    "            \n",
    "            # check if it's a folder\n",
    "            file_item = os.path.join(fold, file)\n",
    "            if os.path.isdir(file_item):\n",
    "                for f in os.listdir(file_item):\n",
    "                    if f.endswith('.TXT'):\n",
    "\n",
    "                        cont = os.path.join(file_item, f)\n",
    "\n",
    "                        with open(cont, 'r', encoding='latin-1') as f:\n",
    "                            cont = f.read()\n",
    "\n",
    "                        email_data['Category'].append(clean_folder)\n",
    "                        email_data['Content'].append(cont)\n",
    "\n",
    "            # check if it's a single .txt email\n",
    "            if file.endswith('.TXT'):\n",
    "                cont = os.path.join(fold, file)\n",
    "                with open(cont, 'r', encoding='latin-1') as f:\n",
    "                    cont = f.read()\n",
    "            \n",
    "                    email_data['Category'].append(clean_folder)\n",
    "                    email_data['Content'].append(cont)\n",
    "\n",
    "# convert dictionary to df\n",
    "df = pd.DataFrame(email_data)\n",
    "\n",
    "# save df as .csv file\n",
    "df.to_csv('csv_datasets/full_dataset.csv')"
   ]
  },
  {
   "cell_type": "code",
   "execution_count": 20,
   "metadata": {},
   "outputs": [
    {
     "data": {
      "text/plain": [
       "array(['R_KUNDEN', 'UPGRADE_ERSATZ_GUTSCHRIFT', 'TARIFE', 'RECHNUNGEN',\n",
       "       'MAHNUNGEN', 'NETZ', 'AKTIONEN', 'NON_VOICE_DIENSTE',\n",
       "       'GERAETE_UND_ZUBEHOER', 'VERTRIEBSPARTNER', 'PRAEVENTION',\n",
       "       'KUENDIGUNGEN', 'STORNO', 'AKTIVIERUNG_SIM', 'FREE___EASY',\n",
       "       'KUNDENBETREUUNG_ONLINE', 'E_PLUS_ONLINE',\n",
       "       'VERTRAEGE_UND_VEREINBARUN', 'TEILNEHMERSTAMMDATEN',\n",
       "       'MEHRWERTDIENSTE', 'NETZDIENSTE'], dtype=object)"
      ]
     },
     "execution_count": 20,
     "metadata": {},
     "output_type": "execute_result"
    }
   ],
   "source": [
    "df['Category'].unique()"
   ]
  },
  {
   "cell_type": "code",
   "execution_count": 21,
   "metadata": {},
   "outputs": [
    {
     "data": {
      "text/plain": [
       "21"
      ]
     },
     "execution_count": 21,
     "metadata": {},
     "output_type": "execute_result"
    }
   ],
   "source": [
    "df['Category'].nunique()"
   ]
  },
  {
   "cell_type": "markdown",
   "metadata": {},
   "source": [
    "## Full dataset generation (122 categories)"
   ]
  },
  {
   "cell_type": "code",
   "execution_count": 78,
   "metadata": {},
   "outputs": [],
   "source": [
    "# create a dictionary which will contain \n",
    "email_data = {\n",
    "    'Category':[],\n",
    "    'Content':[]\n",
    "}\n",
    "\n",
    "\n",
    "# function for storing emails to python dictionary \n",
    "for folder in os.listdir(FULL_DATASET_DIR):\n",
    "        \n",
    "    if os.path.isdir(os.path.join(FULL_DATASET_DIR, folder)):\n",
    "\n",
    "        no_num = folder.split('_')[1:]\n",
    "        clean_folder = '_'.join(no_num) \n",
    "\n",
    "        fold = os.path.join(FULL_DATASET_DIR, folder)\n",
    "\n",
    "        for file in os.listdir(fold):\n",
    "            \n",
    "            # check if it's a folder\n",
    "            file_item = os.path.join(fold, file)\n",
    "            if os.path.isdir(file_item):\n",
    "                for f in os.listdir(file_item):\n",
    "                    if f.endswith('.TXT'):\n",
    "\n",
    "                        cont = os.path.join(file_item, f)\n",
    "\n",
    "                        x = file_item.split('/')[-1]\n",
    "\n",
    "                        clean_fold = '_'.join(x.split('_')[1:])\n",
    "\n",
    "                        with open(cont, 'r', encoding='latin-1') as f:\n",
    "                            cont = f.read()\n",
    "\n",
    "                        email_data['Category'].append(clean_fold)\n",
    "                        email_data['Content'].append(cont)\n",
    "\n",
    "            # check if it's a single .txt email\n",
    "            if file.endswith('.TXT'):\n",
    "                cont = os.path.join(fold, file)\n",
    "                with open(cont, 'r', encoding='latin-1') as f:\n",
    "                    cont = f.read()\n",
    "            \n",
    "                    email_data['Category'].append(clean_folder)\n",
    "                    email_data['Content'].append(cont)\n",
    "\n",
    "# convert dict to df \n",
    "df = pd.DataFrame(email_data)\n",
    "\n",
    "# save df as .csv file\n",
    "df.to_csv('csv_datasets/full_dataset_with_subcategories.csv')"
   ]
  },
  {
   "cell_type": "code",
   "execution_count": 79,
   "metadata": {},
   "outputs": [
    {
     "data": {
      "text/plain": [
       "122"
      ]
     },
     "execution_count": 79,
     "metadata": {},
     "output_type": "execute_result"
    }
   ],
   "source": [
    "# the number of categories in this dataset\n",
    "df['Category'].nunique()"
   ]
  },
  {
   "cell_type": "markdown",
   "metadata": {},
   "source": [
    "## \n",
    "\n",
    "Now, we have 3 datasets which we will test using different algorithms and models. \n",
    "\n",
    "Datasets:\n",
    "<ol>\n",
    "<li> Short dataset (6 categories)\n",
    "<li> Full dataset (21 categories, subcategories excluded)\n",
    "<li> Full dataset (122 categories, subcategories counted as separate categories)\n",
    "</ol>"
   ]
  },
  {
   "cell_type": "markdown",
   "metadata": {},
   "source": []
  }
 ],
 "metadata": {
  "kernelspec": {
   "display_name": "Python 3",
   "language": "python",
   "name": "python3"
  },
  "language_info": {
   "codemirror_mode": {
    "name": "ipython",
    "version": 3
   },
   "file_extension": ".py",
   "mimetype": "text/x-python",
   "name": "python",
   "nbconvert_exporter": "python",
   "pygments_lexer": "ipython3",
   "version": "3.10.12"
  }
 },
 "nbformat": 4,
 "nbformat_minor": 2
}
