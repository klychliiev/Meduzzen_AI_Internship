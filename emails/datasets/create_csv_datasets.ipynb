{
 "cells": [
  {
   "cell_type": "code",
   "execution_count": 3,
   "metadata": {},
   "outputs": [],
   "source": [
    "import os \n",
    "import pandas as pd "
   ]
  },
  {
   "cell_type": "markdown",
   "metadata": {},
   "source": [
    "## Small dataset generation (6 categories)"
   ]
  },
  {
   "cell_type": "code",
   "execution_count": 4,
   "metadata": {},
   "outputs": [
    {
     "ename": "FileNotFoundError",
     "evalue": "[Errno 2] No such file or directory: 'datasets/short_emails_dataset'",
     "output_type": "error",
     "traceback": [
      "\u001b[0;31m---------------------------------------------------------------------------\u001b[0m",
      "\u001b[0;31mFileNotFoundError\u001b[0m                         Traceback (most recent call last)",
      "\u001b[1;32m/home/klychliiev/Desktop/Meduzzen_AI_Internship/emails/csv_datasets/create_csv_datasets.ipynb Cell 3\u001b[0m line \u001b[0;36m1\n\u001b[1;32m      <a href='vscode-notebook-cell:/home/klychliiev/Desktop/Meduzzen_AI_Internship/emails/csv_datasets/create_csv_datasets.ipynb#W2sZmlsZQ%3D%3D?line=4'>5</a>\u001b[0m email_data \u001b[39m=\u001b[39m {\n\u001b[1;32m      <a href='vscode-notebook-cell:/home/klychliiev/Desktop/Meduzzen_AI_Internship/emails/csv_datasets/create_csv_datasets.ipynb#W2sZmlsZQ%3D%3D?line=5'>6</a>\u001b[0m     \u001b[39m'\u001b[39m\u001b[39mCategory\u001b[39m\u001b[39m'\u001b[39m:[],\n\u001b[1;32m      <a href='vscode-notebook-cell:/home/klychliiev/Desktop/Meduzzen_AI_Internship/emails/csv_datasets/create_csv_datasets.ipynb#W2sZmlsZQ%3D%3D?line=6'>7</a>\u001b[0m     \u001b[39m'\u001b[39m\u001b[39mEmail\u001b[39m\u001b[39m'\u001b[39m:[],\n\u001b[1;32m      <a href='vscode-notebook-cell:/home/klychliiev/Desktop/Meduzzen_AI_Internship/emails/csv_datasets/create_csv_datasets.ipynb#W2sZmlsZQ%3D%3D?line=7'>8</a>\u001b[0m     \u001b[39m'\u001b[39m\u001b[39mContent\u001b[39m\u001b[39m'\u001b[39m:[]\n\u001b[1;32m      <a href='vscode-notebook-cell:/home/klychliiev/Desktop/Meduzzen_AI_Internship/emails/csv_datasets/create_csv_datasets.ipynb#W2sZmlsZQ%3D%3D?line=8'>9</a>\u001b[0m }\n\u001b[1;32m     <a href='vscode-notebook-cell:/home/klychliiev/Desktop/Meduzzen_AI_Internship/emails/csv_datasets/create_csv_datasets.ipynb#W2sZmlsZQ%3D%3D?line=11'>12</a>\u001b[0m \u001b[39m# function for storing emails to python dictionary \u001b[39;00m\n\u001b[0;32m---> <a href='vscode-notebook-cell:/home/klychliiev/Desktop/Meduzzen_AI_Internship/emails/csv_datasets/create_csv_datasets.ipynb#W2sZmlsZQ%3D%3D?line=13'>14</a>\u001b[0m \u001b[39mfor\u001b[39;00m folder \u001b[39min\u001b[39;00m os\u001b[39m.\u001b[39;49mlistdir(dataset_dir):\n\u001b[1;32m     <a href='vscode-notebook-cell:/home/klychliiev/Desktop/Meduzzen_AI_Internship/emails/csv_datasets/create_csv_datasets.ipynb#W2sZmlsZQ%3D%3D?line=15'>16</a>\u001b[0m     clean_folder \u001b[39m=\u001b[39m folder\u001b[39m.\u001b[39msplit(\u001b[39m'\u001b[39m\u001b[39m_\u001b[39m\u001b[39m'\u001b[39m)[\u001b[39m1\u001b[39m]\n\u001b[1;32m     <a href='vscode-notebook-cell:/home/klychliiev/Desktop/Meduzzen_AI_Internship/emails/csv_datasets/create_csv_datasets.ipynb#W2sZmlsZQ%3D%3D?line=17'>18</a>\u001b[0m     fold \u001b[39m=\u001b[39m os\u001b[39m.\u001b[39mpath\u001b[39m.\u001b[39mjoin(dataset_dir, folder)\n",
      "\u001b[0;31mFileNotFoundError\u001b[0m: [Errno 2] No such file or directory: 'datasets/short_emails_dataset'"
     ]
    }
   ],
   "source": [
    "dataset_dir = \"datasets/short_emails_dataset\"\n",
    "\n",
    "# create a dictionary containing info about letters of 6 different categories\n",
    "\n",
    "email_data = {\n",
    "    'Category':[],\n",
    "    'Email':[],\n",
    "    'Content':[]\n",
    "}\n",
    "\n",
    "\n",
    "# function for storing emails to python dictionary \n",
    "\n",
    "for folder in os.listdir(dataset_dir):\n",
    "\n",
    "    clean_folder = folder.split('_')[1]\n",
    "\n",
    "    fold = os.path.join(dataset_dir, folder)\n",
    "\n",
    "    for file in os.listdir(fold):\n",
    "        \n",
    "        # check if it's a folder\n",
    "        file_item = os.path.join(fold, file)\n",
    "        if os.path.isdir(file_item):\n",
    "            for f in os.listdir(file_item):\n",
    "                if f.endswith('.TXT'):\n",
    "\n",
    "                    cont = os.path.join(file_item, f)\n",
    "\n",
    "                    with open(cont, 'r', encoding='latin-1') as f:\n",
    "                        cont = f.read()\n",
    "\n",
    "                    email_data['Category'].append(clean_folder)\n",
    "                    email_data['Email'].append(str(f))\n",
    "                    email_data['Content'].append(cont)\n",
    "\n",
    "        # check if it's a single .txt email\n",
    "        if file.endswith('.TXT'):\n",
    "            cont = os.path.join(fold, file)\n",
    "            with open(cont, 'r', encoding='latin-1') as f:\n",
    "                cont = f.read()\n",
    "        \n",
    "                email_data['Category'].append(clean_folder)\n",
    "                email_data['Email'].append(str(f))\n",
    "                email_data['Content'].append(cont)\n",
    "\n",
    "df = pd.DataFrame(email_data)\n",
    "\n",
    "df.to_csv('csv_datasets/emails_df.csv')"
   ]
  },
  {
   "cell_type": "markdown",
   "metadata": {},
   "source": [
    "## Full dataset (subcategories excluded)"
   ]
  },
  {
   "cell_type": "code",
   "execution_count": 3,
   "metadata": {},
   "outputs": [
    {
     "name": "stdout",
     "output_type": "stream",
     "text": [
      "ROLLEN_VORGANG.XLS\n",
      "2500_R_KUNDEN\n",
      "4100_UPGRADE_ERSATZ_GUTSCHRIFT\n",
      "2900_TARIFE\n",
      "VORGANGSLISTE.XLS\n",
      "1000_RECHNUNGEN\n",
      "1400_MAHNUNGEN\n",
      "4200_NETZ\n",
      "7000_AKTIONEN\n",
      "3100_NON_VOICE_DIENSTE\n",
      "4000_GERAETE_UND_ZUBEHOER\n",
      "6000_VERTRIEBSPARTNER\n",
      "8000_PRAEVENTION\n",
      "2400_KUENDIGUNGEN\n",
      "2110_STORNO\n",
      "2700_AKTIVIERUNG_SIM\n",
      "5000_FREE___EASY\n",
      "3400_KUNDENBETREUUNG_ONLINE\n",
      "3300_E_PLUS_ONLINE\n",
      "2100_VERTRAEGE_UND_VEREINBARUN\n",
      "2600_TEILNEHMERSTAMMDATEN\n",
      "EPLUS_EMS.IPR\n",
      "3200_MEHRWERTDIENSTE\n",
      "3000_NETZDIENSTE\n"
     ]
    }
   ],
   "source": [
    "dataset_dir = 'datasets/full_emails_dataset/NEUEBEISPIELMENGE/'\n",
    "\n",
    "for folder in os.listdir(dataset_dir):\n",
    "    print(folder)"
   ]
  },
  {
   "cell_type": "code",
   "execution_count": null,
   "metadata": {},
   "outputs": [],
   "source": []
  },
  {
   "cell_type": "code",
   "execution_count": 5,
   "metadata": {},
   "outputs": [],
   "source": [
    "dataset_dir = 'datasets/full_emails_dataset/NEUEBEISPIELMENGE/'\n",
    "\n",
    "# create a dictionary containing info about letters of 6 different categories\n",
    "\n",
    "email_data = {\n",
    "    'Category':[],\n",
    "    'Email':[],\n",
    "    'Content':[]\n",
    "}\n",
    "\n",
    "\n",
    "# function for storing emails to python dictionary \n",
    "\n",
    "for folder in os.listdir(dataset_dir):\n",
    "        \n",
    "    if os.path.isdir(os.path.join(dataset_dir, folder)):\n",
    "\n",
    "        no_num = folder.split('_')[1:]\n",
    "        clean_folder = '_'.join(no_num) \n",
    "\n",
    "        fold = os.path.join(dataset_dir, folder)\n",
    "\n",
    "        for file in os.listdir(fold):\n",
    "            \n",
    "            # check if it's a folder\n",
    "            file_item = os.path.join(fold, file)\n",
    "            if os.path.isdir(file_item):\n",
    "                for f in os.listdir(file_item):\n",
    "                    if f.endswith('.TXT'):\n",
    "\n",
    "                        cont = os.path.join(file_item, f)\n",
    "\n",
    "                        with open(cont, 'r', encoding='latin-1') as f:\n",
    "                            cont = f.read()\n",
    "\n",
    "                        email_data['Category'].append(clean_folder)\n",
    "                        email_data['Email'].append(str(f))\n",
    "                        email_data['Content'].append(cont)\n",
    "\n",
    "            # check if it's a single .txt email\n",
    "            if file.endswith('.TXT'):\n",
    "                cont = os.path.join(fold, file)\n",
    "                with open(cont, 'r', encoding='latin-1') as f:\n",
    "                    cont = f.read()\n",
    "            \n",
    "                    email_data['Category'].append(clean_folder)\n",
    "                    email_data['Email'].append(str(f))\n",
    "                    email_data['Content'].append(cont)\n",
    "\n",
    "df = pd.DataFrame(email_data)\n",
    "\n",
    "df.to_csv('csv_datasets/full_dataset.csv')"
   ]
  },
  {
   "cell_type": "code",
   "execution_count": 6,
   "metadata": {},
   "outputs": [
    {
     "data": {
      "text/plain": [
       "array(['R_KUNDEN', 'UPGRADE_ERSATZ_GUTSCHRIFT', 'TARIFE', 'RECHNUNGEN',\n",
       "       'MAHNUNGEN', 'NETZ', 'AKTIONEN', 'NON_VOICE_DIENSTE',\n",
       "       'GERAETE_UND_ZUBEHOER', 'VERTRIEBSPARTNER', 'PRAEVENTION',\n",
       "       'KUENDIGUNGEN', 'STORNO', 'AKTIVIERUNG_SIM', 'FREE___EASY',\n",
       "       'KUNDENBETREUUNG_ONLINE', 'E_PLUS_ONLINE',\n",
       "       'VERTRAEGE_UND_VEREINBARUN', 'TEILNEHMERSTAMMDATEN',\n",
       "       'MEHRWERTDIENSTE', 'NETZDIENSTE'], dtype=object)"
      ]
     },
     "execution_count": 6,
     "metadata": {},
     "output_type": "execute_result"
    }
   ],
   "source": [
    "df['Category'].unique()"
   ]
  },
  {
   "cell_type": "code",
   "execution_count": 7,
   "metadata": {},
   "outputs": [
    {
     "data": {
      "text/plain": [
       "21"
      ]
     },
     "execution_count": 7,
     "metadata": {},
     "output_type": "execute_result"
    }
   ],
   "source": [
    "df['Category'].nunique()"
   ]
  },
  {
   "cell_type": "code",
   "execution_count": 8,
   "metadata": {},
   "outputs": [
    {
     "data": {
      "image/png": "[encoded data removed]",
      "text/plain": [
       "<Figure size 800x600 with 1 Axes>"
      ]
     },
     "metadata": {},
     "output_type": "display_data"
    }
   ],
   "source": [
    "import matplotlib.pyplot as plt \n",
    "\n",
    "# Count the occurrences of each class\n",
    "class_counts = df['Category'].value_counts()\n",
    "\n",
    "# Plotting the class distribution\n",
    "plt.figure(figsize=(8, 6))\n",
    "class_counts.plot(kind='bar', color=(0.01,0.01,0.31))\n",
    "plt.title('Class Distribution')\n",
    "plt.xlabel('Classes')\n",
    "plt.ylabel('Count')\n",
    "plt.xticks(rotation=0)  # Rotate x-axis labels if needed\n",
    "plt.show()"
   ]
  },
  {
   "cell_type": "markdown",
   "metadata": {},
   "source": [
    "## Full dataset (subcategories included)"
   ]
  },
  {
   "cell_type": "code",
   "execution_count": 31,
   "metadata": {},
   "outputs": [],
   "source": [
    "dataset_dir = 'datasets/full_emails_dataset/NEUEBEISPIELMENGE/'\n",
    "\n",
    "# create a dictionary containing info about letters of 6 different categories\n",
    "\n",
    "email_data = {\n",
    "    'Category':[],\n",
    "    'Email':[],\n",
    "    'Content':[]\n",
    "}\n",
    "\n",
    "\n",
    "# function for storing emails to python dictionary \n",
    "\n",
    "for folder in os.listdir(dataset_dir):\n",
    "        \n",
    "    if os.path.isdir(os.path.join(dataset_dir, folder)):\n",
    "\n",
    "\n",
    "        clean_folder = folder.split('_')[1:]\n",
    "\n",
    "        fold = os.path.join(dataset_dir, folder)\n",
    "\n",
    "        for file in os.listdir(fold):\n",
    "            \n",
    "            # check if it's a folder\n",
    "            file_item = os.path.join(fold, file)\n",
    "            if os.path.isdir(file_item):\n",
    "                for f in os.listdir(file_item):\n",
    "                    if f.endswith('.TXT'):\n",
    "\n",
    "                        cont = os.path.join(file_item, f)\n",
    "\n",
    "                        x = file_item.split('/')[-1]\n",
    "\n",
    "                        with open(cont, 'r', encoding='latin-1') as f:\n",
    "                            cont = f.read()\n",
    "\n",
    "                        email_data['Category'].append(x)\n",
    "                        email_data['Email'].append(str(f))\n",
    "                        email_data['Content'].append(cont)\n",
    "\n",
    "            # check if it's a single .txt email\n",
    "            if file.endswith('.TXT'):\n",
    "                cont = os.path.join(fold, file)\n",
    "                with open(cont, 'r', encoding='latin-1') as f:\n",
    "                    cont = f.read()\n",
    "            \n",
    "                    email_data['Category'].append(clean_folder)\n",
    "                    email_data['Email'].append(str(f))\n",
    "                    email_data['Content'].append(cont)\n",
    "\n",
    "df = pd.DataFrame(email_data)\n",
    "\n",
    "df.to_csv('csv_datasets/df.csv')"
   ]
  },
  {
   "cell_type": "code",
   "execution_count": 32,
   "metadata": {},
   "outputs": [
    {
     "data": {
      "text/html": [
       "<div>\n",
       "<style scoped>\n",
       "    .dataframe tbody tr th:only-of-type {\n",
       "        vertical-align: middle;\n",
       "    }\n",
       "\n",
       "    .dataframe tbody tr th {\n",
       "        vertical-align: top;\n",
       "    }\n",
       "\n",
       "    .dataframe thead th {\n",
       "        text-align: right;\n",
       "    }\n",
       "</style>\n",
       "<table border=\"1\" class=\"dataframe\">\n",
       "  <thead>\n",
       "    <tr style=\"text-align: right;\">\n",
       "      <th></th>\n",
       "      <th>Category</th>\n",
       "      <th>Email</th>\n",
       "      <th>Content</th>\n",
       "    </tr>\n",
       "  </thead>\n",
       "  <tbody>\n",
       "    <tr>\n",
       "      <th>0</th>\n",
       "      <td>[R, KUNDEN]</td>\n",
       "      <td>&lt;_io.TextIOWrapper name='datasets/full_emails_...</td>\n",
       "      <td>An:\\tKUNDENSERVICE@EPLUS\\nKopie:\\t \\nDatum:\\t1...</td>\n",
       "    </tr>\n",
       "    <tr>\n",
       "      <th>1</th>\n",
       "      <td>206_UMSTELLUNG_AUF_RV</td>\n",
       "      <td>&lt;_io.TextIOWrapper name='datasets/full_emails_...</td>\n",
       "      <td>An:\\tKUNDENSERVICE@EPLUS\\nKopie:\\t \\nDatum:\\t3...</td>\n",
       "    </tr>\n",
       "    <tr>\n",
       "      <th>2</th>\n",
       "      <td>206_UMSTELLUNG_AUF_RV</td>\n",
       "      <td>&lt;_io.TextIOWrapper name='datasets/full_emails_...</td>\n",
       "      <td>An:\\tKUNDENSERVICE@EPLUS\\nKopie:\\t \\nDatum:\\t1...</td>\n",
       "    </tr>\n",
       "    <tr>\n",
       "      <th>3</th>\n",
       "      <td>206_UMSTELLUNG_AUF_RV</td>\n",
       "      <td>&lt;_io.TextIOWrapper name='datasets/full_emails_...</td>\n",
       "      <td>An:\\tKUNDENSERVICE@EPLUS\\nKopie:\\t \\nDatum:\\t0...</td>\n",
       "    </tr>\n",
       "    <tr>\n",
       "      <th>4</th>\n",
       "      <td>409_GERAETE_ERSATZ</td>\n",
       "      <td>&lt;_io.TextIOWrapper name='datasets/full_emails_...</td>\n",
       "      <td>An:\\tKUNDENSERVICE@EPLUS\\nKopie:\\t \\nDatum:\\t2...</td>\n",
       "    </tr>\n",
       "    <tr>\n",
       "      <th>...</th>\n",
       "      <td>...</td>\n",
       "      <td>...</td>\n",
       "      <td>...</td>\n",
       "    </tr>\n",
       "    <tr>\n",
       "      <th>2443</th>\n",
       "      <td>304_ANRUFSPERRUNGEN</td>\n",
       "      <td>&lt;_io.TextIOWrapper name='datasets/full_emails_...</td>\n",
       "      <td>An:\\tKUNDENSERVICE@EPLUS\\nKopie:\\t \\nDatum:\\t1...</td>\n",
       "    </tr>\n",
       "    <tr>\n",
       "      <th>2444</th>\n",
       "      <td>304_ANRUFSPERRUNGEN</td>\n",
       "      <td>&lt;_io.TextIOWrapper name='datasets/full_emails_...</td>\n",
       "      <td>An:\\tKUNDENSERVICE@EPLUS\\nKopie:\\t \\nDatum:\\t2...</td>\n",
       "    </tr>\n",
       "    <tr>\n",
       "      <th>2445</th>\n",
       "      <td>304_ANRUFSPERRUNGEN</td>\n",
       "      <td>&lt;_io.TextIOWrapper name='datasets/full_emails_...</td>\n",
       "      <td>An:\\tKUNDENSERVICE@EPLUS\\nKopie:\\t \\nDatum:\\t1...</td>\n",
       "    </tr>\n",
       "    <tr>\n",
       "      <th>2446</th>\n",
       "      <td>[NETZDIENSTE]</td>\n",
       "      <td>&lt;_io.TextIOWrapper name='datasets/full_emails_...</td>\n",
       "      <td>An:\\tKUNDENSERVICE@EPLUS\\nKopie:\\t \\nDatum:\\t0...</td>\n",
       "    </tr>\n",
       "    <tr>\n",
       "      <th>2447</th>\n",
       "      <td>[NETZDIENSTE]</td>\n",
       "      <td>&lt;_io.TextIOWrapper name='datasets/full_emails_...</td>\n",
       "      <td>An:\\tKUNDENSERVICE@EPLUS\\nKopie:\\t \\nDatum:\\t1...</td>\n",
       "    </tr>\n",
       "  </tbody>\n",
       "</table>\n",
       "<p>2448 rows × 3 columns</p>\n",
       "</div>"
      ],
      "text/plain": [
       "                   Category  \\\n",
       "0               [R, KUNDEN]   \n",
       "1     206_UMSTELLUNG_AUF_RV   \n",
       "2     206_UMSTELLUNG_AUF_RV   \n",
       "3     206_UMSTELLUNG_AUF_RV   \n",
       "4        409_GERAETE_ERSATZ   \n",
       "...                     ...   \n",
       "2443    304_ANRUFSPERRUNGEN   \n",
       "2444    304_ANRUFSPERRUNGEN   \n",
       "2445    304_ANRUFSPERRUNGEN   \n",
       "2446          [NETZDIENSTE]   \n",
       "2447          [NETZDIENSTE]   \n",
       "\n",
       "                                                  Email  \\\n",
       "0     <_io.TextIOWrapper name='datasets/full_emails_...   \n",
       "1     <_io.TextIOWrapper name='datasets/full_emails_...   \n",
       "2     <_io.TextIOWrapper name='datasets/full_emails_...   \n",
       "3     <_io.TextIOWrapper name='datasets/full_emails_...   \n",
       "4     <_io.TextIOWrapper name='datasets/full_emails_...   \n",
       "...                                                 ...   \n",
       "2443  <_io.TextIOWrapper name='datasets/full_emails_...   \n",
       "2444  <_io.TextIOWrapper name='datasets/full_emails_...   \n",
       "2445  <_io.TextIOWrapper name='datasets/full_emails_...   \n",
       "2446  <_io.TextIOWrapper name='datasets/full_emails_...   \n",
       "2447  <_io.TextIOWrapper name='datasets/full_emails_...   \n",
       "\n",
       "                                                Content  \n",
       "0     An:\\tKUNDENSERVICE@EPLUS\\nKopie:\\t \\nDatum:\\t1...  \n",
       "1     An:\\tKUNDENSERVICE@EPLUS\\nKopie:\\t \\nDatum:\\t3...  \n",
       "2     An:\\tKUNDENSERVICE@EPLUS\\nKopie:\\t \\nDatum:\\t1...  \n",
       "3     An:\\tKUNDENSERVICE@EPLUS\\nKopie:\\t \\nDatum:\\t0...  \n",
       "4     An:\\tKUNDENSERVICE@EPLUS\\nKopie:\\t \\nDatum:\\t2...  \n",
       "...                                                 ...  \n",
       "2443  An:\\tKUNDENSERVICE@EPLUS\\nKopie:\\t \\nDatum:\\t1...  \n",
       "2444  An:\\tKUNDENSERVICE@EPLUS\\nKopie:\\t \\nDatum:\\t2...  \n",
       "2445  An:\\tKUNDENSERVICE@EPLUS\\nKopie:\\t \\nDatum:\\t1...  \n",
       "2446  An:\\tKUNDENSERVICE@EPLUS\\nKopie:\\t \\nDatum:\\t0...  \n",
       "2447  An:\\tKUNDENSERVICE@EPLUS\\nKopie:\\t \\nDatum:\\t1...  \n",
       "\n",
       "[2448 rows x 3 columns]"
      ]
     },
     "execution_count": 32,
     "metadata": {},
     "output_type": "execute_result"
    }
   ],
   "source": [
    "df"
   ]
  },
  {
   "cell_type": "code",
   "execution_count": null,
   "metadata": {},
   "outputs": [],
   "source": []
  }
 ],
 "metadata": {
  "kernelspec": {
   "display_name": "Python 3",
   "language": "python",
   "name": "python3"
  },
  "language_info": {
   "codemirror_mode": {
    "name": "ipython",
    "version": 3
   },
   "file_extension": ".py",
   "mimetype": "text/x-python",
   "name": "python",
   "nbconvert_exporter": "python",
   "pygments_lexer": "ipython3",
   "version": "3.10.12"
  }
 },
 "nbformat": 4,
 "nbformat_minor": 2
}
